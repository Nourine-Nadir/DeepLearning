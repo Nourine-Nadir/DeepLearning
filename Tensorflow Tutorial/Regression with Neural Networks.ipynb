{
 "cells": [
  {
   "cell_type": "code",
   "execution_count": 95,
   "id": "initial_id",
   "metadata": {
    "collapsed": true,
    "ExecuteTime": {
     "end_time": "2024-04-14T21:35:41.736459900Z",
     "start_time": "2024-04-14T21:35:41.667569100Z"
    }
   },
   "outputs": [
    {
     "name": "stdout",
     "output_type": "stream",
     "text": [
      "Num GPUs Available:  1\n",
      "2.10.0\n"
     ]
    }
   ],
   "source": [
    "import tensorflow as tf\n",
    "print(\"Num GPUs Available: \", len(tf.config.list_physical_devices('GPU')))\n",
    "print(tf.__version__)"
   ]
  },
  {
   "cell_type": "markdown",
   "source": [
    "## Creating data to view and fit"
   ],
   "metadata": {
    "collapsed": false
   },
   "id": "55d752d8bebbd002"
  },
  {
   "cell_type": "code",
   "outputs": [
    {
     "data": {
      "text/plain": "array([ True,  True,  True,  True,  True,  True,  True,  True])"
     },
     "execution_count": 96,
     "metadata": {},
     "output_type": "execute_result"
    },
    {
     "data": {
      "text/plain": "<Figure size 640x480 with 1 Axes>",
      "image/png": "[encoded data removed]"
     },
     "metadata": {},
     "output_type": "display_data"
    }
   ],
   "source": [
    "import numpy as np\n",
    "import matplotlib.pyplot as plt\n",
    "\n",
    "X = np.array([-7.0, -4.0, -1.0, 2.0, 5.0, 8.0, 11.0, 14.0])\n",
    "\n",
    "y = np.array([3.0, 6.0, 9.0, 12.0, 15.0, 18.0, 21.0, 24.0])\n",
    "\n",
    "# Visualize it\n",
    "plt.scatter(X,y)\n",
    "y == X + 10"
   ],
   "metadata": {
    "collapsed": false,
    "ExecuteTime": {
     "end_time": "2024-04-14T21:35:41.854706600Z",
     "start_time": "2024-04-14T21:35:41.727210600Z"
    }
   },
   "id": "319486e29222ab5f",
   "execution_count": 96
  },
  {
   "cell_type": "markdown",
   "source": [
    "## Input and output shapes"
   ],
   "metadata": {
    "collapsed": false
   },
   "id": "2b4ad4b027344750"
  },
  {
   "cell_type": "code",
   "outputs": [
    {
     "data": {
      "text/plain": "((8,), (8,))"
     },
     "execution_count": 97,
     "metadata": {},
     "output_type": "execute_result"
    }
   ],
   "source": [
    "X.shape, y.shape"
   ],
   "metadata": {
    "collapsed": false,
    "ExecuteTime": {
     "end_time": "2024-04-14T21:35:41.855725900Z",
     "start_time": "2024-04-14T21:35:41.827886500Z"
    }
   },
   "id": "3a98d1fba109a572",
   "execution_count": 97
  },
  {
   "cell_type": "code",
   "outputs": [
    {
     "data": {
      "text/plain": "(array([-7., -4., -1.,  2.,  5.,  8., 11., 14.]),\n array([ 3.,  6.,  9., 12., 15., 18., 21., 24.]))"
     },
     "execution_count": 98,
     "metadata": {},
     "output_type": "execute_result"
    }
   ],
   "source": [
    "\n",
    "# Turn our NumPy arrays into tensors with dtype float32\n",
    "# X = tf.cast(tf.constant(X), dtype=tf.float32)\n",
    "# y = tf.cast(tf.constant(y), dtype=tf.float32)\n",
    "X, y"
   ],
   "metadata": {
    "collapsed": false,
    "ExecuteTime": {
     "end_time": "2024-04-14T21:35:41.897006700Z",
     "start_time": "2024-04-14T21:35:41.842362700Z"
    }
   },
   "id": "5e53272e2cd70d9",
   "execution_count": 98
  },
  {
   "cell_type": "markdown",
   "source": [
    "**Note:** shape of inputs should not be 1"
   ],
   "metadata": {
    "collapsed": false
   },
   "id": "e30f028a84880728"
  },
  {
   "cell_type": "code",
   "outputs": [
    {
     "data": {
      "text/plain": "(<tf.Tensor: shape=(8, 1), dtype=float64, numpy=\n array([[-7.],\n        [-4.],\n        [-1.],\n        [ 2.],\n        [ 5.],\n        [ 8.],\n        [11.],\n        [14.]])>,\n array([ 3.,  6.,  9., 12., 15., 18., 21., 24.]))"
     },
     "execution_count": 99,
     "metadata": {},
     "output_type": "execute_result"
    }
   ],
   "source": [
    "X= tf.expand_dims(X,axis=-1)\n",
    "\n",
    "X,y"
   ],
   "metadata": {
    "collapsed": false,
    "ExecuteTime": {
     "end_time": "2024-04-14T21:35:41.898039500Z",
     "start_time": "2024-04-14T21:35:41.861960500Z"
    }
   },
   "id": "6588fcb62f3c5064",
   "execution_count": 99
  },
  {
   "cell_type": "code",
   "outputs": [
    {
     "data": {
      "text/plain": "(tf.float64, dtype('float64'))"
     },
     "execution_count": 100,
     "metadata": {},
     "output_type": "execute_result"
    }
   ],
   "source": [
    "X.dtype, y.dtype"
   ],
   "metadata": {
    "collapsed": false,
    "ExecuteTime": {
     "end_time": "2024-04-14T21:35:41.932114600Z",
     "start_time": "2024-04-14T21:35:41.873370200Z"
    }
   },
   "id": "677b99cd665e1975",
   "execution_count": 100
  },
  {
   "cell_type": "markdown",
   "source": [
    "## Steps in modelling with Tensorflow\n",
    "\n",
    "1. **Creating a model** - define the input and output layers, as well as the hidden layers pf a machine(deep) learning model.\n",
    "2. **Compiling a model** - define the loss function, the optimizer and evaluation metrics. \n",
    "3. **Fitting a model** - letting the model try to find patterns between inputs and outputs"
   ],
   "metadata": {
    "collapsed": false
   },
   "id": "4901f9221c94bc3c"
  },
  {
   "cell_type": "markdown",
   "source": [
    "### Sequential way to build a model"
   ],
   "metadata": {
    "collapsed": false
   },
   "id": "8031b6c4d71fe89"
  },
  {
   "cell_type": "code",
   "outputs": [
    {
     "name": "stdout",
     "output_type": "stream",
     "text": [
      "Epoch 1/5\n",
      "1/1 [==============================] - 0s 214ms/step - loss: 13.0404 - mae: 13.0404\n",
      "Epoch 2/5\n",
      "1/1 [==============================] - 0s 5ms/step - loss: 13.0029 - mae: 13.0029\n",
      "Epoch 3/5\n",
      "1/1 [==============================] - 0s 4ms/step - loss: 12.9654 - mae: 12.9654\n",
      "Epoch 4/5\n",
      "1/1 [==============================] - 0s 3ms/step - loss: 12.9279 - mae: 12.9279\n",
      "Epoch 5/5\n",
      "1/1 [==============================] - 0s 5ms/step - loss: 12.8904 - mae: 12.8904\n"
     ]
    },
    {
     "data": {
      "text/plain": "<keras.callbacks.History at 0x18d9f8dc730>"
     },
     "execution_count": 101,
     "metadata": {},
     "output_type": "execute_result"
    }
   ],
   "source": [
    "# Set random seed \n",
    "tf.random.set_seed(42)\n",
    "\n",
    "# 1. Create a model using sequential API\n",
    "model = tf.keras.models.Sequential([\n",
    "    tf.keras.layers.Dense(1,activation='relu')\n",
    "])\n",
    "\n",
    "# 2. Compile the model\n",
    "model.compile(loss=tf.keras.losses.mae,\n",
    "              optimizer = tf.keras.optimizers.Adam(learning_rate=0.1),\n",
    "              metrics='mae' ) # mae : mean absolute error\n",
    "# 3. Fit the model\n",
    "model.fit(X,y,epochs=5)"
   ],
   "metadata": {
    "collapsed": false,
    "ExecuteTime": {
     "end_time": "2024-04-14T21:35:42.288498600Z",
     "start_time": "2024-04-14T21:35:41.889856600Z"
    }
   },
   "id": "b19ebed8b1d39a87",
   "execution_count": 101
  },
  {
   "cell_type": "markdown",
   "source": [
    "**MAE function :**\n"
   ],
   "metadata": {
    "collapsed": false
   },
   "id": "7aa9262168ef25f3"
  },
  {
   "cell_type": "code",
   "outputs": [
    {
     "data": {
      "text/plain": "array([1., 3.])"
     },
     "execution_count": 102,
     "metadata": {},
     "output_type": "execute_result"
    }
   ],
   "source": [
    "y_true = np.array([[1, 2, 3], [4, 5, 6]])\n",
    "y_pred = np.array([[2, 3, 2], [7, 1, 4]])\n",
    "loss = np.mean(abs(y_true - y_pred), axis=-1)\n",
    "loss\n",
    "#axis=-1: Indicates that the mean should be calculated along the last axis of the input array."
   ],
   "metadata": {
    "collapsed": false,
    "ExecuteTime": {
     "end_time": "2024-04-14T21:35:42.296801600Z",
     "start_time": "2024-04-14T21:35:42.278262900Z"
    }
   },
   "id": "ee03bdadd543942c",
   "execution_count": 102
  },
  {
   "cell_type": "markdown",
   "source": [
    "### Functional API way to build a model"
   ],
   "metadata": {
    "collapsed": false
   },
   "id": "fb5807c95713a472"
  },
  {
   "cell_type": "code",
   "outputs": [
    {
     "name": "stdout",
     "output_type": "stream",
     "text": [
      "Epoch 1/5\n",
      "1/1 [==============================] - 0s 177ms/step - loss: 16.0534 - mae: 16.0534\n",
      "Epoch 2/5\n",
      "1/1 [==============================] - 0s 5ms/step - loss: 13.7897 - mae: 13.7897\n",
      "Epoch 3/5\n",
      "1/1 [==============================] - 0s 5ms/step - loss: 12.4647 - mae: 12.4647\n",
      "Epoch 4/5\n",
      "1/1 [==============================] - 0s 4ms/step - loss: 11.1397 - mae: 11.1397\n",
      "Epoch 5/5\n",
      "1/1 [==============================] - 0s 3ms/step - loss: 9.8147 - mae: 9.8147\n"
     ]
    },
    {
     "data": {
      "text/plain": "<keras.callbacks.History at 0x18db62a8a90>"
     },
     "execution_count": 103,
     "metadata": {},
     "output_type": "execute_result"
    }
   ],
   "source": [
    "model2 = tf.keras.models.Sequential()\n",
    "model2.add(tf.keras.layers.Dense(1))\n",
    "\n",
    "model2.compile(loss=tf.keras.losses.mae,\n",
    "               optimizer=tf.keras.optimizers.SGD(learning_rate=0.1),\n",
    "               metrics=['mae'])\n",
    "\n",
    "model2.fit(X,y,epochs=5)"
   ],
   "metadata": {
    "collapsed": false,
    "ExecuteTime": {
     "end_time": "2024-04-14T21:35:42.557243600Z",
     "start_time": "2024-04-14T21:35:42.293699900Z"
    }
   },
   "id": "e131b7bffd8de93c",
   "execution_count": 103
  },
  {
   "cell_type": "code",
   "outputs": [
    {
     "name": "stdout",
     "output_type": "stream",
     "text": [
      "epoch : 1 | loss: 8.489736557006836\n",
      "epoch : 10 | loss: 6.618750095367432\n",
      "epoch : 20 | loss: 6.056249618530273\n",
      "epoch : 30 | loss: 5.512499809265137\n",
      "epoch : 40 | loss: 4.9499993324279785\n",
      "epoch : 50 | loss: 4.40625\n"
     ]
    },
    {
     "data": {
      "text/plain": "<keras.callbacks.History at 0x18db6336a30>"
     },
     "execution_count": 104,
     "metadata": {},
     "output_type": "execute_result"
    }
   ],
   "source": [
    "class personalized_Callback(tf.keras.callbacks.Callback):\n",
    "    def __init__(self, SHOW_NUMBER=10):\n",
    "        super().__init__()\n",
    "        self.SHOW_NUMBER = SHOW_NUMBER\n",
    "        self.counter = 1\n",
    "        # self.epoch=0\n",
    "\n",
    "    def on_epoch_begin(self, epoch, logs=None):\n",
    "       self.epoch=epoch +1\n",
    "    def on_train_batch_end(self, batch, logs=None):\n",
    "        \n",
    "        if (self.counter % self.SHOW_NUMBER) == 0 or self.epoch == 1:\n",
    "            print(f'epoch : {self.epoch } | loss: {logs[\"loss\"]}')\n",
    "        self.counter +=1\n",
    "\n",
    "model2.fit(X, y, epochs=50,  callbacks=[personalized_Callback()], verbose=0)"
   ],
   "metadata": {
    "collapsed": false,
    "ExecuteTime": {
     "end_time": "2024-04-14T21:35:42.864759500Z",
     "start_time": "2024-04-14T21:35:42.556243200Z"
    }
   },
   "id": "81943cbef10ca030",
   "execution_count": 104
  },
  {
   "cell_type": "markdown",
   "source": [
    "### Make a prediction with our model"
   ],
   "metadata": {
    "collapsed": false
   },
   "id": "84b7d904f846134f"
  },
  {
   "cell_type": "code",
   "outputs": [
    {
     "name": "stdout",
     "output_type": "stream",
     "text": [
      "WARNING:tensorflow:5 out of the last 13 calls to <function Model.make_predict_function.<locals>.predict_function at 0x0000018DB625E820> triggered tf.function retracing. Tracing is expensive and the excessive number of tracings could be due to (1) creating @tf.function repeatedly in a loop, (2) passing tensors with different shapes, (3) passing Python objects instead of tensors. For (1), please define your @tf.function outside of the loop. For (2), @tf.function has reduce_retracing=True option that can avoid unnecessary retracing. For (3), please refer to https://www.tensorflow.org/guide/function#controlling_retracing and https://www.tensorflow.org/api_docs/python/tf/function for  more details.\n",
      "1/1 [==============================] - 0s 47ms/step\n",
      "1/1 [==============================] - 0s 50ms/step\n"
     ]
    },
    {
     "data": {
      "text/plain": "(array([[26.261848],\n        [33.6158  ],\n        [38.028168]], dtype=float32),\n array([[0.],\n        [0.],\n        [0.]], dtype=float32))"
     },
     "execution_count": 105,
     "metadata": {},
     "output_type": "execute_result"
    }
   ],
   "source": [
    "model2.predict([15,20,23]),model.predict([17,20,23])"
   ],
   "metadata": {
    "collapsed": false,
    "ExecuteTime": {
     "end_time": "2024-04-14T21:35:43.020560800Z",
     "start_time": "2024-04-14T21:35:42.865758400Z"
    }
   },
   "id": "5fd2e4b22d509b37",
   "execution_count": 105
  },
  {
   "cell_type": "markdown",
   "source": [
    " ### Improving our model\n",
    " \n",
    "We can improve our model, by altering the steps we took to create a model.\n",
    "\n",
    "1. **Creating a model** - here we might add more layers, increase the nb of hidden layer units within each of the hidden layers, change the activation function of each layer.\n",
    "2. **Compiling a model** - you might want to choose optimization function or perhaps change the learning rate of the optimization function.\n",
    "3. **Fitting a model** - perhaps you could fit a model for more epochs (leave it training for longer) or on more data (give the model more examples to learn from)."
   ],
   "metadata": {
    "collapsed": false
   },
   "id": "9528d7f563444598"
  },
  {
   "cell_type": "markdown",
   "source": [
    "### <i>More epochs!</i>"
   ],
   "metadata": {
    "collapsed": false
   },
   "id": "d01c15ff00d76205"
  },
  {
   "cell_type": "code",
   "outputs": [
    {
     "name": "stdout",
     "output_type": "stream",
     "text": [
      "epoch : 1 | loss: 12.972293853759766\n",
      "epoch : 20 | loss: 10.454792022705078\n",
      "epoch : 40 | loss: 7.804793834686279\n",
      "epoch : 60 | loss: 7.085625171661377\n",
      "epoch : 80 | loss: 6.973125457763672\n",
      "epoch : 100 | loss: 6.860625743865967\n"
     ]
    },
    {
     "data": {
      "text/plain": "<keras.callbacks.History at 0x18db639df70>"
     },
     "execution_count": 106,
     "metadata": {},
     "output_type": "execute_result"
    }
   ],
   "source": [
    "\n",
    "# Let's rebuild our model\n",
    "\n",
    "# 1. Create the model\n",
    "model3 = tf.keras.Sequential([\n",
    "  tf.keras.layers.Dense(1)\n",
    "])\n",
    "\n",
    "# 2. Compile the model\n",
    "model3.compile(loss=tf.keras.losses.mae,\n",
    "              optimizer=tf.keras.optimizers.SGD(),\n",
    "              metrics=[\"mae\"])\n",
    "\n",
    "# 3. Fit the model (this time we'll train for longer)\n",
    "model3.fit(X, y, epochs=100,verbose=0,callbacks=[personalized_Callback(SHOW_NUMBER=20)]) # verbose=0 to skip printing details about training\n"
   ],
   "metadata": {
    "collapsed": false,
    "ExecuteTime": {
     "end_time": "2024-04-14T21:35:43.532472600Z",
     "start_time": "2024-04-14T21:35:43.019521700Z"
    }
   },
   "id": "24882142348790a1",
   "execution_count": 106
  },
  {
   "cell_type": "code",
   "outputs": [
    {
     "name": "stdout",
     "output_type": "stream",
     "text": [
      "1/1 [==============================] - 0s 48ms/step\n"
     ]
    },
    {
     "data": {
      "text/plain": "array([[29.60314]], dtype=float32)"
     },
     "execution_count": 107,
     "metadata": {},
     "output_type": "execute_result"
    }
   ],
   "source": [
    "model3.predict([17]) \n"
   ],
   "metadata": {
    "collapsed": false,
    "ExecuteTime": {
     "end_time": "2024-04-14T21:35:43.613551900Z",
     "start_time": "2024-04-14T21:35:43.531412300Z"
    }
   },
   "id": "c08c26383bea671f",
   "execution_count": 107
  },
  {
   "cell_type": "markdown",
   "source": [
    "**Big improvment error of 2.xxx on this prediction and LOSS +=- 6**"
   ],
   "metadata": {
    "collapsed": false
   },
   "id": "2b05d09cebb3f7b2"
  },
  {
   "cell_type": "markdown",
   "source": [
    "### <i>More layers!</i>"
   ],
   "metadata": {
    "collapsed": false
   },
   "id": "af84e7b28978f61e"
  },
  {
   "cell_type": "code",
   "outputs": [
    {
     "name": "stdout",
     "output_type": "stream",
     "text": [
      "epoch : 1 | loss: 10.288531303405762\n",
      "epoch : 10 | loss: 7.277763366699219\n"
     ]
    },
    {
     "data": {
      "text/plain": "<keras.callbacks.History at 0x18db645f760>"
     },
     "execution_count": 108,
     "metadata": {},
     "output_type": "execute_result"
    }
   ],
   "source": [
    "model3 = tf.keras.Sequential([\n",
    "    tf.keras.layers.Dense(units=1),\n",
    "    tf.keras.layers.Dense(units=1),\n",
    "    tf.keras.layers.Dense(units=1)\n",
    "])\n",
    "\n",
    "model3.compile(loss=tf.keras.losses.mae,\n",
    "               optimizer=tf.keras.optimizers.SGD(),\n",
    "               metrics='mae')\n",
    "\n",
    "model3.fit(X, y, epochs=10,verbose=0,callbacks=[personalized_Callback()])\n"
   ],
   "metadata": {
    "collapsed": false,
    "ExecuteTime": {
     "end_time": "2024-04-14T21:35:43.919734Z",
     "start_time": "2024-04-14T21:35:43.616652900Z"
    }
   },
   "id": "b24cf6556a42bb43",
   "execution_count": 108
  },
  {
   "cell_type": "markdown",
   "source": [
    "**Tiny improvement LOSS +=- 13.xx**"
   ],
   "metadata": {
    "collapsed": false
   },
   "id": "22cca706e0fee395"
  },
  {
   "cell_type": "markdown",
   "source": [
    "### <i>More neurons!</i>"
   ],
   "metadata": {
    "collapsed": false
   },
   "id": "121e1982132a4a78"
  },
  {
   "cell_type": "code",
   "outputs": [
    {
     "name": "stdout",
     "output_type": "stream",
     "text": [
      "epoch : 1 | loss: 13.284967422485352\n",
      "epoch : 10 | loss: 5.89393949508667\n",
      "epoch : 20 | loss: 3.9051709175109863\n",
      "epoch : 30 | loss: 3.9198431968688965\n",
      "epoch : 40 | loss: 3.8486146926879883\n",
      "epoch : 50 | loss: 3.8453617095947266\n",
      "epoch : 60 | loss: 3.8049252033233643\n",
      "epoch : 70 | loss: 3.765312433242798\n",
      "epoch : 80 | loss: 3.75870943069458\n",
      "epoch : 90 | loss: 3.674412727355957\n",
      "epoch : 100 | loss: 3.71937894821167\n"
     ]
    },
    {
     "data": {
      "text/plain": "<keras.callbacks.History at 0x18dbd5477c0>"
     },
     "execution_count": 151,
     "metadata": {},
     "output_type": "execute_result"
    }
   ],
   "source": [
    "model4 = tf.keras.Sequential([\n",
    "    tf.keras.layers.Dense(units=100,activation='relu'),\n",
    "    tf.keras.layers.Dense(units=1),\n",
    "    \n",
    "])\n",
    "\n",
    "model4.compile(loss=tf.keras.losses.mae,\n",
    "               optimizer=tf.keras.optimizers.SGD(),\n",
    "               metrics='mae')\n",
    "\n",
    "model4.fit(X, y, epochs=100,verbose=0,callbacks=[personalized_Callback()])\n"
   ],
   "metadata": {
    "collapsed": false,
    "ExecuteTime": {
     "end_time": "2024-04-14T21:57:13.444330900Z",
     "start_time": "2024-04-14T21:57:12.712943400Z"
    }
   },
   "id": "f00eca1a737775b4",
   "execution_count": 151
  },
  {
   "cell_type": "code",
   "outputs": [
    {
     "name": "stdout",
     "output_type": "stream",
     "text": [
      "1/1 [==============================] - 0s 49ms/step\n"
     ]
    },
    {
     "data": {
      "text/plain": "array([[32.074486]], dtype=float32)"
     },
     "execution_count": 152,
     "metadata": {},
     "output_type": "execute_result"
    }
   ],
   "source": [
    "model4.predict([17])"
   ],
   "metadata": {
    "collapsed": false,
    "ExecuteTime": {
     "end_time": "2024-04-14T21:57:15.721270700Z",
     "start_time": "2024-04-14T21:57:15.634310900Z"
    }
   },
   "id": "d1295d5bafe042ff",
   "execution_count": 152
  },
  {
   "cell_type": "markdown",
   "source": [
    "**Good improvement LOSS +=- 3.xx but overfitting here**\n"
   ],
   "metadata": {
    "collapsed": false
   },
   "id": "7bfe199b1e636f8d"
  },
  {
   "cell_type": "markdown",
   "source": [
    "### <i>Tuning hyperparameters!</i>\n",
    "optimizer, learning rate,activation function, loss function... \n"
   ],
   "metadata": {
    "collapsed": false
   },
   "id": "cc726dc2b8f58e5"
  },
  {
   "cell_type": "markdown",
   "source": [],
   "metadata": {
    "collapsed": false
   },
   "id": "fb1b994c1b36d42"
  },
  {
   "cell_type": "code",
   "outputs": [
    {
     "name": "stdout",
     "output_type": "stream",
     "text": [
      "epoch : 1 | loss: 9.124387741088867\n",
      "epoch : 10 | loss: 4.510769367218018\n",
      "epoch : 20 | loss: 4.775317668914795\n",
      "epoch : 30 | loss: 4.211775779724121\n",
      "epoch : 40 | loss: 3.9981789588928223\n",
      "epoch : 50 | loss: 3.6792373657226562\n",
      "epoch : 60 | loss: 3.3055007457733154\n",
      "epoch : 70 | loss: 2.962709426879883\n",
      "epoch : 80 | loss: 2.484470844268799\n",
      "epoch : 90 | loss: 1.8662766218185425\n",
      "epoch : 100 | loss: 1.1265071630477905\n"
     ]
    },
    {
     "data": {
      "text/plain": "<keras.callbacks.History at 0x18dbc48fd60>"
     },
     "execution_count": 149,
     "metadata": {},
     "output_type": "execute_result"
    }
   ],
   "source": [
    "model5 = tf.keras.Sequential([\n",
    "    tf.keras.layers.Dense(units=1,activation='relu'),\n",
    "    \n",
    "])\n",
    "\n",
    "model5.compile(loss=tf.keras.losses.mae,\n",
    "               optimizer=tf.keras.optimizers.Adam(learning_rate=.1),\n",
    "               metrics='mae')\n",
    "\n",
    "model5.fit(X, y, epochs=100,verbose=0,callbacks=[personalized_Callback()])\n"
   ],
   "metadata": {
    "collapsed": false,
    "ExecuteTime": {
     "end_time": "2024-04-14T21:55:18.054491100Z",
     "start_time": "2024-04-14T21:55:17.383161600Z"
    }
   },
   "id": "e60aaa3165663794",
   "execution_count": 149
  },
  {
   "cell_type": "code",
   "outputs": [
    {
     "name": "stdout",
     "output_type": "stream",
     "text": [
      "1/1 [==============================] - 0s 50ms/step\n"
     ]
    },
    {
     "data": {
      "text/plain": "array([[27.271557]], dtype=float32)"
     },
     "execution_count": 150,
     "metadata": {},
     "output_type": "execute_result"
    }
   ],
   "source": [
    "model5.predict([17]) # BEST RESULT"
   ],
   "metadata": {
    "collapsed": false,
    "ExecuteTime": {
     "end_time": "2024-04-14T21:55:42.920363700Z",
     "start_time": "2024-04-14T21:55:42.844589500Z"
    }
   },
   "id": "eea0e2eaad6ca804",
   "execution_count": 150
  },
  {
   "cell_type": "markdown",
   "source": [
    "**HUGE improvement LOSS +=- 1,xx**\n"
   ],
   "metadata": {
    "collapsed": false
   },
   "id": "394619df85832a2d"
  },
  {
   "cell_type": "markdown",
   "source": [
    "## Summary : \n",
    "  * Tuning our **hyperparamaters** and **NN architecture** is maybe the most important part in the training section. \n",
    "  * We did not need to resort to **cleaning** our data or getting **more samples** and despite this we improved the performance of our model.\n",
    "  * More computations doesn't mean better results, and we encountered that in adding **more units** to our first hidden layer in 'model4', that led to overfitting '\n",
    "  * **Combining** multiple changes and hyperparameters that **works together** gave us the best model 'model5'  "
   ],
   "metadata": {
    "collapsed": false
   },
   "id": "9f1c5e68f89ac9"
  }
 ],
 "metadata": {
  "kernelspec": {
   "display_name": "Python 3",
   "language": "python",
   "name": "python3"
  },
  "language_info": {
   "codemirror_mode": {
    "name": "ipython",
    "version": 2
   },
   "file_extension": ".py",
   "mimetype": "text/x-python",
   "name": "python",
   "nbconvert_exporter": "python",
   "pygments_lexer": "ipython2",
   "version": "2.7.6"
  }
 },
 "nbformat": 4,
 "nbformat_minor": 5
}
