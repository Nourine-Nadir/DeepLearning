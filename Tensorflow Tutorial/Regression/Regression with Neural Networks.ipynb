{
 "cells": [
  {
   "cell_type": "code",
   "execution_count": 558,
   "id": "initial_id",
   "metadata": {
    "collapsed": true,
    "ExecuteTime": {
     "end_time": "2024-04-21T21:54:06.382365500Z",
     "start_time": "2024-04-21T21:54:05.584345300Z"
    }
   },
   "outputs": [
    {
     "name": "stdout",
     "output_type": "stream",
     "text": [
      "Num GPUs Available:  1\n",
      "2.10.0\n"
     ]
    }
   ],
   "source": [
    "import tensorflow as tf\n",
    "\n",
    "physical_devices = tf.config.list_physical_devices('GPU')\n",
    "if physical_devices:\n",
    "    try:\n",
    "        tf.config.experimental.set_memory_growth(physical_devices[0], True)\n",
    "    except RuntimeError as e:\n",
    "        print(e)\n",
    "print(\"Num GPUs Available: \", len(tf.config.list_physical_devices('GPU')))\n",
    "print(tf.__version__)\n"
   ]
  },
  {
   "cell_type": "markdown",
   "source": [
    "## Creating data to view and fit"
   ],
   "metadata": {
    "collapsed": false
   },
   "id": "55d752d8bebbd002"
  },
  {
   "cell_type": "code",
   "outputs": [
    {
     "data": {
      "text/plain": "array([ True,  True,  True,  True,  True,  True,  True,  True])"
     },
     "execution_count": 559,
     "metadata": {},
     "output_type": "execute_result"
    },
    {
     "data": {
      "text/plain": "<Figure size 640x480 with 1 Axes>",
      "image/png": "[encoded data removed]"
     },
     "metadata": {},
     "output_type": "display_data"
    }
   ],
   "source": [
    "import numpy as np\n",
    "import matplotlib.pyplot as plt\n",
    "\n",
    "X = np.array([-7.0, -4.0, -1.0, 2.0, 5.0, 8.0, 11.0, 14.0])\n",
    "\n",
    "y = np.array([3.0, 6.0, 9.0, 12.0, 15.0, 18.0, 21.0, 24.0])\n",
    "\n",
    "# Visualize it\n",
    "plt.scatter(X, y)\n",
    "y == X + 10"
   ],
   "metadata": {
    "collapsed": false,
    "ExecuteTime": {
     "end_time": "2024-04-21T21:54:06.521803400Z",
     "start_time": "2024-04-21T21:54:06.380316400Z"
    }
   },
   "id": "319486e29222ab5f",
   "execution_count": 559
  },
  {
   "cell_type": "markdown",
   "source": [
    "## Input and output shapes"
   ],
   "metadata": {
    "collapsed": false
   },
   "id": "2b4ad4b027344750"
  },
  {
   "cell_type": "code",
   "outputs": [
    {
     "data": {
      "text/plain": "((8,), (8,))"
     },
     "execution_count": 560,
     "metadata": {},
     "output_type": "execute_result"
    }
   ],
   "source": [
    "X.shape, y.shape"
   ],
   "metadata": {
    "collapsed": false,
    "ExecuteTime": {
     "end_time": "2024-04-21T21:54:06.530051900Z",
     "start_time": "2024-04-21T21:54:06.480057900Z"
    }
   },
   "id": "3a98d1fba109a572",
   "execution_count": 560
  },
  {
   "cell_type": "code",
   "outputs": [
    {
     "data": {
      "text/plain": "(array([-7., -4., -1.,  2.,  5.,  8., 11., 14.]),\n array([ 3.,  6.,  9., 12., 15., 18., 21., 24.]))"
     },
     "execution_count": 561,
     "metadata": {},
     "output_type": "execute_result"
    }
   ],
   "source": [
    "\n",
    "# Turn our NumPy arrays into tensors with dtype float32\n",
    "# X = tf.cast(tf.constant(X), dtype=tf.float32)\n",
    "# y = tf.cast(tf.constant(y), dtype=tf.float32)\n",
    "X, y"
   ],
   "metadata": {
    "collapsed": false,
    "ExecuteTime": {
     "end_time": "2024-04-21T21:54:06.620906300Z",
     "start_time": "2024-04-21T21:54:06.511072Z"
    }
   },
   "id": "5e53272e2cd70d9",
   "execution_count": 561
  },
  {
   "cell_type": "markdown",
   "source": [
    "**Note:** shape of inputs should not be 1"
   ],
   "metadata": {
    "collapsed": false
   },
   "id": "e30f028a84880728"
  },
  {
   "cell_type": "code",
   "outputs": [
    {
     "data": {
      "text/plain": "(<tf.Tensor: shape=(8, 1), dtype=float64, numpy=\n array([[-7.],\n        [-4.],\n        [-1.],\n        [ 2.],\n        [ 5.],\n        [ 8.],\n        [11.],\n        [14.]])>,\n array([ 3.,  6.,  9., 12., 15., 18., 21., 24.]))"
     },
     "execution_count": 562,
     "metadata": {},
     "output_type": "execute_result"
    }
   ],
   "source": [
    "X = tf.expand_dims(X, axis=-1)\n",
    "\n",
    "X, y"
   ],
   "metadata": {
    "collapsed": false,
    "ExecuteTime": {
     "end_time": "2024-04-21T21:54:06.658923900Z",
     "start_time": "2024-04-21T21:54:06.588286100Z"
    }
   },
   "id": "6588fcb62f3c5064",
   "execution_count": 562
  },
  {
   "cell_type": "code",
   "outputs": [
    {
     "data": {
      "text/plain": "(tf.float64, dtype('float64'))"
     },
     "execution_count": 563,
     "metadata": {},
     "output_type": "execute_result"
    }
   ],
   "source": [
    "X.dtype, y.dtype"
   ],
   "metadata": {
    "collapsed": false,
    "ExecuteTime": {
     "end_time": "2024-04-21T21:54:06.779742Z",
     "start_time": "2024-04-21T21:54:06.653840800Z"
    }
   },
   "id": "677b99cd665e1975",
   "execution_count": 563
  },
  {
   "cell_type": "markdown",
   "source": [
    "## Steps in modelling with Tensorflow\n",
    "\n",
    "1. **Creating a model** - define the input and output layers, as well as the hidden layers pf a machine(deep) learning model.\n",
    "2. **Compiling a model** - define the loss function, the optimizer and evaluation metrics. \n",
    "3. **Fitting a model** - letting the model try to find patterns between inputs and outputs"
   ],
   "metadata": {
    "collapsed": false
   },
   "id": "4901f9221c94bc3c"
  },
  {
   "cell_type": "markdown",
   "source": [
    "### Sequential way to build a model"
   ],
   "metadata": {
    "collapsed": false
   },
   "id": "8031b6c4d71fe89"
  },
  {
   "cell_type": "code",
   "outputs": [
    {
     "name": "stdout",
     "output_type": "stream",
     "text": [
      "Epoch 1/5\n",
      "1/1 [==============================] - 0s 241ms/step - loss: 13.0704 - mae: 13.0704\n",
      "Epoch 2/5\n",
      "1/1 [==============================] - 0s 3ms/step - loss: 13.0329 - mae: 13.0329\n",
      "Epoch 3/5\n",
      "1/1 [==============================] - 0s 3ms/step - loss: 12.9954 - mae: 12.9954\n",
      "Epoch 4/5\n",
      "1/1 [==============================] - 0s 3ms/step - loss: 12.9579 - mae: 12.9579\n",
      "Epoch 5/5\n",
      "1/1 [==============================] - 0s 5ms/step - loss: 12.9204 - mae: 12.9204\n"
     ]
    },
    {
     "data": {
      "text/plain": "<keras.callbacks.History at 0x25bd6cc48b0>"
     },
     "execution_count": 564,
     "metadata": {},
     "output_type": "execute_result"
    }
   ],
   "source": [
    "# Set random seed \n",
    "tf.random.set_seed(42)\n",
    "\n",
    "# 1. Create a model using sequential API\n",
    "model = tf.keras.models.Sequential([\n",
    "    tf.keras.layers.Dense(1, activation='relu')\n",
    "])\n",
    "\n",
    "# 2. Compile the model\n",
    "model.compile(loss=tf.keras.losses.mae,\n",
    "              optimizer=tf.keras.optimizers.Adam(learning_rate=0.1),\n",
    "              metrics='mae')  # mae : mean absolute error\n",
    "# 3. Fit the model\n",
    "model.fit(X, y, epochs=5)"
   ],
   "metadata": {
    "collapsed": false,
    "ExecuteTime": {
     "end_time": "2024-04-21T21:54:07.162444500Z",
     "start_time": "2024-04-21T21:54:06.756988100Z"
    }
   },
   "id": "b19ebed8b1d39a87",
   "execution_count": 564
  },
  {
   "cell_type": "markdown",
   "source": [
    "**MAE function :**\n"
   ],
   "metadata": {
    "collapsed": false
   },
   "id": "7aa9262168ef25f3"
  },
  {
   "cell_type": "code",
   "outputs": [
    {
     "data": {
      "text/plain": "array([1., 3.])"
     },
     "execution_count": 565,
     "metadata": {},
     "output_type": "execute_result"
    }
   ],
   "source": [
    "y_true = np.array([[1, 2, 3], [4, 5, 6]])\n",
    "y_pred = np.array([[2, 3, 2], [7, 1, 4]])\n",
    "loss = np.mean(abs(y_true - y_pred), axis=-1)\n",
    "loss\n",
    "#axis=-1: Indicates that the mean should be calculated along the last axis of the input array."
   ],
   "metadata": {
    "collapsed": false,
    "ExecuteTime": {
     "end_time": "2024-04-21T21:54:07.164481700Z",
     "start_time": "2024-04-21T21:54:07.130283300Z"
    }
   },
   "id": "ee03bdadd543942c",
   "execution_count": 565
  },
  {
   "cell_type": "markdown",
   "source": [
    "### Functional API way to build a model"
   ],
   "metadata": {
    "collapsed": false
   },
   "id": "fb5807c95713a472"
  },
  {
   "cell_type": "code",
   "outputs": [
    {
     "name": "stdout",
     "output_type": "stream",
     "text": [
      "Epoch 1/5\n",
      "1/1 [==============================] - 0s 184ms/step - loss: 9.9261 - mae: 9.9261\n",
      "Epoch 2/5\n",
      "1/1 [==============================] - 0s 4ms/step - loss: 8.6011 - mae: 8.6011\n",
      "Epoch 3/5\n",
      "1/1 [==============================] - 0s 4ms/step - loss: 7.3500 - mae: 7.3500\n",
      "Epoch 4/5\n",
      "1/1 [==============================] - 0s 2ms/step - loss: 7.2938 - mae: 7.2938\n",
      "Epoch 5/5\n",
      "1/1 [==============================] - 0s 5ms/step - loss: 7.2375 - mae: 7.2375\n"
     ]
    },
    {
     "data": {
      "text/plain": "<keras.callbacks.History at 0x25bd6b9e820>"
     },
     "execution_count": 566,
     "metadata": {},
     "output_type": "execute_result"
    }
   ],
   "source": [
    "model2 = tf.keras.models.Sequential()\n",
    "model2.add(tf.keras.layers.Dense(1))\n",
    "\n",
    "model2.compile(loss=tf.keras.losses.mae,\n",
    "               optimizer=tf.keras.optimizers.SGD(learning_rate=0.1),\n",
    "               metrics=['mae'])\n",
    "\n",
    "model2.fit(X, y, epochs=5)"
   ],
   "metadata": {
    "collapsed": false,
    "ExecuteTime": {
     "end_time": "2024-04-21T21:54:07.518097800Z",
     "start_time": "2024-04-21T21:54:07.145931600Z"
    }
   },
   "id": "e131b7bffd8de93c",
   "execution_count": 566
  },
  {
   "cell_type": "code",
   "outputs": [
    {
     "name": "stdout",
     "output_type": "stream",
     "text": [
      "batch : 1 | epoch : 1 | loss: 7.181250095367432\n",
      "batch : 1 | epoch : 10 | loss: 6.674999713897705\n",
      "batch : 1 | epoch : 20 | loss: 6.112499713897705\n",
      "batch : 1 | epoch : 30 | loss: 5.56874942779541\n",
      "batch : 1 | epoch : 40 | loss: 5.00624942779541\n",
      "batch : 1 | epoch : 50 | loss: 4.462499618530273\n"
     ]
    },
    {
     "data": {
      "text/plain": "<keras.callbacks.History at 0x25bd6ad5760>"
     },
     "execution_count": 567,
     "metadata": {},
     "output_type": "execute_result"
    }
   ],
   "source": [
    "class personalized_Callback(tf.keras.callbacks.Callback):\n",
    "    def __init__(self, SHOW_NUMBER=10):\n",
    "        super().__init__()\n",
    "        self.SHOW_NUMBER = SHOW_NUMBER\n",
    "        self.counter = 1\n",
    "\n",
    "    def on_epoch_begin(self, epoch, logs=None):\n",
    "        self.epoch = epoch + 1  # Increment epoch at the beginning\n",
    "\n",
    "    def on_train_batch_end(self, batch, logs=None):\n",
    "        if (self.epoch % self.SHOW_NUMBER == 0) or self.epoch == 1:  # Print only on last batch of a multiple epoch\n",
    "            print(f'batch : {batch + 1} | epoch : {self.epoch} | loss: {logs[\"loss\"]}')\n",
    "        self.counter += 1\n",
    "\n",
    "\n",
    "model2.fit(X, y, epochs=50, callbacks=[personalized_Callback(10)], verbose=0)\n"
   ],
   "metadata": {
    "collapsed": false,
    "ExecuteTime": {
     "end_time": "2024-04-21T21:54:07.779888200Z",
     "start_time": "2024-04-21T21:54:07.427232500Z"
    }
   },
   "id": "81943cbef10ca030",
   "execution_count": 567
  },
  {
   "cell_type": "markdown",
   "source": [
    "### Make a prediction with our model"
   ],
   "metadata": {
    "collapsed": false
   },
   "id": "84b7d904f846134f"
  },
  {
   "cell_type": "code",
   "outputs": [
    {
     "name": "stdout",
     "output_type": "stream",
     "text": [
      "1/1 [==============================] - 0s 57ms/step\n",
      "1/1 [==============================] - 0s 56ms/step\n"
     ]
    },
    {
     "data": {
      "text/plain": "(array([[26.191586],\n        [33.547115],\n        [37.96043 ]], dtype=float32),\n array([[0.],\n        [0.],\n        [0.]], dtype=float32))"
     },
     "execution_count": 568,
     "metadata": {},
     "output_type": "execute_result"
    }
   ],
   "source": [
    "model2.predict([15, 20, 23]), model.predict([17, 20, 23])"
   ],
   "metadata": {
    "collapsed": false,
    "ExecuteTime": {
     "end_time": "2024-04-21T21:54:07.944873900Z",
     "start_time": "2024-04-21T21:54:07.738247Z"
    }
   },
   "id": "5fd2e4b22d509b37",
   "execution_count": 568
  },
  {
   "cell_type": "markdown",
   "source": [
    " ### Improving our model\n",
    " \n",
    "We can improve our model, by altering the steps we took to create a model.\n",
    "\n",
    "1. **Creating a model** - here we might add more layers, increase the nb of hidden layer units within each of the hidden layers, change the activation function of each layer.\n",
    "2. **Compiling a model** - you might want to choose optimization function or perhaps change the learning rate of the optimization function.\n",
    "3. **Fitting a model** - perhaps you could fit a model for more epochs (leave it training for longer) or on more data (give the model more examples to learn from)."
   ],
   "metadata": {
    "collapsed": false
   },
   "id": "9528d7f563444598"
  },
  {
   "cell_type": "markdown",
   "source": [
    "### <i>More epochs!</i>"
   ],
   "metadata": {
    "collapsed": false
   },
   "id": "d01c15ff00d76205"
  },
  {
   "cell_type": "code",
   "outputs": [
    {
     "data": {
      "text/plain": "<keras.callbacks.History at 0x25bd6e36f10>"
     },
     "execution_count": 569,
     "metadata": {},
     "output_type": "execute_result"
    }
   ],
   "source": [
    "\n",
    "# Let's rebuild our model\n",
    "\n",
    "# 1. Create the model\n",
    "model3 = tf.keras.Sequential([\n",
    "    tf.keras.layers.Dense(1)\n",
    "])\n",
    "\n",
    "# 2. Compile the model\n",
    "model3.compile(loss=tf.keras.losses.mae,\n",
    "               optimizer=tf.keras.optimizers.SGD(),\n",
    "               metrics=[\"mae\"])\n",
    "\n",
    "# 3. Fit the model (this time we'll train for longer)\n",
    "model3.fit(X, y, epochs=100, verbose=0, )  # verbose=0 to skip printing details about training\n"
   ],
   "metadata": {
    "collapsed": false,
    "ExecuteTime": {
     "end_time": "2024-04-21T21:54:08.572450Z",
     "start_time": "2024-04-21T21:54:07.917443100Z"
    }
   },
   "id": "24882142348790a1",
   "execution_count": 569
  },
  {
   "cell_type": "code",
   "outputs": [
    {
     "name": "stdout",
     "output_type": "stream",
     "text": [
      "1/1 [==============================] - 0s 49ms/step\n"
     ]
    },
    {
     "data": {
      "text/plain": "array([[30.132486]], dtype=float32)"
     },
     "execution_count": 570,
     "metadata": {},
     "output_type": "execute_result"
    }
   ],
   "source": [
    "model3.predict([17])\n"
   ],
   "metadata": {
    "collapsed": false,
    "ExecuteTime": {
     "end_time": "2024-04-21T21:54:08.750766900Z",
     "start_time": "2024-04-21T21:54:08.556955300Z"
    }
   },
   "id": "c08c26383bea671f",
   "execution_count": 570
  },
  {
   "cell_type": "markdown",
   "source": [
    "**Big improvment error of 2.xxx on this prediction and LOSS +=- 6**"
   ],
   "metadata": {
    "collapsed": false
   },
   "id": "2b05d09cebb3f7b2"
  },
  {
   "cell_type": "markdown",
   "source": [
    "### <i>More layers!</i>"
   ],
   "metadata": {
    "collapsed": false
   },
   "id": "af84e7b28978f61e"
  },
  {
   "cell_type": "code",
   "outputs": [
    {
     "name": "stdout",
     "output_type": "stream",
     "text": [
      "batch : 1 | epoch : 1 | loss: 11.76866340637207\n",
      "batch : 1 | epoch : 10 | loss: 7.4345245361328125\n"
     ]
    },
    {
     "data": {
      "text/plain": "<keras.callbacks.History at 0x25bd6b0b460>"
     },
     "execution_count": 571,
     "metadata": {},
     "output_type": "execute_result"
    }
   ],
   "source": [
    "model3 = tf.keras.Sequential([\n",
    "    tf.keras.layers.Dense(units=1),\n",
    "    tf.keras.layers.Dense(units=1),\n",
    "    tf.keras.layers.Dense(units=1)\n",
    "])\n",
    "\n",
    "model3.compile(loss=tf.keras.losses.mae,\n",
    "               optimizer=tf.keras.optimizers.SGD(),\n",
    "               metrics='mae')\n",
    "\n",
    "model3.fit(X, y, epochs=10, verbose=0, callbacks=[personalized_Callback()])\n"
   ],
   "metadata": {
    "collapsed": false,
    "ExecuteTime": {
     "end_time": "2024-04-21T21:54:08.986998300Z",
     "start_time": "2024-04-21T21:54:08.651490500Z"
    }
   },
   "id": "b24cf6556a42bb43",
   "execution_count": 571
  },
  {
   "cell_type": "markdown",
   "source": [
    "**Tiny improvement LOSS +=- 13.xx**"
   ],
   "metadata": {
    "collapsed": false
   },
   "id": "22cca706e0fee395"
  },
  {
   "cell_type": "markdown",
   "source": [
    "### <i>More neurons!</i>"
   ],
   "metadata": {
    "collapsed": false
   },
   "id": "121e1982132a4a78"
  },
  {
   "cell_type": "code",
   "outputs": [
    {
     "name": "stdout",
     "output_type": "stream",
     "text": [
      "batch : 1 | epoch : 1 | loss: 13.39912223815918\n",
      "batch : 1 | epoch : 10 | loss: 8.04546070098877\n",
      "batch : 1 | epoch : 20 | loss: 3.909205198287964\n",
      "batch : 1 | epoch : 30 | loss: 3.9196617603302\n",
      "batch : 1 | epoch : 40 | loss: 3.86142635345459\n",
      "batch : 1 | epoch : 50 | loss: 3.8569893836975098\n",
      "batch : 1 | epoch : 60 | loss: 3.8168764114379883\n",
      "batch : 1 | epoch : 70 | loss: 3.7812118530273438\n",
      "batch : 1 | epoch : 80 | loss: 3.7747702598571777\n",
      "batch : 1 | epoch : 90 | loss: 3.6993260383605957\n",
      "batch : 1 | epoch : 100 | loss: 3.7449991703033447\n"
     ]
    },
    {
     "data": {
      "text/plain": "<keras.callbacks.History at 0x25bd6aac0d0>"
     },
     "execution_count": 572,
     "metadata": {},
     "output_type": "execute_result"
    }
   ],
   "source": [
    "model4 = tf.keras.Sequential([\n",
    "    tf.keras.layers.Dense(units=100, activation='relu'),\n",
    "    tf.keras.layers.Dense(units=1),\n",
    "\n",
    "])\n",
    "\n",
    "model4.compile(loss=tf.keras.losses.mae,\n",
    "               optimizer=tf.keras.optimizers.SGD(),\n",
    "               metrics='mae')\n",
    "\n",
    "model4.fit(X, y, epochs=100, verbose=0, callbacks=[personalized_Callback()])\n"
   ],
   "metadata": {
    "collapsed": false,
    "ExecuteTime": {
     "end_time": "2024-04-21T21:54:09.666265900Z",
     "start_time": "2024-04-21T21:54:08.971513200Z"
    }
   },
   "id": "f00eca1a737775b4",
   "execution_count": 572
  },
  {
   "cell_type": "code",
   "outputs": [
    {
     "name": "stdout",
     "output_type": "stream",
     "text": [
      "1/1 [==============================] - 0s 52ms/step\n"
     ]
    },
    {
     "data": {
      "text/plain": "array([[32.129818]], dtype=float32)"
     },
     "execution_count": 573,
     "metadata": {},
     "output_type": "execute_result"
    }
   ],
   "source": [
    "model4.predict([17])"
   ],
   "metadata": {
    "collapsed": false,
    "ExecuteTime": {
     "end_time": "2024-04-21T21:54:09.759537900Z",
     "start_time": "2024-04-21T21:54:09.640553900Z"
    }
   },
   "id": "d1295d5bafe042ff",
   "execution_count": 573
  },
  {
   "cell_type": "markdown",
   "source": [
    "**Good improvement LOSS +=- 3.xx but overfitting here**\n"
   ],
   "metadata": {
    "collapsed": false
   },
   "id": "7bfe199b1e636f8d"
  },
  {
   "cell_type": "markdown",
   "source": [
    "### <i>Tuning hyperparameters!</i>\n",
    "optimizer, learning rate,activation function, loss function... \n"
   ],
   "metadata": {
    "collapsed": false
   },
   "id": "cc726dc2b8f58e5"
  },
  {
   "cell_type": "markdown",
   "source": [],
   "metadata": {
    "collapsed": false
   },
   "id": "fb1b994c1b36d42"
  },
  {
   "cell_type": "code",
   "outputs": [
    {
     "name": "stdout",
     "output_type": "stream",
     "text": [
      "batch : 1 | epoch : 1 | loss: 12.981094360351562\n",
      "batch : 1 | epoch : 10 | loss: 12.7777099609375\n",
      "batch : 1 | epoch : 20 | loss: 12.19124984741211\n",
      "batch : 1 | epoch : 30 | loss: 7.1949286460876465\n",
      "batch : 1 | epoch : 40 | loss: 4.188557147979736\n",
      "batch : 1 | epoch : 50 | loss: 3.48956298828125\n",
      "batch : 1 | epoch : 60 | loss: 3.111490488052368\n",
      "batch : 1 | epoch : 70 | loss: 2.8792693614959717\n",
      "batch : 1 | epoch : 80 | loss: 2.41906476020813\n",
      "batch : 1 | epoch : 90 | loss: 1.8873696327209473\n",
      "batch : 1 | epoch : 100 | loss: 1.3732913732528687\n"
     ]
    },
    {
     "data": {
      "text/plain": "<keras.callbacks.History at 0x25be0d45df0>"
     },
     "execution_count": 574,
     "metadata": {},
     "output_type": "execute_result"
    }
   ],
   "source": [
    "model5 = tf.keras.Sequential([\n",
    "    tf.keras.layers.Dense(units=1, activation='relu'),\n",
    "\n",
    "])\n",
    "\n",
    "model5.compile(loss=tf.keras.losses.mae,\n",
    "               optimizer=tf.keras.optimizers.Adam(learning_rate=.1),\n",
    "               metrics='mae')\n",
    "\n",
    "model5.fit(X, y, epochs=100, verbose=0, callbacks=[personalized_Callback()])\n"
   ],
   "metadata": {
    "collapsed": false,
    "ExecuteTime": {
     "end_time": "2024-04-21T21:54:10.323207200Z",
     "start_time": "2024-04-21T21:54:09.732709300Z"
    }
   },
   "id": "e60aaa3165663794",
   "execution_count": 574
  },
  {
   "cell_type": "code",
   "outputs": [
    {
     "name": "stdout",
     "output_type": "stream",
     "text": [
      "1/1 [==============================] - 0s 48ms/step\n"
     ]
    },
    {
     "data": {
      "text/plain": "array([[28.603378]], dtype=float32)"
     },
     "execution_count": 575,
     "metadata": {},
     "output_type": "execute_result"
    }
   ],
   "source": [
    "model5.predict([17])  # BEST RESULT"
   ],
   "metadata": {
    "collapsed": false,
    "ExecuteTime": {
     "end_time": "2024-04-21T21:54:10.401461400Z",
     "start_time": "2024-04-21T21:54:10.322174Z"
    }
   },
   "id": "eea0e2eaad6ca804",
   "execution_count": 575
  },
  {
   "cell_type": "markdown",
   "source": [
    "**HUGE improvement LOSS +=- 1,xx**\n"
   ],
   "metadata": {
    "collapsed": false
   },
   "id": "394619df85832a2d"
  },
  {
   "cell_type": "markdown",
   "source": [
    "## Summary : \n",
    "  * Tuning our **hyperparamaters** and **NN architecture** is maybe the most important part in the training section. \n",
    "  * We did not need to resort to **cleaning** our data or getting **more samples** and despite this we improved the performance of our model.\n",
    "  * More computations doesn't mean better results, and we encountered that in adding **more units** to our first hidden layer in 'model4', that led to overfitting '\n",
    "  * **Combining** multiple changes and hyperparameters that **works together** gave us the best model 'model5'  "
   ],
   "metadata": {
    "collapsed": false
   },
   "id": "9f1c5e68f89ac9"
  },
  {
   "cell_type": "markdown",
   "source": [
    "## Evaluating a model\n",
    "<p>The typical workflow you'll go through when building a neural network is :\n",
    "Build a model -> fit it -> evaluate it -> tweak the model -> fit it -> evaluate it -> tweak the model -> ....</p>"
   ],
   "metadata": {
    "collapsed": false
   },
   "id": "ca62283bb7afea7"
  },
  {
   "cell_type": "markdown",
   "source": [
    "<p>The keywords in evaluation is <b>VISUALIZE, VISUALIZE, VISUALIZE</b></p> "
   ],
   "metadata": {
    "collapsed": false
   },
   "id": "302b841bd424e7f6"
  },
  {
   "cell_type": "markdown",
   "source": [
    "It's a good idea to visualize:\n",
    "\n",
    "* **The data** - what data are you working with? What does it look like?\n",
    "* **The model itself** - what does the architecture look like? What are the different shapes?\n",
    "* **The training of a model** - how does a model perform while it learns?\n",
    "* **The predictions of a model** - how do the predictions of a model line up against the ground truth (the original labels)?"
   ],
   "metadata": {
    "collapsed": false
   },
   "id": "374fd9f0e501f6ad"
  },
  {
   "cell_type": "code",
   "outputs": [
    {
     "data": {
      "text/plain": "<tf.Tensor: shape=(50,), dtype=int32, numpy=\narray([-100,  -96,  -92,  -88,  -84,  -80,  -76,  -72,  -68,  -64,  -60,\n        -56,  -52,  -48,  -44,  -40,  -36,  -32,  -28,  -24,  -20,  -16,\n        -12,   -8,   -4,    0,    4,    8,   12,   16,   20,   24,   28,\n         32,   36,   40,   44,   48,   52,   56,   60,   64,   68,   72,\n         76,   80,   84,   88,   92,   96])>"
     },
     "execution_count": 576,
     "metadata": {},
     "output_type": "execute_result"
    }
   ],
   "source": [
    "# Make a bigger dataset\n",
    "X = tf.range(-100, 100, 4)\n",
    "X"
   ],
   "metadata": {
    "collapsed": false,
    "ExecuteTime": {
     "end_time": "2024-04-21T21:54:10.458484700Z",
     "start_time": "2024-04-21T21:54:10.400407200Z"
    }
   },
   "id": "20a1fbc755a03f57",
   "execution_count": 576
  },
  {
   "cell_type": "code",
   "outputs": [
    {
     "data": {
      "text/plain": "<tf.Tensor: shape=(50,), dtype=int32, numpy=\narray([-90, -86, -82, -78, -74, -70, -66, -62, -58, -54, -50, -46, -42,\n       -38, -34, -30, -26, -22, -18, -14, -10,  -6,  -2,   2,   6,  10,\n        14,  18,  22,  26,  30,  34,  38,  42,  46,  50,  54,  58,  62,\n        66,  70,  74,  78,  82,  86,  90,  94,  98, 102, 106])>"
     },
     "execution_count": 577,
     "metadata": {},
     "output_type": "execute_result"
    }
   ],
   "source": [
    "# Make labels for our dataset\\\n",
    "y = X + 10\n",
    "y"
   ],
   "metadata": {
    "collapsed": false,
    "ExecuteTime": {
     "end_time": "2024-04-21T21:54:10.479143400Z",
     "start_time": "2024-04-21T21:54:10.414805900Z"
    }
   },
   "id": "5da21b24ccc35243",
   "execution_count": 577
  },
  {
   "cell_type": "code",
   "outputs": [
    {
     "data": {
      "text/plain": "<matplotlib.collections.PathCollection at 0x25bd6a8b7f0>"
     },
     "execution_count": 578,
     "metadata": {},
     "output_type": "execute_result"
    },
    {
     "data": {
      "text/plain": "<Figure size 640x480 with 1 Axes>",
      "image/png": "[encoded data removed]"
     },
     "metadata": {},
     "output_type": "display_data"
    }
   ],
   "source": [
    "# Visualise the data \n",
    "\n",
    "plt.scatter(X, y)"
   ],
   "metadata": {
    "collapsed": false,
    "ExecuteTime": {
     "end_time": "2024-04-21T21:54:10.583606500Z",
     "start_time": "2024-04-21T21:54:10.429001800Z"
    }
   },
   "id": "b2a46e1198d40dee",
   "execution_count": 578
  },
  {
   "cell_type": "markdown",
   "source": [
    "## The 3 sets : \n",
    "* **Training set** - the model learns from this data, which is typically 70-80% of the total data available (like the course materials you study during the semester).\n",
    "* **Validation set** - the model gets tuned on this data, which is typically 10-15% of the total data available (like the practice exam you take before the final exam).\n",
    "* **Test set** - the model gets evaluated on this data to test what it has learned, it's typically 10-15% of the total data available (like the final exam you take at the end of the semester)."
   ],
   "metadata": {
    "collapsed": false
   },
   "id": "b52676374ab76501"
  },
  {
   "cell_type": "code",
   "outputs": [],
   "source": [
    "dataset = tf.stack((X, y), axis=1)\n",
    "\n",
    "shuffled_dataset = tf.random.shuffle(dataset)\n",
    "\n",
    "X_shuffled, y_shuffled = tf.split(shuffled_dataset, num_or_size_splits=2, axis=1)\n"
   ],
   "metadata": {
    "collapsed": false,
    "ExecuteTime": {
     "end_time": "2024-04-21T21:54:10.587809500Z",
     "start_time": "2024-04-21T21:54:10.554839200Z"
    }
   },
   "id": "c4ba7e50537b34cb",
   "execution_count": 579
  },
  {
   "cell_type": "code",
   "outputs": [
    {
     "data": {
      "text/plain": "(TensorShape([40, 1]),\n TensorShape([10, 1]),\n TensorShape([40, 1]),\n TensorShape([10, 1]))"
     },
     "execution_count": 580,
     "metadata": {},
     "output_type": "execute_result"
    }
   ],
   "source": [
    "X_train = y_shuffled[:tf.cast(tf.math.floor(80 * len(X) / 100), tf.int32)]  # 80% of the data\n",
    "X_test = y_shuffled[tf.cast(tf.math.floor(80 * len(X) / 100), tf.int32):]  # 20% of the data\n",
    "\n",
    "y_train = y_shuffled[:tf.cast(tf.math.floor(80 * len(y) / 100), tf.int32)]  # 80% of the data\n",
    "y_test = y_shuffled[tf.cast(tf.math.floor(80 * len(y) / 100), tf.int32):]  # 20% of the data\n",
    "\n",
    "X_train.shape, X_test.shape, y_train.shape, y_test.shape\n"
   ],
   "metadata": {
    "collapsed": false,
    "ExecuteTime": {
     "end_time": "2024-04-21T21:54:10.650651900Z",
     "start_time": "2024-04-21T21:54:10.570123200Z"
    }
   },
   "id": "c9fa0d0fbb2265dc",
   "execution_count": 580
  },
  {
   "cell_type": "code",
   "outputs": [
    {
     "data": {
      "text/plain": "<Figure size 1000x1000 with 1 Axes>",
      "image/png": "[encoded data removed]"
     },
     "metadata": {},
     "output_type": "display_data"
    }
   ],
   "source": [
    "plt.figure(figsize=(10, 10))\n",
    "\n",
    "plt.scatter(X_train, y_train, c='r', label='training data')\n",
    "plt.scatter(X_test, y_test, c='g', label='test data')\n",
    "\n",
    "plt.legend();  # ; is used to not get this matplotlib output '<matplotlib.legend.Legend at 0x169aa1aebe0>'"
   ],
   "metadata": {
    "collapsed": false,
    "ExecuteTime": {
     "end_time": "2024-04-21T21:54:10.761150600Z",
     "start_time": "2024-04-21T21:54:10.584655Z"
    }
   },
   "id": "6cac96c3a075680c",
   "execution_count": 581
  },
  {
   "cell_type": "code",
   "outputs": [],
   "source": [
    "model = tf.keras.models.Sequential([\n",
    "    tf.keras.layers.Dense(units=12, input_shape=[1, ], name='1stHiddenLayer'),\n",
    "    tf.keras.layers.Dense(units=1, name='outputLayer')\n",
    "], name='Model_x')\n",
    "model.compile(optimizer='Adam',\n",
    "              loss='mean_squared_error',\n",
    "              metrics=['mse'])\n",
    "\n"
   ],
   "metadata": {
    "collapsed": false,
    "ExecuteTime": {
     "end_time": "2024-04-21T21:54:10.817120100Z",
     "start_time": "2024-04-21T21:54:10.762175800Z"
    }
   },
   "id": "411973415b8036a6",
   "execution_count": 582
  },
  {
   "cell_type": "code",
   "outputs": [
    {
     "name": "stdout",
     "output_type": "stream",
     "text": [
      "Model: \"Model_x\"\n",
      "_________________________________________________________________\n",
      " Layer (type)                Output Shape              Param #   \n",
      "=================================================================\n",
      " 1stHiddenLayer (Dense)      (None, 12)                24        \n",
      "                                                                 \n",
      " outputLayer (Dense)         (None, 1)                 13        \n",
      "                                                                 \n",
      "=================================================================\n",
      "Total params: 37\n",
      "Trainable params: 37\n",
      "Non-trainable params: 0\n",
      "_________________________________________________________________\n"
     ]
    }
   ],
   "source": [
    "model.build()  # The input shape should be specified in the creation of the model to build it\n",
    "# We need to build the model first or fit it to use summary \n",
    "model.summary()"
   ],
   "metadata": {
    "collapsed": false,
    "ExecuteTime": {
     "end_time": "2024-04-21T21:54:10.821258400Z",
     "start_time": "2024-04-21T21:54:10.792460900Z"
    }
   },
   "id": "5f49e389c84e651",
   "execution_count": 583
  },
  {
   "cell_type": "markdown",
   "source": [
    "Calling summary() on our model shows us the layers it contains, the output shape and the number of parameters (it doesn't include the biases ).\n",
    "\n",
    "* **Total params** - total number of parameters in the model. = `shape(x)*nb_units + nb_biases(nb_units)`\n",
    "* **Trainable parameters** - these are the parameters (patterns) the model can update as it trains.\n",
    "* **Non-trainable parameters** - these parameters aren't updated during training (this is typical when you bring in the already learned patterns from other models during <b>transfer learning</b>)."
   ],
   "metadata": {
    "collapsed": false
   },
   "id": "a7370e832d5c8c52"
  },
  {
   "cell_type": "code",
   "outputs": [
    {
     "name": "stdout",
     "output_type": "stream",
     "text": [
      "batch : 1 | epoch : 1 | loss: 19.75710105895996\n",
      "batch : 2 | epoch : 1 | loss: 37.09745407104492\n",
      "batch : 3 | epoch : 1 | loss: 41.711021423339844\n",
      "batch : 4 | epoch : 1 | loss: 43.833621978759766\n",
      "batch : 1 | epoch : 10 | loss: 0.7842347621917725\n",
      "batch : 2 | epoch : 10 | loss: 0.8289704322814941\n",
      "batch : 3 | epoch : 10 | loss: 0.9839340448379517\n",
      "batch : 4 | epoch : 10 | loss: 0.9202572703361511\n"
     ]
    },
    {
     "data": {
      "text/plain": "<keras.callbacks.History at 0x25bd70165e0>"
     },
     "execution_count": 584,
     "metadata": {},
     "output_type": "execute_result"
    }
   ],
   "source": [
    "model.fit((X_train), tf.squeeze(y_train),\n",
    "          epochs=10,\n",
    "          verbose=0,\n",
    "          callbacks=personalized_Callback(10),\n",
    "          batch_size=int(len(X_train) / 4))  # batch size is how the size of the samples passed in one forward prop"
   ],
   "metadata": {
    "collapsed": false,
    "ExecuteTime": {
     "end_time": "2024-04-21T21:54:11.137055300Z",
     "start_time": "2024-04-21T21:54:10.807888700Z"
    }
   },
   "id": "9cc9fc169b8686e7",
   "execution_count": 584
  },
  {
   "cell_type": "code",
   "outputs": [
    {
     "name": "stdout",
     "output_type": "stream",
     "text": [
      "1/1 [==============================] - 0s 35ms/step\n"
     ]
    },
    {
     "data": {
      "text/plain": "(array([[ 79.298096],\n        [ 87.42859 ],\n        [ 83.36334 ],\n        [-50.78988 ],\n        [-75.18137 ],\n        [107.75484 ],\n        [-67.05087 ],\n        [ 38.645603],\n        [ 99.624344],\n        [-71.11612 ]], dtype=float32),\n <tf.Tensor: shape=(10, 1), dtype=int32, numpy=\n array([[ 78],\n        [ 86],\n        [ 82],\n        [-50],\n        [-74],\n        [106],\n        [-66],\n        [ 38],\n        [ 98],\n        [-70]])>)"
     },
     "execution_count": 585,
     "metadata": {},
     "output_type": "execute_result"
    }
   ],
   "source": [
    "y_pred = model.predict(X_test)\n",
    "y_pred, y_test"
   ],
   "metadata": {
    "collapsed": false,
    "ExecuteTime": {
     "end_time": "2024-04-21T21:54:11.217642200Z",
     "start_time": "2024-04-21T21:54:11.133960300Z"
    }
   },
   "id": "735629e060a9157b",
   "execution_count": 585
  },
  {
   "cell_type": "code",
   "outputs": [
    {
     "data": {
      "image/png": "[encoded data removed]",
      "text/plain": "<IPython.core.display.Image object>"
     },
     "execution_count": 586,
     "metadata": {},
     "output_type": "execute_result"
    }
   ],
   "source": [
    "from tensorflow.keras.utils import plot_model\n",
    "\n",
    "plot_model(model, show_shapes=True, show_layer_names=True, show_dtype=True)\n",
    "\n",
    "# Other methods to inspect the model or save it\n",
    "# model.get_config()\n",
    "# model.to_json()\n",
    "# model.save_weights('weights.hdf5')"
   ],
   "metadata": {
    "collapsed": false,
    "ExecuteTime": {
     "end_time": "2024-04-21T21:54:11.434497800Z",
     "start_time": "2024-04-21T21:54:11.211388200Z"
    }
   },
   "id": "d1d48067f259e5b4",
   "execution_count": 586
  },
  {
   "cell_type": "markdown",
   "source": [
    "## Visualizin our model's predictions\n",
    "It's a good idea to plot them against the grounded truth labels"
   ],
   "metadata": {
    "collapsed": false
   },
   "id": "fbca86c57d72c8a9"
  },
  {
   "cell_type": "code",
   "outputs": [],
   "source": [
    "def plot_predictions(train_data=X_train, y_train=y_train, test_data=X_test, y_true=y_test, predictions=y_pred):\n",
    "    plt.figure(figsize=(6, 6))\n",
    "    plt.scatter(train_data, y_train, c='b', label='Train data')\n",
    "    plt.scatter(test_data, y_true, c='g', label='Test data')\n",
    "    plt.scatter(test_data, predictions, c='r', label='Predicitons')\n",
    "    plt.legend();  # this line is necessary to plot labels\n",
    "\n"
   ],
   "metadata": {
    "collapsed": false,
    "ExecuteTime": {
     "end_time": "2024-04-21T21:54:11.473581600Z",
     "start_time": "2024-04-21T21:54:11.430397800Z"
    }
   },
   "id": "94257fde3bc61ac8",
   "execution_count": 587
  },
  {
   "cell_type": "code",
   "outputs": [
    {
     "data": {
      "text/plain": "<Figure size 600x600 with 1 Axes>",
      "image/png": "[encoded data removed]"
     },
     "metadata": {},
     "output_type": "display_data"
    }
   ],
   "source": [
    "plot_predictions(X_train, y_train, X_test, y_test, y_pred)\n"
   ],
   "metadata": {
    "collapsed": false,
    "ExecuteTime": {
     "end_time": "2024-04-21T21:54:11.622605600Z",
     "start_time": "2024-04-21T21:54:11.444816400Z"
    }
   },
   "id": "96ff8c0d1c5ab15f",
   "execution_count": 588
  },
  {
   "cell_type": "markdown",
   "source": [
    "## Evaluating our model's predictions with regression evaluation metrics \n",
    "\n",
    "Alongside visualizations, evaluation metrics are your alternative best option for evaluating your model.\n",
    "\n",
    "Depending on the problem you're working on, different models have different evaluation metrics.\n",
    "\n",
    "Two of the main metrics used for regression problems are:\n",
    "\n",
    "* **Mean absolute error (MAE)** - the mean difference between each of the predictions.\n",
    "* **Mean squared error (MSE)** - the squared mean difference between of the predictions (use if larger errors are more detrimental than smaller errors).\n",
    "The lower each of these values, the better.\n",
    "\n",
    "You can also use `model.evaluate()` which will return the loss of the model as well as any metrics setup during the compile step."
   ],
   "metadata": {
    "collapsed": false
   },
   "id": "6c78ef84d5c1708a"
  },
  {
   "cell_type": "code",
   "outputs": [
    {
     "name": "stdout",
     "output_type": "stream",
     "text": [
      "2/2 [==============================] - 0s 3ms/step - loss: 0.7366 - mse: 0.7366\n",
      "1/1 [==============================] - 0s 23ms/step - loss: 1.6089 - mse: 1.6089\n"
     ]
    },
    {
     "data": {
      "text/plain": "([0.7365521788597107, 0.7365521788597107],\n [1.6088979244232178, 1.6088979244232178])"
     },
     "execution_count": 589,
     "metadata": {},
     "output_type": "execute_result"
    }
   ],
   "source": [
    "model.evaluate(X_train, y_train), model.evaluate(X_test, y_test)\n"
   ],
   "metadata": {
    "collapsed": false,
    "ExecuteTime": {
     "end_time": "2024-04-21T21:54:11.804309600Z",
     "start_time": "2024-04-21T21:54:11.615903100Z"
    }
   },
   "id": "340a294e230670d7",
   "execution_count": 589
  },
  {
   "cell_type": "markdown",
   "source": [
    "Tensorflow has also a built-in function for MSE and MAE"
   ],
   "metadata": {
    "collapsed": false
   },
   "id": "678fce35c98c507c"
  },
  {
   "cell_type": "code",
   "outputs": [
    {
     "data": {
      "text/plain": "<tf.Tensor: shape=(10,), dtype=float32, numpy=\narray([68.29619 , 70.1639  , 68.83657 , 86.02531 , 97.43393 , 83.15331 ,\n       92.267334, 68.42531 , 77.078186, 94.45715 ], dtype=float32)>"
     },
     "execution_count": 590,
     "metadata": {},
     "output_type": "execute_result"
    }
   ],
   "source": [
    "mae = tf.metrics.mean_absolute_error(y_true=y_test,\n",
    "                                     y_pred=y_pred.squeeze())\n",
    "mae"
   ],
   "metadata": {
    "collapsed": false,
    "ExecuteTime": {
     "end_time": "2024-04-21T21:54:11.879143100Z",
     "start_time": "2024-04-21T21:54:11.786610500Z"
    }
   },
   "id": "1e699850cc1277db",
   "execution_count": 590
  },
  {
   "cell_type": "markdown",
   "source": [
    "\n",
    "Huh? That's strange, MAE should be a single output.\n",
    "\n",
    "Instead, we get 10 values.\n",
    "\n",
    "This is because our `y_test` and `y_preds` tensors are different shapes."
   ],
   "metadata": {
    "collapsed": false
   },
   "id": "41aea68089166676"
  },
  {
   "cell_type": "code",
   "outputs": [
    {
     "data": {
      "text/plain": "(TensorShape([10, 1]), (10, 1))"
     },
     "execution_count": 591,
     "metadata": {},
     "output_type": "execute_result"
    }
   ],
   "source": [
    "y_test.shape, y_pred.shape"
   ],
   "metadata": {
    "collapsed": false,
    "ExecuteTime": {
     "end_time": "2024-04-21T21:54:11.902436900Z",
     "start_time": "2024-04-21T21:54:11.805372500Z"
    }
   },
   "id": "c4fbd62b622cf6d5",
   "execution_count": 591
  },
  {
   "cell_type": "code",
   "outputs": [
    {
     "data": {
      "text/plain": "(TensorShape([10]), (10,))"
     },
     "execution_count": 592,
     "metadata": {},
     "output_type": "execute_result"
    }
   ],
   "source": [
    "y_pred = y_pred.squeeze()\n",
    "y_test = tf.squeeze(y_test)\n",
    "y_test.shape, y_pred.shape\n"
   ],
   "metadata": {
    "collapsed": false,
    "ExecuteTime": {
     "end_time": "2024-04-21T21:54:11.921408100Z",
     "start_time": "2024-04-21T21:54:11.817206600Z"
    }
   },
   "id": "73c947d0ef42771d",
   "execution_count": 592
  },
  {
   "cell_type": "code",
   "outputs": [
    {
     "data": {
      "text/plain": "<tf.Tensor: shape=(), dtype=float32, numpy=1.2253056>"
     },
     "execution_count": 593,
     "metadata": {},
     "output_type": "execute_result"
    }
   ],
   "source": [
    "mae = tf.metrics.mean_absolute_error(y_true=y_test,\n",
    "                                     y_pred=y_pred.squeeze())\n",
    "mae"
   ],
   "metadata": {
    "collapsed": false,
    "ExecuteTime": {
     "end_time": "2024-04-21T21:54:11.924482400Z",
     "start_time": "2024-04-21T21:54:11.833678900Z"
    }
   },
   "id": "4699e40210635b1e",
   "execution_count": 593
  },
  {
   "cell_type": "code",
   "outputs": [
    {
     "data": {
      "text/plain": "<tf.Tensor: shape=(), dtype=float32, numpy=1.6088979>"
     },
     "execution_count": 594,
     "metadata": {},
     "output_type": "execute_result"
    }
   ],
   "source": [
    "mse = tf.metrics.mean_squared_error(y_true=y_test,\n",
    "                                    y_pred=y_pred.squeeze())\n",
    "mse"
   ],
   "metadata": {
    "collapsed": false,
    "ExecuteTime": {
     "end_time": "2024-04-21T21:54:12.018544600Z",
     "start_time": "2024-04-21T21:54:11.850214700Z"
    }
   },
   "id": "772bce9a137be833",
   "execution_count": 594
  },
  {
   "cell_type": "code",
   "outputs": [],
   "source": [
    "def mae_function(y_test, y_pred):\n",
    "    \"\"\"\n",
    "    Calculuates mean absolute error between y_test and y_preds.\n",
    "    \"\"\"\n",
    "    return tf.metrics.mean_absolute_error(y_test,\n",
    "                                          y_pred.squeeze())\n",
    "\n",
    "\n",
    "def mse_function(y_test, y_pred):\n",
    "    \"\"\"\n",
    "    Calculates mean squared error between y_test and y_preds.\n",
    "    \"\"\"\n",
    "    return tf.metrics.mean_squared_error(y_test,\n",
    "                                         y_pred.squeeze())"
   ],
   "metadata": {
    "collapsed": false,
    "ExecuteTime": {
     "end_time": "2024-04-21T21:54:12.037141700Z",
     "start_time": "2024-04-21T21:54:11.864670400Z"
    }
   },
   "id": "477c91e16fa9d353",
   "execution_count": 595
  },
  {
   "cell_type": "markdown",
   "source": [
    "## Running experiments to improve a model\n",
    "After seeing the evaluation metrics and the predictions your model makes, it's likely you'll want to improve it.\n",
    "\n",
    "Again, there are many different ways you can do this, but 3 of the main ones are:\n",
    "\n",
    "1. **Get more data** - get more examples for your model to train on (more opportunities to learn patterns).\n",
    "2. **Make your model larger** (use a more complex model) - this might come in the form of more layers or more hidden units in each layer.\n",
    "3. **Train for longer** - give your model more of a chance to find the patterns in the data.\n",
    "\n",
    "\n",
    "Since we created our dataset, we could easily make more data but this isn't always the case when you're working with real-world datasets.\n",
    "\n",
    "So let's take a look at how we can improve our model using 2 and 3.\n",
    "\n",
    "To do so, we'll build 3 models and compare their results:\n",
    "\n",
    "`model_1` - same as original model, 1 layer, trained for 100 epochs.\n",
    "`model_2` - 2 layers, trained for 100 epochs.\n",
    "`model_3` - 2 layers, trained for 500 epochs."
   ],
   "metadata": {
    "collapsed": false
   },
   "id": "fac2c602441cf18b"
  },
  {
   "cell_type": "markdown",
   "source": [
    "#### Build `model_1`"
   ],
   "metadata": {
    "collapsed": false
   },
   "id": "9b8679bedfb82bf6"
  },
  {
   "cell_type": "code",
   "outputs": [
    {
     "name": "stdout",
     "output_type": "stream",
     "text": [
      "batch : 1 | epoch : 1 | loss: 89.59715270996094\n",
      "batch : 2 | epoch : 1 | loss: 89.83839416503906\n",
      "batch : 1 | epoch : 25 | loss: 15.109701156616211\n",
      "batch : 2 | epoch : 25 | loss: 12.668478965759277\n",
      "batch : 1 | epoch : 50 | loss: 14.774407386779785\n",
      "batch : 2 | epoch : 50 | loss: 12.810503005981445\n",
      "batch : 1 | epoch : 75 | loss: 3.6642513275146484\n",
      "batch : 2 | epoch : 75 | loss: 5.87716817855835\n",
      "batch : 1 | epoch : 100 | loss: 12.285272598266602\n",
      "batch : 2 | epoch : 100 | loss: 11.281506538391113\n"
     ]
    },
    {
     "data": {
      "text/plain": "<keras.callbacks.History at 0x25be0e5b760>"
     },
     "execution_count": 596,
     "metadata": {},
     "output_type": "execute_result"
    }
   ],
   "source": [
    "tf.random.set_seed(42)\n",
    "\n",
    "model_1 = tf.keras.Sequential([\n",
    "    tf.keras.layers.Dense(1, input_shape=[1, ])\n",
    "])\n",
    "\n",
    "model_1.compile(loss='mae',\n",
    "\n",
    "                optimizer=tf.keras.optimizers.SGD(),\n",
    "                metrics=['mae', 'mse'])\n",
    "\n",
    "model_1.fit(tf.expand_dims(X_train, axis=-1), y_train,\n",
    "            epochs=100,\n",
    "            verbose=0,\n",
    "            callbacks=[personalized_Callback(25)])"
   ],
   "metadata": {
    "collapsed": false,
    "ExecuteTime": {
     "end_time": "2024-04-21T21:54:12.949605100Z",
     "start_time": "2024-04-21T21:54:11.880142800Z"
    }
   },
   "id": "2edf9c29d0a4acc1",
   "execution_count": 596
  },
  {
   "cell_type": "markdown",
   "source": [
    "**Note** :  <p> if we don't specify input shape in the first layer the predict function will return 3D array of (x,1,1) </p>"
   ],
   "metadata": {
    "collapsed": false
   },
   "id": "6a71f68a8c806041"
  },
  {
   "cell_type": "code",
   "outputs": [
    {
     "name": "stdout",
     "output_type": "stream",
     "text": [
      "1/1 [==============================] - 0s 32ms/step\n"
     ]
    },
    {
     "data": {
      "text/plain": "((10, 1), TensorShape([10, 1]))"
     },
     "execution_count": 597,
     "metadata": {},
     "output_type": "execute_result"
    },
    {
     "data": {
      "text/plain": "<Figure size 600x600 with 1 Axes>",
      "image/png": "[encoded data removed]"
     },
     "metadata": {},
     "output_type": "display_data"
    }
   ],
   "source": [
    "y_preds_1 = model_1.predict(X_test)\n",
    "plot_predictions(predictions=y_preds_1)\n",
    "y_preds_1.shape, X_test.shape"
   ],
   "metadata": {
    "collapsed": false,
    "ExecuteTime": {
     "end_time": "2024-04-21T21:54:13.200956400Z",
     "start_time": "2024-04-21T21:54:12.949605100Z"
    }
   },
   "id": "adb2e64a7510c3ee",
   "execution_count": 597
  },
  {
   "cell_type": "code",
   "outputs": [
    {
     "data": {
      "text/plain": "(18.477139, 364.41275)"
     },
     "execution_count": 598,
     "metadata": {},
     "output_type": "execute_result"
    }
   ],
   "source": [
    "mae_1 = mae_function(y_test, y_preds_1).numpy()\n",
    "mse_1 = mse_function(y_test, y_preds_1).numpy()\n",
    "mae_1, mse_1\n"
   ],
   "metadata": {
    "collapsed": false,
    "ExecuteTime": {
     "end_time": "2024-04-21T21:54:13.251004300Z",
     "start_time": "2024-04-21T21:54:13.198912Z"
    }
   },
   "id": "cab56f3d4fa465d0",
   "execution_count": 598
  },
  {
   "cell_type": "markdown",
   "source": [
    "#### Build `model_2` \n",
    "This time we will add an ectra dense layer (so now our model will have 2 layers) whilst keeping everything else the same."
   ],
   "metadata": {
    "collapsed": false
   },
   "id": "a1a76311b5f25bc4"
  },
  {
   "cell_type": "code",
   "outputs": [
    {
     "name": "stdout",
     "output_type": "stream",
     "text": [
      "batch : 1 | epoch : 1 | loss: 100.79060363769531\n",
      "batch : 2 | epoch : 1 | loss: 96.13356018066406\n",
      "batch : 1 | epoch : 25 | loss: 10.606832504272461\n",
      "batch : 2 | epoch : 25 | loss: 13.875871658325195\n",
      "batch : 1 | epoch : 50 | loss: 9.52968978881836\n",
      "batch : 2 | epoch : 50 | loss: 13.047358512878418\n",
      "batch : 1 | epoch : 75 | loss: 20.249242782592773\n",
      "batch : 2 | epoch : 75 | loss: 17.542844772338867\n",
      "batch : 1 | epoch : 100 | loss: 6.5469560623168945\n",
      "batch : 2 | epoch : 100 | loss: 11.863718032836914\n"
     ]
    },
    {
     "data": {
      "text/plain": "<keras.callbacks.History at 0x25be0fafcd0>"
     },
     "execution_count": 599,
     "metadata": {},
     "output_type": "execute_result"
    }
   ],
   "source": [
    "tf.random.set_seed(42)\n",
    "\n",
    "model_2 = tf.keras.Sequential([\n",
    "    tf.keras.layers.Dense(1, input_shape=[1, ]),\n",
    "    tf.keras.layers.Dense(1)  # add a second layer\n",
    "])\n",
    "\n",
    "model_2.compile(loss='mae',\n",
    "                optimizer=tf.keras.optimizers.SGD(),\n",
    "                metrics=['mae', 'mse'])\n",
    "\n",
    "model_2.fit(tf.expand_dims(X_train, axis=-1), y_train,\n",
    "            epochs=100,\n",
    "            verbose=0,\n",
    "            callbacks=[personalized_Callback(25)])"
   ],
   "metadata": {
    "collapsed": false,
    "ExecuteTime": {
     "end_time": "2024-04-21T21:54:14.312753400Z",
     "start_time": "2024-04-21T21:54:13.214311700Z"
    }
   },
   "id": "7b0754f214c90ff9",
   "execution_count": 599
  },
  {
   "cell_type": "code",
   "outputs": [
    {
     "name": "stdout",
     "output_type": "stream",
     "text": [
      "1/1 [==============================] - 0s 36ms/step\n"
     ]
    },
    {
     "data": {
      "text/plain": "(10, 1)"
     },
     "execution_count": 600,
     "metadata": {},
     "output_type": "execute_result"
    },
    {
     "data": {
      "text/plain": "<Figure size 600x600 with 1 Axes>",
      "image/png": "[encoded data removed]"
     },
     "metadata": {},
     "output_type": "display_data"
    }
   ],
   "source": [
    "y_preds_2 = model_2.predict(X_test)\n",
    "plot_predictions(predictions=y_preds_2)\n",
    "y_preds_2.shape"
   ],
   "metadata": {
    "collapsed": false,
    "ExecuteTime": {
     "end_time": "2024-04-21T21:54:14.556193600Z",
     "start_time": "2024-04-21T21:54:14.305624200Z"
    }
   },
   "id": "bec84d55abcdcddf",
   "execution_count": 600
  },
  {
   "cell_type": "code",
   "outputs": [
    {
     "data": {
      "text/plain": "(29.793121, 947.42737)"
     },
     "execution_count": 601,
     "metadata": {},
     "output_type": "execute_result"
    }
   ],
   "source": [
    "# Calculate model_2 metrics\n",
    "mae_2 = mae_function(y_test, y_preds_2).numpy()\n",
    "mse_2 = mse_function(y_test, y_preds_2).numpy()\n",
    "mae_2, mse_2"
   ],
   "metadata": {
    "collapsed": false,
    "ExecuteTime": {
     "end_time": "2024-04-21T21:54:14.607079600Z",
     "start_time": "2024-04-21T21:54:14.554127700Z"
    }
   },
   "id": "f2d9fd4b9c70eaa",
   "execution_count": 601
  },
  {
   "cell_type": "markdown",
   "source": [
    "#### Build `model_3`\n",
    "For the 3rd model, same as model_2 except this time we'll train for longer (500 epochs instead of 100)"
   ],
   "metadata": {
    "collapsed": false
   },
   "id": "3e2da7ca69864fdc"
  },
  {
   "cell_type": "code",
   "outputs": [
    {
     "name": "stdout",
     "output_type": "stream",
     "text": [
      "batch : 1 | epoch : 1 | loss: 35.33476257324219\n",
      "batch : 2 | epoch : 1 | loss: 34.06615447998047\n",
      "batch : 1 | epoch : 25 | loss: 14.26275634765625\n",
      "batch : 2 | epoch : 25 | loss: 17.3218994140625\n",
      "batch : 1 | epoch : 50 | loss: 1.44380521774292\n",
      "batch : 2 | epoch : 50 | loss: 6.851935386657715\n",
      "batch : 1 | epoch : 75 | loss: 17.99524688720703\n",
      "batch : 2 | epoch : 75 | loss: 16.56402015686035\n",
      "batch : 1 | epoch : 100 | loss: 2.275801658630371\n",
      "batch : 2 | epoch : 100 | loss: 7.524026393890381\n",
      "batch : 1 | epoch : 125 | loss: 26.380338668823242\n",
      "batch : 2 | epoch : 125 | loss: 22.820934295654297\n",
      "batch : 1 | epoch : 150 | loss: 20.15481185913086\n",
      "batch : 2 | epoch : 150 | loss: 17.175559997558594\n",
      "batch : 1 | epoch : 175 | loss: 5.958010673522949\n",
      "batch : 2 | epoch : 175 | loss: 12.253447532653809\n",
      "batch : 1 | epoch : 200 | loss: 27.425071716308594\n",
      "batch : 2 | epoch : 200 | loss: 24.12841796875\n",
      "batch : 1 | epoch : 225 | loss: 19.655120849609375\n",
      "batch : 2 | epoch : 225 | loss: 17.386898040771484\n",
      "batch : 1 | epoch : 250 | loss: 27.005332946777344\n",
      "batch : 2 | epoch : 250 | loss: 25.89748764038086\n",
      "batch : 1 | epoch : 275 | loss: 15.256842613220215\n",
      "batch : 2 | epoch : 275 | loss: 15.390192031860352\n",
      "batch : 1 | epoch : 300 | loss: 11.207545280456543\n",
      "batch : 2 | epoch : 300 | loss: 13.98913288116455\n",
      "batch : 1 | epoch : 325 | loss: 4.547250270843506\n",
      "batch : 2 | epoch : 325 | loss: 12.094266891479492\n",
      "batch : 1 | epoch : 350 | loss: 12.10801887512207\n",
      "batch : 2 | epoch : 350 | loss: 15.39866828918457\n",
      "batch : 1 | epoch : 375 | loss: 18.925479888916016\n",
      "batch : 2 | epoch : 375 | loss: 20.779987335205078\n",
      "batch : 1 | epoch : 400 | loss: 0.7346764802932739\n",
      "batch : 2 | epoch : 400 | loss: 5.938704013824463\n",
      "batch : 1 | epoch : 425 | loss: 18.79867172241211\n",
      "batch : 2 | epoch : 425 | loss: 16.687795639038086\n",
      "batch : 1 | epoch : 450 | loss: 12.248373031616211\n",
      "batch : 2 | epoch : 450 | loss: 13.803387641906738\n",
      "batch : 1 | epoch : 475 | loss: 33.49420928955078\n",
      "batch : 2 | epoch : 475 | loss: 30.31670570373535\n",
      "batch : 1 | epoch : 500 | loss: 5.936383247375488\n",
      "batch : 2 | epoch : 500 | loss: 10.439032554626465\n"
     ]
    },
    {
     "data": {
      "text/plain": "<keras.callbacks.History at 0x25be14fc640>"
     },
     "execution_count": 602,
     "metadata": {},
     "output_type": "execute_result"
    }
   ],
   "source": [
    "tf.random.set_seed(42)\n",
    "\n",
    "model_3 = tf.keras.Sequential([\n",
    "    tf.keras.layers.Dense(1, input_shape=[1, ]),\n",
    "    tf.keras.layers.Dense(1)  # add a second layer\n",
    "])\n",
    "\n",
    "model_3.compile(loss='mae',\n",
    "                optimizer=tf.keras.optimizers.SGD(),\n",
    "                metrics=['mae', 'mse'])\n",
    "\n",
    "model_3.fit(tf.expand_dims(X_train, axis=-1), y_train,\n",
    "            epochs=500,  # increase nb of epochs\n",
    "            verbose=0,\n",
    "            callbacks=[personalized_Callback(25)])"
   ],
   "metadata": {
    "collapsed": false,
    "ExecuteTime": {
     "end_time": "2024-04-21T21:54:17.807034100Z",
     "start_time": "2024-04-21T21:54:14.570645300Z"
    }
   },
   "id": "95a1e0baa243d435",
   "execution_count": 602
  },
  {
   "cell_type": "code",
   "outputs": [
    {
     "name": "stdout",
     "output_type": "stream",
     "text": [
      "1/1 [==============================] - 0s 36ms/step\n"
     ]
    },
    {
     "data": {
      "text/plain": "<Figure size 600x600 with 1 Axes>",
      "image/png": "[encoded data removed]"
     },
     "metadata": {},
     "output_type": "display_data"
    }
   ],
   "source": [
    "y_preds_3 = model_3.predict(X_test)\n",
    "plot_predictions(predictions=y_preds_3)\n"
   ],
   "metadata": {
    "collapsed": false,
    "ExecuteTime": {
     "end_time": "2024-04-21T21:54:18.056404200Z",
     "start_time": "2024-04-21T21:54:17.805989800Z"
    }
   },
   "id": "8957a1973028f90f",
   "execution_count": 603
  },
  {
   "cell_type": "markdown",
   "source": [
    "<p>\n",
    "Strange, we trained for longer but our model performed worse?\n",
    "\n",
    "As it turns out, our model might've trained too long and has thus resulted in worse results (we'll see ways to prevent training for too long later on).</p>"
   ],
   "metadata": {
    "collapsed": false
   },
   "id": "f8d7fd38809461cd"
  },
  {
   "cell_type": "code",
   "outputs": [
    {
     "data": {
      "text/plain": "(20.086079, 430.0284)"
     },
     "execution_count": 604,
     "metadata": {},
     "output_type": "execute_result"
    }
   ],
   "source": [
    "# Calculate model_3 metrics\n",
    "mae_3 = mae_function(y_test, y_preds_3.squeeze()).numpy()\n",
    "mse_3 = mse_function(y_test, y_preds_3.squeeze()).numpy()\n",
    "mae_3, mse_3"
   ],
   "metadata": {
    "collapsed": false,
    "ExecuteTime": {
     "end_time": "2024-04-21T21:54:18.115675300Z",
     "start_time": "2024-04-21T21:54:18.055331100Z"
    }
   },
   "id": "aea801a6872fba24",
   "execution_count": 604
  },
  {
   "cell_type": "code",
   "outputs": [
    {
     "data": {
      "text/plain": "[['model_1', 18.477139, 364.41275],\n ['model_2', 29.793121, 947.42737],\n ['model_3', 20.086079, 430.0284]]"
     },
     "execution_count": 605,
     "metadata": {},
     "output_type": "execute_result"
    }
   ],
   "source": [
    "models_results = [\n",
    "    [\"model_1\", mae_1, mse_1],\n",
    "    [\"model_2\", mae_2, mse_2],\n",
    "    [\"model_3\", mae_3, mse_3]]\n",
    "models_results"
   ],
   "metadata": {
    "collapsed": false,
    "ExecuteTime": {
     "end_time": "2024-04-21T21:54:18.119801800Z",
     "start_time": "2024-04-21T21:54:18.069772100Z"
    }
   },
   "id": "2b5a163bb85300e2",
   "execution_count": 605
  },
  {
   "cell_type": "code",
   "outputs": [
    {
     "data": {
      "text/plain": "     model        mae         mse\n0  model_1  18.477139  364.412750\n1  model_2  29.793121  947.427368\n2  model_3  20.086079  430.028412",
      "text/html": "<div>\n<style scoped>\n    .dataframe tbody tr th:only-of-type {\n        vertical-align: middle;\n    }\n\n    .dataframe tbody tr th {\n        vertical-align: top;\n    }\n\n    .dataframe thead th {\n        text-align: right;\n    }\n</style>\n<table border=\"1\" class=\"dataframe\">\n  <thead>\n    <tr style=\"text-align: right;\">\n      <th></th>\n      <th>model</th>\n      <th>mae</th>\n      <th>mse</th>\n    </tr>\n  </thead>\n  <tbody>\n    <tr>\n      <th>0</th>\n      <td>model_1</td>\n      <td>18.477139</td>\n      <td>364.412750</td>\n    </tr>\n    <tr>\n      <th>1</th>\n      <td>model_2</td>\n      <td>29.793121</td>\n      <td>947.427368</td>\n    </tr>\n    <tr>\n      <th>2</th>\n      <td>model_3</td>\n      <td>20.086079</td>\n      <td>430.028412</td>\n    </tr>\n  </tbody>\n</table>\n</div>"
     },
     "execution_count": 606,
     "metadata": {},
     "output_type": "execute_result"
    }
   ],
   "source": [
    "import pandas as pd\n",
    "\n",
    "df_results = pd.DataFrame(models_results, columns=['model', 'mae', 'mse'])\n",
    "df_results"
   ],
   "metadata": {
    "collapsed": false,
    "ExecuteTime": {
     "end_time": "2024-04-21T21:54:18.184568700Z",
     "start_time": "2024-04-21T21:54:18.090418800Z"
    }
   },
   "id": "59c6f54e067d003",
   "execution_count": 606
  },
  {
   "cell_type": "markdown",
   "source": [
    "<p>From our experiments, it looks like model_2 performed the best.\n",
    "\n",
    "And now, you might be thinking, \"wow, comparing models is tedious...\" and it definitely can be, we've only compared 3 models here.\n",
    "\n",
    "But this is part of what machine learning modelling is about, trying many different combinations of models and seeing which performs best.\n",
    "\n",
    "Each model you build is a small experiment.</p>\n",
    "\n",
    "**Note**: One of your main goals should be to minimize the time between your experiments. The more experiments you do, the more things you'll figure out which don't work and in turn, get closer to figuring out what does work. Remember the machine learning practitioner's motto: \"experiment, experiment, experiment\".\n",
    "\n",
    "Another thing you'll also find is what you thought may work (such as training a model for longer) may not always work and the exact opposite is also often the case."
   ],
   "metadata": {
    "collapsed": false
   },
   "id": "c000d5e718e4797a"
  },
  {
   "cell_type": "markdown",
   "source": [
    "## Tracking your experiments\n",
    "One really good habit to get into is tracking your modelling experiments to see which perform better than others.\n",
    "\n",
    "We've done a simple version of this above (keeping the results in different variables).\n",
    "\n",
    "**Resource**: But as you build more models, you'll want to look into using tools such as:\n",
    "\n",
    "* **TensorBoard** - a component of the TensorFlow library to help track modelling experiments (we'll see this later).\n",
    "* **Weights & Biases** - a tool for tracking all kinds of machine learning experiments (the good news for Weights & Biases is it plugs into TensorBoard).\n"
   ],
   "metadata": {
    "collapsed": false
   },
   "id": "672593155df374be"
  },
  {
   "cell_type": "markdown",
   "source": [
    "## Saving a model\n",
    "Once you've trained a model and found one which performs to your liking, you'll probably want to save it for use elsewhere (like a web application or mobile device).\n",
    "\n",
    "You can save a TensorFlow/Keras model using model.save().\n",
    "\n",
    "There are two ways to save a model in TensorFlow:\n",
    "\n",
    "1. The **SavedModel format** (default).\n",
    "2. The **HDF5 format**. \n",
    "\n",
    "The main difference between the two is the SavedModel is automatically able to save custom objects (such as special layers) without additional modifications when loading the model back in.\n",
    "\n",
    "Which one should you use?\n",
    "\n",
    "It depends on your situation but the SavedModel format will suffice most of the time.\n",
    "\n",
    "Both methods use the same method call."
   ],
   "metadata": {
    "collapsed": false
   },
   "id": "3b17c79fe38f699d"
  },
  {
   "cell_type": "code",
   "outputs": [
    {
     "name": "stdout",
     "output_type": "stream",
     "text": [
      "INFO:tensorflow:Assets written to: best_model_SavedModel_format\\assets\n"
     ]
    }
   ],
   "source": [
    "# Save a model using the SavedModel format\n",
    "model_2.save('best_model_SavedModel_format')"
   ],
   "metadata": {
    "collapsed": false,
    "ExecuteTime": {
     "end_time": "2024-04-21T21:54:18.407433700Z",
     "start_time": "2024-04-21T21:54:18.101849900Z"
    }
   },
   "id": "d0a6d7523506d3c2",
   "execution_count": 607
  },
  {
   "cell_type": "code",
   "outputs": [],
   "source": [
    "# Save a model using the HDF5 format\n",
    "model_2.save(\"best_model_HDF5_format.h5\")  # note the addition of '.h5' on the end"
   ],
   "metadata": {
    "collapsed": false,
    "ExecuteTime": {
     "end_time": "2024-04-21T21:54:18.454038100Z",
     "start_time": "2024-04-21T21:54:18.408479500Z"
    }
   },
   "id": "55e753754f971dda",
   "execution_count": 608
  },
  {
   "cell_type": "markdown",
   "source": [
    "## Loading a model\n",
    "We can load a saved model using the `load_model()` method\n",
    "\n",
    "Loading a model for the different formats (SavedModel and HDF5) is the same (as long as the pathnames to the particular formats are correct)."
   ],
   "metadata": {
    "collapsed": false
   },
   "id": "db4230bf90ff4449"
  },
  {
   "cell_type": "code",
   "outputs": [
    {
     "name": "stdout",
     "output_type": "stream",
     "text": [
      "Model: \"sequential_128\"\n",
      "_________________________________________________________________\n",
      " Layer (type)                Output Shape              Param #   \n",
      "=================================================================\n",
      " dense_211 (Dense)           (None, 1)                 2         \n",
      "                                                                 \n",
      " dense_212 (Dense)           (None, 1)                 2         \n",
      "                                                                 \n",
      "=================================================================\n",
      "Total params: 4\n",
      "Trainable params: 4\n",
      "Non-trainable params: 0\n",
      "_________________________________________________________________\n"
     ]
    }
   ],
   "source": [
    "# Load a model from the SavedModel format\n",
    "loaded_saved_model = tf.keras.models.load_model('best_model_SavedModel_format')\n",
    "loaded_saved_model.summary()"
   ],
   "metadata": {
    "collapsed": false,
    "ExecuteTime": {
     "end_time": "2024-04-21T21:54:18.588925400Z",
     "start_time": "2024-04-21T21:54:18.423077400Z"
    }
   },
   "id": "ca28447b7eb001a",
   "execution_count": 609
  },
  {
   "cell_type": "markdown",
   "source": [
    "Now let's test it out."
   ],
   "metadata": {
    "collapsed": false
   },
   "id": "acaf1cf350eb0ce5"
  },
  {
   "cell_type": "code",
   "outputs": [
    {
     "name": "stdout",
     "output_type": "stream",
     "text": [
      "1/1 [==============================] - 0s 27ms/step\n",
      "1/1 [==============================] - 0s 38ms/step\n"
     ]
    },
    {
     "data": {
      "text/plain": "True"
     },
     "execution_count": 610,
     "metadata": {},
     "output_type": "execute_result"
    }
   ],
   "source": [
    "# Compare model_2 with the SavedModel version (should return True)\n",
    "model_2_preds = model_2.predict(X_test)\n",
    "saved_model_preds = loaded_saved_model.predict(X_test)\n",
    "mae_function(y_test, saved_model_preds).numpy() == mae_function(y_test, model_2_preds).numpy()"
   ],
   "metadata": {
    "collapsed": false,
    "ExecuteTime": {
     "end_time": "2024-04-21T21:54:18.737752100Z",
     "start_time": "2024-04-21T21:54:18.563090300Z"
    }
   },
   "id": "dd383627dd6bb9f1",
   "execution_count": 610
  },
  {
   "cell_type": "markdown",
   "source": [
    "Loading in from the HDF5 is much the same."
   ],
   "metadata": {
    "collapsed": false
   },
   "id": "928e57b0c0196464"
  },
  {
   "cell_type": "code",
   "outputs": [
    {
     "name": "stdout",
     "output_type": "stream",
     "text": [
      "Model: \"sequential_128\"\n",
      "_________________________________________________________________\n",
      " Layer (type)                Output Shape              Param #   \n",
      "=================================================================\n",
      " dense_211 (Dense)           (None, 1)                 2         \n",
      "                                                                 \n",
      " dense_212 (Dense)           (None, 1)                 2         \n",
      "                                                                 \n",
      "=================================================================\n",
      "Total params: 4\n",
      "Trainable params: 4\n",
      "Non-trainable params: 0\n",
      "_________________________________________________________________\n"
     ]
    }
   ],
   "source": [
    "# Load a model from the HDF5 format\n",
    "loaded_h5_model = tf.keras.models.load_model('best_model_HDF5_format.h5')\n",
    "loaded_h5_model.summary()"
   ],
   "metadata": {
    "collapsed": false,
    "ExecuteTime": {
     "end_time": "2024-04-21T21:54:18.771957300Z",
     "start_time": "2024-04-21T21:54:18.687666500Z"
    }
   },
   "id": "e4889e88fb146c4b",
   "execution_count": 611
  },
  {
   "cell_type": "code",
   "outputs": [
    {
     "name": "stdout",
     "output_type": "stream",
     "text": [
      "1/1 [==============================] - 0s 35ms/step\n"
     ]
    },
    {
     "data": {
      "text/plain": "True"
     },
     "execution_count": 612,
     "metadata": {},
     "output_type": "execute_result"
    }
   ],
   "source": [
    "# Compare model_2 with the loaded HDF5 version (should return True)\n",
    "h5_model_preds = loaded_h5_model.predict(X_test)\n",
    "mae_function(y_test, h5_model_preds).numpy() == mae_function(y_test, model_2_preds).numpy()"
   ],
   "metadata": {
    "collapsed": false,
    "ExecuteTime": {
     "end_time": "2024-04-21T21:54:18.909650800Z",
     "start_time": "2024-04-21T21:54:18.734693600Z"
    }
   },
   "id": "b898293224bbb885",
   "execution_count": 612
  },
  {
   "cell_type": "markdown",
   "source": [
    "#### Downloading a model (from Google Colab)\n",
    "Say you wanted to get your model from Google Colab to your local machine, you can do one of the following things:\n",
    "* Right click on the file in the files pane and click 'download'.\n",
    "* Use the code below"
   ],
   "metadata": {
    "collapsed": false
   },
   "id": "f35e9a9dcce60f8b"
  },
  {
   "cell_type": "code",
   "outputs": [],
   "source": [
    "## Download the model (or any file) from Google Colab\n",
    "# from google.colab import files\n",
    "# files.download(\"best_model_HDF5_format.h5\")"
   ],
   "metadata": {
    "collapsed": false,
    "ExecuteTime": {
     "end_time": "2024-04-21T21:54:18.909650800Z",
     "start_time": "2024-04-21T21:54:18.812206100Z"
    }
   },
   "id": "2f9326a19bf05bd",
   "execution_count": 613
  },
  {
   "cell_type": "markdown",
   "source": [
    "## A larger example\n",
    "\n",
    "Alright, we've seen the fundamentals of building neural network regression models in TensorFlow.\n",
    "\n",
    "Let's step it up a notch and build a model for a more feature rich dataset.\n",
    "\n",
    "More specifically we're going to try predict the cost of medical insurance for individuals based on a number of different parameters such as, age, sex, bmi, children, smoking_status and residential_region.\n",
    "\n",
    "To do, we'll leverage the pubically available <a href='https://www.kaggle.com/datasets/mirichoi0218/insurance'>Medical Cost dataset </a>available from Kaggle and <a href='https://github.com/stedy/Machine-Learning-with-R-datasets/blob/master/insurance.csv'>hosted on GitHub</a>."
   ],
   "metadata": {
    "collapsed": false
   },
   "id": "2eeaf6872e05a007"
  },
  {
   "cell_type": "markdown",
   "source": [
    " **Note**: When learning machine learning paradigms, you'll often go through a series of foundational techniques and then practice them by working with open-source datasets and examples. Just as we're doing now, learn foundations, put them to work with different problems. Every time you work on something new, it's a good idea to search for something like \"problem X example with Python/TensorFlow\" where you substitute X for your problem."
   ],
   "metadata": {
    "collapsed": false
   },
   "id": "516888f41bfd7021"
  },
  {
   "cell_type": "code",
   "outputs": [],
   "source": [
    "# Download the dataset\n",
    "insurance_df = pd.read_csv(\n",
    "    'https://raw.githubusercontent.com/stedy/Machine-Learning-with-R-datasets/master/insurance.csv')"
   ],
   "metadata": {
    "collapsed": false,
    "ExecuteTime": {
     "end_time": "2024-04-21T21:54:19.252305800Z",
     "start_time": "2024-04-21T21:54:18.829203100Z"
    }
   },
   "id": "c4200d6a9e6d3d35",
   "execution_count": 614
  },
  {
   "cell_type": "code",
   "outputs": [
    {
     "data": {
      "text/plain": "   age     sex     bmi  children smoker     region      charges\n0   19  female  27.900         0    yes  southwest  16884.92400\n1   18    male  33.770         1     no  southeast   1725.55230\n2   28    male  33.000         3     no  southeast   4449.46200\n3   33    male  22.705         0     no  northwest  21984.47061\n4   32    male  28.880         0     no  northwest   3866.85520",
      "text/html": "<div>\n<style scoped>\n    .dataframe tbody tr th:only-of-type {\n        vertical-align: middle;\n    }\n\n    .dataframe tbody tr th {\n        vertical-align: top;\n    }\n\n    .dataframe thead th {\n        text-align: right;\n    }\n</style>\n<table border=\"1\" class=\"dataframe\">\n  <thead>\n    <tr style=\"text-align: right;\">\n      <th></th>\n      <th>age</th>\n      <th>sex</th>\n      <th>bmi</th>\n      <th>children</th>\n      <th>smoker</th>\n      <th>region</th>\n      <th>charges</th>\n    </tr>\n  </thead>\n  <tbody>\n    <tr>\n      <th>0</th>\n      <td>19</td>\n      <td>female</td>\n      <td>27.900</td>\n      <td>0</td>\n      <td>yes</td>\n      <td>southwest</td>\n      <td>16884.92400</td>\n    </tr>\n    <tr>\n      <th>1</th>\n      <td>18</td>\n      <td>male</td>\n      <td>33.770</td>\n      <td>1</td>\n      <td>no</td>\n      <td>southeast</td>\n      <td>1725.55230</td>\n    </tr>\n    <tr>\n      <th>2</th>\n      <td>28</td>\n      <td>male</td>\n      <td>33.000</td>\n      <td>3</td>\n      <td>no</td>\n      <td>southeast</td>\n      <td>4449.46200</td>\n    </tr>\n    <tr>\n      <th>3</th>\n      <td>33</td>\n      <td>male</td>\n      <td>22.705</td>\n      <td>0</td>\n      <td>no</td>\n      <td>northwest</td>\n      <td>21984.47061</td>\n    </tr>\n    <tr>\n      <th>4</th>\n      <td>32</td>\n      <td>male</td>\n      <td>28.880</td>\n      <td>0</td>\n      <td>no</td>\n      <td>northwest</td>\n      <td>3866.85520</td>\n    </tr>\n  </tbody>\n</table>\n</div>"
     },
     "execution_count": 615,
     "metadata": {},
     "output_type": "execute_result"
    }
   ],
   "source": [
    "# Check out the dataset\n",
    "insurance_df.head()"
   ],
   "metadata": {
    "collapsed": false,
    "ExecuteTime": {
     "end_time": "2024-04-21T21:54:19.270036700Z",
     "start_time": "2024-04-21T21:54:19.251307500Z"
    }
   },
   "id": "ddb947e573d6a377",
   "execution_count": 615
  },
  {
   "cell_type": "markdown",
   "source": [
    "###  Get more infos about our dataset\n"
   ],
   "metadata": {
    "collapsed": false
   },
   "id": "a5ec157b5c397777"
  },
  {
   "cell_type": "code",
   "outputs": [
    {
     "name": "stdout",
     "output_type": "stream",
     "text": [
      "<class 'pandas.core.frame.DataFrame'>\n",
      "RangeIndex: 1338 entries, 0 to 1337\n",
      "Data columns (total 7 columns):\n",
      " #   Column    Non-Null Count  Dtype  \n",
      "---  ------    --------------  -----  \n",
      " 0   age       1338 non-null   int64  \n",
      " 1   sex       1338 non-null   object \n",
      " 2   bmi       1338 non-null   float64\n",
      " 3   children  1338 non-null   int64  \n",
      " 4   smoker    1338 non-null   object \n",
      " 5   region    1338 non-null   object \n",
      " 6   charges   1338 non-null   float64\n",
      "dtypes: float64(2), int64(2), object(3)\n",
      "memory usage: 73.3+ KB\n"
     ]
    }
   ],
   "source": [
    "insurance_df.info()"
   ],
   "metadata": {
    "collapsed": false,
    "ExecuteTime": {
     "end_time": "2024-04-21T21:54:19.325324800Z",
     "start_time": "2024-04-21T21:54:19.263769800Z"
    }
   },
   "id": "f6ae0527e5d3d092",
   "execution_count": 616
  },
  {
   "cell_type": "code",
   "outputs": [
    {
     "data": {
      "text/plain": "               age          bmi     children       charges\ncount  1338.000000  1338.000000  1338.000000   1338.000000\nmean     39.207025    30.663397     1.094918  13270.422265\nstd      14.049960     6.098187     1.205493  12110.011237\nmin      18.000000    15.960000     0.000000   1121.873900\n25%      27.000000    26.296250     0.000000   4740.287150\n50%      39.000000    30.400000     1.000000   9382.033000\n75%      51.000000    34.693750     2.000000  16639.912515\nmax      64.000000    53.130000     5.000000  63770.428010",
      "text/html": "<div>\n<style scoped>\n    .dataframe tbody tr th:only-of-type {\n        vertical-align: middle;\n    }\n\n    .dataframe tbody tr th {\n        vertical-align: top;\n    }\n\n    .dataframe thead th {\n        text-align: right;\n    }\n</style>\n<table border=\"1\" class=\"dataframe\">\n  <thead>\n    <tr style=\"text-align: right;\">\n      <th></th>\n      <th>age</th>\n      <th>bmi</th>\n      <th>children</th>\n      <th>charges</th>\n    </tr>\n  </thead>\n  <tbody>\n    <tr>\n      <th>count</th>\n      <td>1338.000000</td>\n      <td>1338.000000</td>\n      <td>1338.000000</td>\n      <td>1338.000000</td>\n    </tr>\n    <tr>\n      <th>mean</th>\n      <td>39.207025</td>\n      <td>30.663397</td>\n      <td>1.094918</td>\n      <td>13270.422265</td>\n    </tr>\n    <tr>\n      <th>std</th>\n      <td>14.049960</td>\n      <td>6.098187</td>\n      <td>1.205493</td>\n      <td>12110.011237</td>\n    </tr>\n    <tr>\n      <th>min</th>\n      <td>18.000000</td>\n      <td>15.960000</td>\n      <td>0.000000</td>\n      <td>1121.873900</td>\n    </tr>\n    <tr>\n      <th>25%</th>\n      <td>27.000000</td>\n      <td>26.296250</td>\n      <td>0.000000</td>\n      <td>4740.287150</td>\n    </tr>\n    <tr>\n      <th>50%</th>\n      <td>39.000000</td>\n      <td>30.400000</td>\n      <td>1.000000</td>\n      <td>9382.033000</td>\n    </tr>\n    <tr>\n      <th>75%</th>\n      <td>51.000000</td>\n      <td>34.693750</td>\n      <td>2.000000</td>\n      <td>16639.912515</td>\n    </tr>\n    <tr>\n      <th>max</th>\n      <td>64.000000</td>\n      <td>53.130000</td>\n      <td>5.000000</td>\n      <td>63770.428010</td>\n    </tr>\n  </tbody>\n</table>\n</div>"
     },
     "execution_count": 617,
     "metadata": {},
     "output_type": "execute_result"
    }
   ],
   "source": [
    "insurance_df.describe()"
   ],
   "metadata": {
    "collapsed": false,
    "ExecuteTime": {
     "end_time": "2024-04-21T21:54:19.347075900Z",
     "start_time": "2024-04-21T21:54:19.279283700Z"
    }
   },
   "id": "cb2f761a635b5b66",
   "execution_count": 617
  },
  {
   "cell_type": "markdown",
   "source": [
    "### Encode non-numerical features\n",
    "\n",
    "We're going to have to turn the non-numerical columns into numbers (because a neural network can't handle non-numerical inputs).\n",
    "\n",
    "To do so, we'll use the `get_dummies()` method in pandas.\n",
    "\n",
    "It converts categorical variables (like the sex, smoker and region columns) into numerical variables using one-hot encoding."
   ],
   "metadata": {
    "collapsed": false
   },
   "id": "fa84faf0b749b94"
  },
  {
   "cell_type": "code",
   "outputs": [
    {
     "data": {
      "text/plain": "      age     bmi  children      charges  sex_female  sex_male  smoker_no  \\\n0      19  27.900         0  16884.92400           1         0          0   \n1      18  33.770         1   1725.55230           0         1          1   \n2      28  33.000         3   4449.46200           0         1          1   \n3      33  22.705         0  21984.47061           0         1          1   \n4      32  28.880         0   3866.85520           0         1          1   \n...   ...     ...       ...          ...         ...       ...        ...   \n1333   50  30.970         3  10600.54830           0         1          1   \n1334   18  31.920         0   2205.98080           1         0          1   \n1335   18  36.850         0   1629.83350           1         0          1   \n1336   21  25.800         0   2007.94500           1         0          1   \n1337   61  29.070         0  29141.36030           1         0          0   \n\n      smoker_yes  region_northeast  region_northwest  region_southeast  \\\n0              1                 0                 0                 0   \n1              0                 0                 0                 1   \n2              0                 0                 0                 1   \n3              0                 0                 1                 0   \n4              0                 0                 1                 0   \n...          ...               ...               ...               ...   \n1333           0                 0                 1                 0   \n1334           0                 1                 0                 0   \n1335           0                 0                 0                 1   \n1336           0                 0                 0                 0   \n1337           1                 0                 1                 0   \n\n      region_southwest  \n0                    1  \n1                    0  \n2                    0  \n3                    0  \n4                    0  \n...                ...  \n1333                 0  \n1334                 0  \n1335                 0  \n1336                 1  \n1337                 0  \n\n[1338 rows x 12 columns]",
      "text/html": "<div>\n<style scoped>\n    .dataframe tbody tr th:only-of-type {\n        vertical-align: middle;\n    }\n\n    .dataframe tbody tr th {\n        vertical-align: top;\n    }\n\n    .dataframe thead th {\n        text-align: right;\n    }\n</style>\n<table border=\"1\" class=\"dataframe\">\n  <thead>\n    <tr style=\"text-align: right;\">\n      <th></th>\n      <th>age</th>\n      <th>bmi</th>\n      <th>children</th>\n      <th>charges</th>\n      <th>sex_female</th>\n      <th>sex_male</th>\n      <th>smoker_no</th>\n      <th>smoker_yes</th>\n      <th>region_northeast</th>\n      <th>region_northwest</th>\n      <th>region_southeast</th>\n      <th>region_southwest</th>\n    </tr>\n  </thead>\n  <tbody>\n    <tr>\n      <th>0</th>\n      <td>19</td>\n      <td>27.900</td>\n      <td>0</td>\n      <td>16884.92400</td>\n      <td>1</td>\n      <td>0</td>\n      <td>0</td>\n      <td>1</td>\n      <td>0</td>\n      <td>0</td>\n      <td>0</td>\n      <td>1</td>\n    </tr>\n    <tr>\n      <th>1</th>\n      <td>18</td>\n      <td>33.770</td>\n      <td>1</td>\n      <td>1725.55230</td>\n      <td>0</td>\n      <td>1</td>\n      <td>1</td>\n      <td>0</td>\n      <td>0</td>\n      <td>0</td>\n      <td>1</td>\n      <td>0</td>\n    </tr>\n    <tr>\n      <th>2</th>\n      <td>28</td>\n      <td>33.000</td>\n      <td>3</td>\n      <td>4449.46200</td>\n      <td>0</td>\n      <td>1</td>\n      <td>1</td>\n      <td>0</td>\n      <td>0</td>\n      <td>0</td>\n      <td>1</td>\n      <td>0</td>\n    </tr>\n    <tr>\n      <th>3</th>\n      <td>33</td>\n      <td>22.705</td>\n      <td>0</td>\n      <td>21984.47061</td>\n      <td>0</td>\n      <td>1</td>\n      <td>1</td>\n      <td>0</td>\n      <td>0</td>\n      <td>1</td>\n      <td>0</td>\n      <td>0</td>\n    </tr>\n    <tr>\n      <th>4</th>\n      <td>32</td>\n      <td>28.880</td>\n      <td>0</td>\n      <td>3866.85520</td>\n      <td>0</td>\n      <td>1</td>\n      <td>1</td>\n      <td>0</td>\n      <td>0</td>\n      <td>1</td>\n      <td>0</td>\n      <td>0</td>\n    </tr>\n    <tr>\n      <th>...</th>\n      <td>...</td>\n      <td>...</td>\n      <td>...</td>\n      <td>...</td>\n      <td>...</td>\n      <td>...</td>\n      <td>...</td>\n      <td>...</td>\n      <td>...</td>\n      <td>...</td>\n      <td>...</td>\n      <td>...</td>\n    </tr>\n    <tr>\n      <th>1333</th>\n      <td>50</td>\n      <td>30.970</td>\n      <td>3</td>\n      <td>10600.54830</td>\n      <td>0</td>\n      <td>1</td>\n      <td>1</td>\n      <td>0</td>\n      <td>0</td>\n      <td>1</td>\n      <td>0</td>\n      <td>0</td>\n    </tr>\n    <tr>\n      <th>1334</th>\n      <td>18</td>\n      <td>31.920</td>\n      <td>0</td>\n      <td>2205.98080</td>\n      <td>1</td>\n      <td>0</td>\n      <td>1</td>\n      <td>0</td>\n      <td>1</td>\n      <td>0</td>\n      <td>0</td>\n      <td>0</td>\n    </tr>\n    <tr>\n      <th>1335</th>\n      <td>18</td>\n      <td>36.850</td>\n      <td>0</td>\n      <td>1629.83350</td>\n      <td>1</td>\n      <td>0</td>\n      <td>1</td>\n      <td>0</td>\n      <td>0</td>\n      <td>0</td>\n      <td>1</td>\n      <td>0</td>\n    </tr>\n    <tr>\n      <th>1336</th>\n      <td>21</td>\n      <td>25.800</td>\n      <td>0</td>\n      <td>2007.94500</td>\n      <td>1</td>\n      <td>0</td>\n      <td>1</td>\n      <td>0</td>\n      <td>0</td>\n      <td>0</td>\n      <td>0</td>\n      <td>1</td>\n    </tr>\n    <tr>\n      <th>1337</th>\n      <td>61</td>\n      <td>29.070</td>\n      <td>0</td>\n      <td>29141.36030</td>\n      <td>1</td>\n      <td>0</td>\n      <td>0</td>\n      <td>1</td>\n      <td>0</td>\n      <td>1</td>\n      <td>0</td>\n      <td>0</td>\n    </tr>\n  </tbody>\n</table>\n<p>1338 rows × 12 columns</p>\n</div>"
     },
     "execution_count": 618,
     "metadata": {},
     "output_type": "execute_result"
    }
   ],
   "source": [
    "# categorical_columns = insurance_df.select_dtypes(include=['object']) # extract object_type features (non-numerical)\n",
    "# df_encoded = pd.get_dummies(insurance_df,columns=categorical_columns.columns)\n",
    "df_encoded = pd.get_dummies(insurance_df,dtype=int)  # Works fine too \n",
    "df_encoded"
   ],
   "metadata": {
    "collapsed": false,
    "ExecuteTime": {
     "end_time": "2024-04-21T21:54:19.350137700Z",
     "start_time": "2024-04-21T21:54:19.294813400Z"
    }
   },
   "id": "b907f5251d2f6210",
   "execution_count": 618
  },
  {
   "cell_type": "code",
   "outputs": [
    {
     "name": "stdout",
     "output_type": "stream",
     "text": [
      "<class 'pandas.core.frame.DataFrame'>\n",
      "RangeIndex: 1338 entries, 0 to 1337\n",
      "Data columns (total 12 columns):\n",
      " #   Column            Non-Null Count  Dtype  \n",
      "---  ------            --------------  -----  \n",
      " 0   age               1338 non-null   int64  \n",
      " 1   bmi               1338 non-null   float64\n",
      " 2   children          1338 non-null   int64  \n",
      " 3   charges           1338 non-null   float64\n",
      " 4   sex_female        1338 non-null   int32  \n",
      " 5   sex_male          1338 non-null   int32  \n",
      " 6   smoker_no         1338 non-null   int32  \n",
      " 7   smoker_yes        1338 non-null   int32  \n",
      " 8   region_northeast  1338 non-null   int32  \n",
      " 9   region_northwest  1338 non-null   int32  \n",
      " 10  region_southeast  1338 non-null   int32  \n",
      " 11  region_southwest  1338 non-null   int32  \n",
      "dtypes: float64(2), int32(8), int64(2)\n",
      "memory usage: 83.8 KB\n"
     ]
    }
   ],
   "source": [
    "df_encoded.info()"
   ],
   "metadata": {
    "collapsed": false,
    "ExecuteTime": {
     "end_time": "2024-04-21T21:54:19.447218200Z",
     "start_time": "2024-04-21T21:54:19.310472300Z"
    }
   },
   "id": "1f77f9a518c58637",
   "execution_count": 619
  },
  {
   "cell_type": "markdown",
   "source": [
    "### Split data into X and y (features and labels)"
   ],
   "metadata": {
    "collapsed": false
   },
   "id": "5ca7941d6928ffd2"
  },
  {
   "cell_type": "code",
   "outputs": [
    {
     "name": "stdout",
     "output_type": "stream",
     "text": [
      "X shape : (1338, 11), y shape : (1338,)\n"
     ]
    }
   ],
   "source": [
    "X = df_encoded.drop(columns=['charges'])\n",
    "y = df_encoded['charges']\n",
    "print(f'X shape : {X.shape}, y shape : {y.shape}')"
   ],
   "metadata": {
    "collapsed": false,
    "ExecuteTime": {
     "end_time": "2024-04-21T21:54:19.491488800Z",
     "start_time": "2024-04-21T21:54:19.326369300Z"
    }
   },
   "id": "caaef99250b962bd",
   "execution_count": 620
  },
  {
   "cell_type": "code",
   "outputs": [
    {
     "data": {
      "text/plain": "   age     bmi  children  sex_female  sex_male  smoker_no  smoker_yes  \\\n0   19  27.900         0           1         0          0           1   \n1   18  33.770         1           0         1          1           0   \n2   28  33.000         3           0         1          1           0   \n3   33  22.705         0           0         1          1           0   \n4   32  28.880         0           0         1          1           0   \n\n   region_northeast  region_northwest  region_southeast  region_southwest  \n0                 0                 0                 0                 1  \n1                 0                 0                 1                 0  \n2                 0                 0                 1                 0  \n3                 0                 1                 0                 0  \n4                 0                 1                 0                 0  ",
      "text/html": "<div>\n<style scoped>\n    .dataframe tbody tr th:only-of-type {\n        vertical-align: middle;\n    }\n\n    .dataframe tbody tr th {\n        vertical-align: top;\n    }\n\n    .dataframe thead th {\n        text-align: right;\n    }\n</style>\n<table border=\"1\" class=\"dataframe\">\n  <thead>\n    <tr style=\"text-align: right;\">\n      <th></th>\n      <th>age</th>\n      <th>bmi</th>\n      <th>children</th>\n      <th>sex_female</th>\n      <th>sex_male</th>\n      <th>smoker_no</th>\n      <th>smoker_yes</th>\n      <th>region_northeast</th>\n      <th>region_northwest</th>\n      <th>region_southeast</th>\n      <th>region_southwest</th>\n    </tr>\n  </thead>\n  <tbody>\n    <tr>\n      <th>0</th>\n      <td>19</td>\n      <td>27.900</td>\n      <td>0</td>\n      <td>1</td>\n      <td>0</td>\n      <td>0</td>\n      <td>1</td>\n      <td>0</td>\n      <td>0</td>\n      <td>0</td>\n      <td>1</td>\n    </tr>\n    <tr>\n      <th>1</th>\n      <td>18</td>\n      <td>33.770</td>\n      <td>1</td>\n      <td>0</td>\n      <td>1</td>\n      <td>1</td>\n      <td>0</td>\n      <td>0</td>\n      <td>0</td>\n      <td>1</td>\n      <td>0</td>\n    </tr>\n    <tr>\n      <th>2</th>\n      <td>28</td>\n      <td>33.000</td>\n      <td>3</td>\n      <td>0</td>\n      <td>1</td>\n      <td>1</td>\n      <td>0</td>\n      <td>0</td>\n      <td>0</td>\n      <td>1</td>\n      <td>0</td>\n    </tr>\n    <tr>\n      <th>3</th>\n      <td>33</td>\n      <td>22.705</td>\n      <td>0</td>\n      <td>0</td>\n      <td>1</td>\n      <td>1</td>\n      <td>0</td>\n      <td>0</td>\n      <td>1</td>\n      <td>0</td>\n      <td>0</td>\n    </tr>\n    <tr>\n      <th>4</th>\n      <td>32</td>\n      <td>28.880</td>\n      <td>0</td>\n      <td>0</td>\n      <td>1</td>\n      <td>1</td>\n      <td>0</td>\n      <td>0</td>\n      <td>1</td>\n      <td>0</td>\n      <td>0</td>\n    </tr>\n  </tbody>\n</table>\n</div>"
     },
     "execution_count": 621,
     "metadata": {},
     "output_type": "execute_result"
    }
   ],
   "source": [
    "X.head()"
   ],
   "metadata": {
    "collapsed": false,
    "ExecuteTime": {
     "end_time": "2024-04-21T21:54:19.556551900Z",
     "start_time": "2024-04-21T21:54:19.341888200Z"
    }
   },
   "id": "937181ac73d921f",
   "execution_count": 621
  },
  {
   "cell_type": "code",
   "outputs": [
    {
     "data": {
      "text/plain": "0    16884.92400\n1     1725.55230\n2     4449.46200\n3    21984.47061\n4     3866.85520\nName: charges, dtype: float64"
     },
     "execution_count": 622,
     "metadata": {},
     "output_type": "execute_result"
    }
   ],
   "source": [
    "y.head()"
   ],
   "metadata": {
    "collapsed": false,
    "ExecuteTime": {
     "end_time": "2024-04-21T21:54:19.566830300Z",
     "start_time": "2024-04-21T21:54:19.357360100Z"
    }
   },
   "id": "cdab2dbdc23933dc",
   "execution_count": 622
  },
  {
   "cell_type": "markdown",
   "source": [
    "### Split data to subsets train-test"
   ],
   "metadata": {
    "collapsed": false
   },
   "id": "d67ac631f378b4f5"
  },
  {
   "cell_type": "code",
   "outputs": [],
   "source": [
    "from sklearn.model_selection import train_test_split\n",
    "\n",
    "X_train, X_test, y_train, y_test = train_test_split(X, y, test_size=0.2,shuffle=True) # No need to stratify in regression tasks"
   ],
   "metadata": {
    "collapsed": false,
    "ExecuteTime": {
     "end_time": "2024-04-21T21:54:19.591527100Z",
     "start_time": "2024-04-21T21:54:19.372811100Z"
    }
   },
   "id": "3c4e3c7db9e5b8d6",
   "execution_count": 623
  },
  {
   "cell_type": "code",
   "outputs": [
    {
     "data": {
      "text/plain": "((1070, 11), (268, 11))"
     },
     "execution_count": 624,
     "metadata": {},
     "output_type": "execute_result"
    }
   ],
   "source": [
    "X_train.shape, X_test.shape"
   ],
   "metadata": {
    "collapsed": false,
    "ExecuteTime": {
     "end_time": "2024-04-21T21:54:19.613193300Z",
     "start_time": "2024-04-21T21:54:19.389376900Z"
    }
   },
   "id": "407d04c40cb617f",
   "execution_count": 624
  },
  {
   "cell_type": "markdown",
   "source": [
    "## Create our model"
   ],
   "metadata": {
    "collapsed": false
   },
   "id": "e83830545b3c83ad"
  },
  {
   "cell_type": "code",
   "outputs": [
    {
     "name": "stdout",
     "output_type": "stream",
     "text": [
      "GPU is available!\n",
      "batch : 1 | epoch : 1 | loss: 11833.5068359375\n",
      "batch : 2 | epoch : 1 | loss: 11477.162109375\n",
      "batch : 3 | epoch : 1 | loss: 12727.9453125\n",
      "batch : 4 | epoch : 1 | loss: 12748.154296875\n",
      "batch : 5 | epoch : 1 | loss: 12688.5439453125\n",
      "batch : 6 | epoch : 1 | loss: 12557.8427734375\n",
      "batch : 7 | epoch : 1 | loss: 12690.291015625\n",
      "batch : 8 | epoch : 1 | loss: 12700.1015625\n",
      "batch : 9 | epoch : 1 | loss: 12709.1943359375\n",
      "batch : 1 | epoch : 20 | loss: 8300.23828125\n",
      "batch : 2 | epoch : 20 | loss: 7312.404296875\n",
      "batch : 3 | epoch : 20 | loss: 7343.908203125\n",
      "batch : 4 | epoch : 20 | loss: 7088.52294921875\n",
      "batch : 5 | epoch : 20 | loss: 7376.20703125\n",
      "batch : 6 | epoch : 20 | loss: 7170.23876953125\n",
      "batch : 7 | epoch : 20 | loss: 7156.57080078125\n",
      "batch : 8 | epoch : 20 | loss: 7122.88525390625\n",
      "batch : 9 | epoch : 20 | loss: 7168.34326171875\n",
      "batch : 1 | epoch : 40 | loss: 6485.7890625\n",
      "batch : 2 | epoch : 40 | loss: 7593.7861328125\n",
      "batch : 3 | epoch : 40 | loss: 7198.1640625\n",
      "batch : 4 | epoch : 40 | loss: 7181.572265625\n",
      "batch : 5 | epoch : 40 | loss: 7273.88525390625\n",
      "batch : 6 | epoch : 40 | loss: 7224.55859375\n",
      "batch : 7 | epoch : 40 | loss: 7286.96337890625\n",
      "batch : 8 | epoch : 40 | loss: 7112.07861328125\n",
      "batch : 9 | epoch : 40 | loss: 7135.6357421875\n",
      "batch : 1 | epoch : 60 | loss: 8543.3984375\n",
      "batch : 2 | epoch : 60 | loss: 7285.357421875\n",
      "batch : 3 | epoch : 60 | loss: 7259.79296875\n",
      "batch : 4 | epoch : 60 | loss: 7164.67138671875\n",
      "batch : 5 | epoch : 60 | loss: 7169.6630859375\n",
      "batch : 6 | epoch : 60 | loss: 7306.39697265625\n",
      "batch : 7 | epoch : 60 | loss: 7217.4443359375\n",
      "batch : 8 | epoch : 60 | loss: 7289.84619140625\n",
      "batch : 9 | epoch : 60 | loss: 7401.51611328125\n",
      "batch : 1 | epoch : 80 | loss: 7512.07080078125\n",
      "batch : 2 | epoch : 80 | loss: 7406.4453125\n",
      "batch : 3 | epoch : 80 | loss: 7384.40771484375\n",
      "batch : 4 | epoch : 80 | loss: 6898.578125\n",
      "batch : 5 | epoch : 80 | loss: 7158.38916015625\n",
      "batch : 6 | epoch : 80 | loss: 6882.55029296875\n",
      "batch : 7 | epoch : 80 | loss: 7026.2236328125\n",
      "batch : 8 | epoch : 80 | loss: 6913.64306640625\n",
      "batch : 9 | epoch : 80 | loss: 7060.9619140625\n",
      "batch : 1 | epoch : 100 | loss: 4956.73046875\n",
      "batch : 2 | epoch : 100 | loss: 6115.765625\n",
      "batch : 3 | epoch : 100 | loss: 5968.14990234375\n",
      "batch : 4 | epoch : 100 | loss: 6390.923828125\n",
      "batch : 5 | epoch : 100 | loss: 6293.4794921875\n",
      "batch : 6 | epoch : 100 | loss: 6814.83984375\n",
      "batch : 7 | epoch : 100 | loss: 6717.86328125\n",
      "batch : 8 | epoch : 100 | loss: 6636.5400390625\n",
      "batch : 9 | epoch : 100 | loss: 6712.56103515625\n"
     ]
    }
   ],
   "source": [
    "# Check for GPU availability\n",
    "if tf.config.list_physical_devices('GPU'):\n",
    "    print(\"GPU is available!\")\n",
    "    with tf.device('/GPU:0'):  # Use the first GPU\n",
    "        # Define and compile the model here (within the device context)\n",
    "        RegressionModel = tf.keras.models.Sequential([\n",
    "            tf.keras.layers.Dense(1, input_shape=[11,]),\n",
    "            tf.keras.layers.Dense(1)\n",
    "        ])\n",
    "\n",
    "        RegressionModel.compile(optimizer=tf.keras.optimizers.SGD(),\n",
    "                                loss='mae',\n",
    "                                metrics=['mae'])\n",
    "\n",
    "        # Assuming X_train and y_train are NumPy arrays\n",
    "        RegressionModel.fit(tf.constant(X_train), tf.constant(y_train),\n",
    "                            epochs=100,\n",
    "                            verbose=0,\n",
    "                            batch_size=128,\n",
    "                            callbacks=[personalized_Callback(20)])\n",
    "else:\n",
    "    print(\"GPU is not available. Training on CPU.\")"
   ],
   "metadata": {
    "collapsed": false,
    "ExecuteTime": {
     "end_time": "2024-04-21T21:54:22.160247800Z",
     "start_time": "2024-04-21T21:54:19.405934500Z"
    }
   },
   "id": "e90e5752f084aa76",
   "execution_count": 625
  },
  {
   "cell_type": "code",
   "outputs": [
    {
     "name": "stdout",
     "output_type": "stream",
     "text": [
      "9/9 [==============================] - 0s 2ms/step - loss: 8856.4561 - mae: 8856.4561\n"
     ]
    },
    {
     "data": {
      "text/plain": "[8856.4560546875, 8856.4560546875]"
     },
     "execution_count": 626,
     "metadata": {},
     "output_type": "execute_result"
    }
   ],
   "source": [
    "# Check the results of the insurance model\n",
    "RegressionModel.evaluate(tf.constant(X_test), tf.constant(y_test))"
   ],
   "metadata": {
    "collapsed": false,
    "ExecuteTime": {
     "end_time": "2024-04-21T21:54:22.309738100Z",
     "start_time": "2024-04-21T21:54:22.141309900Z"
    }
   },
   "id": "bdf68c87caefc057",
   "execution_count": 626
  },
  {
   "cell_type": "markdown",
   "source": [
    "\n",
    "Our model didn't perform very well, let's try a bigger model.\n",
    "\n",
    "We'll try 3 things:\n",
    "\n",
    "* Increasing the number of layers (2 -> 3).\n",
    "* Increasing the number of units in each layer (except for the output layer).\n",
    "* Changing the optimizer (from SGD to Adam).\n",
    "Everything else will stay the same."
   ],
   "metadata": {
    "collapsed": false
   },
   "id": "cea0ff2b2b138231"
  }
 ],
 "metadata": {
  "kernelspec": {
   "display_name": "Python 3",
   "language": "python",
   "name": "python3"
  },
  "language_info": {
   "codemirror_mode": {
    "name": "ipython",
    "version": 2
   },
   "file_extension": ".py",
   "mimetype": "text/x-python",
   "name": "python",
   "nbconvert_exporter": "python",
   "pygments_lexer": "ipython2",
   "version": "2.7.6"
  }
 },
 "nbformat": 4,
 "nbformat_minor": 5
}
