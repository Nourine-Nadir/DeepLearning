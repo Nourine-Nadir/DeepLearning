{
 "cells": [
  {
   "cell_type": "code",
   "execution_count": 110,
   "id": "initial_id",
   "metadata": {
    "collapsed": true,
    "ExecuteTime": {
     "end_time": "2024-04-13T10:06:19.003255400Z",
     "start_time": "2024-04-13T10:06:18.728635900Z"
    }
   },
   "outputs": [
    {
     "name": "stdout",
     "output_type": "stream",
     "text": [
      "Num GPUs Available:  1\n",
      "2.10.0\n"
     ]
    }
   ],
   "source": [
    "import tensorflow as tf\n",
    "\n",
    "physical_devices = tf.config.list_physical_devices('GPU')\n",
    "if physical_devices:\n",
    "    try:\n",
    "        tf.config.experimental.set_memory_growth(physical_devices[0], True)\n",
    "    except RuntimeError as e:\n",
    "        print(e)\n",
    "print(\"Num GPUs Available: \", len(tf.config.list_physical_devices('GPU')))\n",
    "print(tf.__version__)\n"
   ]
  },
  {
   "cell_type": "markdown",
   "source": [
    "### Creatting tensors with `tf.Variable`"
   ],
   "metadata": {
    "collapsed": false
   },
   "id": "9d8e600acbd6fef7"
  },
  {
   "cell_type": "code",
   "outputs": [
    {
     "data": {
      "text/plain": "(<tf.Variable 'Variable:0' shape=(2,) dtype=int32, numpy=array([10,  7])>,\n <tf.Tensor: shape=(2,), dtype=int32, numpy=array([10,  7])>)"
     },
     "execution_count": 111,
     "metadata": {},
     "output_type": "execute_result"
    }
   ],
   "source": [
    "changeable_tensor = tf.Variable([10, 7])\n",
    "unchangeable_tensor = tf.constant([10, 7])\n",
    "\n",
    "changeable_tensor, unchangeable_tensor"
   ],
   "metadata": {
    "collapsed": false,
    "ExecuteTime": {
     "end_time": "2024-04-13T10:06:19.069537800Z",
     "start_time": "2024-04-13T10:06:19.005309700Z"
    }
   },
   "id": "a69a980085e7b997",
   "execution_count": 111
  },
  {
   "cell_type": "code",
   "outputs": [
    {
     "name": "stdout",
     "output_type": "stream",
     "text": [
      "<tf.Variable 'Variable:0' shape=(2,) dtype=int32, numpy=array([20, 14])>\n"
     ]
    }
   ],
   "source": [
    "changeable_tensor.assign_add(unchangeable_tensor)\n",
    "print(changeable_tensor)\n"
   ],
   "metadata": {
    "collapsed": false,
    "ExecuteTime": {
     "end_time": "2024-04-13T10:06:19.074581200Z",
     "start_time": "2024-04-13T10:06:19.028368900Z"
    }
   },
   "id": "fd3dc8dda7d04d9b",
   "execution_count": 112
  },
  {
   "cell_type": "code",
   "outputs": [],
   "source": [
    "# unchangeable_tensor[0].assign(2)\n",
    "# print(unchangeable_tensor)\n",
    "#AttributeError: 'tensorflow.python.framework.ops.EagerTensor' object has no attribute 'assign'"
   ],
   "metadata": {
    "collapsed": false,
    "ExecuteTime": {
     "end_time": "2024-04-13T10:06:19.103630600Z",
     "start_time": "2024-04-13T10:06:19.042415300Z"
    }
   },
   "id": "399e5abe3bb6bdee",
   "execution_count": 113
  },
  {
   "cell_type": "markdown",
   "source": [
    "### Creating Random tensors"
   ],
   "metadata": {
    "collapsed": false
   },
   "id": "8a387b6d384e44c2"
  },
  {
   "cell_type": "code",
   "outputs": [
    {
     "data": {
      "text/plain": "(<tf.Tensor: shape=(3, 2), dtype=float32, numpy=\n array([[-0.7565803 , -0.06854702],\n        [ 0.07595026, -1.2573844 ],\n        [-0.23193765, -1.8107855 ]], dtype=float32)>,\n <tf.Tensor: shape=(3, 2), dtype=float32, numpy=\n array([[-0.7565803 , -0.06854702],\n        [ 0.07595026, -1.2573844 ],\n        [-0.23193765, -1.8107855 ]], dtype=float32)>,\n <tf.Tensor: shape=(3, 2), dtype=bool, numpy=\n array([[ True,  True],\n        [ True,  True],\n        [ True,  True]])>)"
     },
     "execution_count": 114,
     "metadata": {},
     "output_type": "execute_result"
    }
   ],
   "source": [
    "random_1 = tf.random.Generator.from_seed(42)  # set seed for reproducibility\n",
    "random_1 = random_1.normal(shape=(3, 2))\n",
    "random_2 = tf.random.Generator.from_seed(42)\n",
    "random_2 = random_2.normal(shape=(3, 2))\n",
    "\n",
    "random_1, random_2, random_1 == random_2"
   ],
   "metadata": {
    "collapsed": false,
    "ExecuteTime": {
     "end_time": "2024-04-13T10:06:19.171887100Z",
     "start_time": "2024-04-13T10:06:19.059536700Z"
    }
   },
   "id": "d5288d43441a234",
   "execution_count": 114
  },
  {
   "cell_type": "markdown",
   "source": [
    "### Shuffle order of elements in a tensor"
   ],
   "metadata": {
    "collapsed": false
   },
   "id": "911f49050df195dc"
  },
  {
   "cell_type": "code",
   "outputs": [
    {
     "data": {
      "text/plain": "(<tf.Tensor: shape=(3, 2), dtype=int32, numpy=\n array([[10,  7],\n        [ 3,  2],\n        [ 9,  3]])>,\n <tf.Tensor: shape=(3, 2), dtype=int32, numpy=\n array([[40, 74],\n        [13, 21],\n        [22, 81]])>,\n <tf.Tensor: shape=(3, 2), dtype=int32, numpy=\n array([[520, 517],\n        [226, 315],\n        [431, 244]])>)"
     },
     "execution_count": 115,
     "metadata": {},
     "output_type": "execute_result"
    }
   ],
   "source": [
    "not_shuffled = tf.constant([[10, 7],\n",
    "                            [3, 2],\n",
    "                            [9, 3]])\n",
    "\n",
    "not_shuffled2 = tf.constant([[40, 74],\n",
    "                             [13, 21],\n",
    "                             [22, 81]])\n",
    "\n",
    "not_shuffled3 = tf.constant([[520, 517],\n",
    "                             [226, 315],\n",
    "                             [431, 244]])\n",
    "\n",
    "not_shuffled, not_shuffled2, not_shuffled3"
   ],
   "metadata": {
    "collapsed": false,
    "ExecuteTime": {
     "end_time": "2024-04-13T10:06:19.183921100Z",
     "start_time": "2024-04-13T10:06:19.091585900Z"
    }
   },
   "id": "801422ee7df1411",
   "execution_count": 115
  },
  {
   "cell_type": "code",
   "outputs": [
    {
     "name": "stdout",
     "output_type": "stream",
     "text": [
      "tf.Tensor(\n",
      "[[ 3  2]\n",
      " [ 9  3]\n",
      " [10  7]], shape=(3, 2), dtype=int32)\n",
      "tf.Tensor(\n",
      "[[ 9  3]\n",
      " [10  7]\n",
      " [ 3  2]], shape=(3, 2), dtype=int32)\n",
      "tf.Tensor(\n",
      "[[ 9  3]\n",
      " [ 3  2]\n",
      " [10  7]], shape=(3, 2), dtype=int32)\n"
     ]
    }
   ],
   "source": [
    "tf.random.set_seed(42)\n",
    "print(tf.random.shuffle(not_shuffled))\n",
    "print(tf.random.shuffle(not_shuffled))\n",
    "print(tf.random.shuffle(not_shuffled))\n",
    "\n",
    "# Notice that operator seed and general seed need to be combined to get the same result\n",
    "\n"
   ],
   "metadata": {
    "collapsed": false,
    "ExecuteTime": {
     "end_time": "2024-04-13T10:06:19.185920900Z",
     "start_time": "2024-04-13T10:06:19.107632100Z"
    }
   },
   "id": "ca796d426327332b",
   "execution_count": 116
  },
  {
   "cell_type": "markdown",
   "source": [
    "### Other ways to create tensors (Numpy)"
   ],
   "metadata": {
    "collapsed": false
   },
   "id": "5c8d398c8fd0ebf0"
  },
  {
   "cell_type": "code",
   "outputs": [
    {
     "data": {
      "text/plain": "<tf.Tensor: shape=(3, 3), dtype=float32, numpy=\narray([[1., 0., 0.],\n       [0., 1., 0.],\n       [0., 0., 1.]], dtype=float32)>"
     },
     "execution_count": 117,
     "metadata": {},
     "output_type": "execute_result"
    }
   ],
   "source": [
    "#  Different types of arrays\n",
    "# X= tf.ones((3,3))\n",
    "# X= tf.zeros((3,3))\n",
    "X = tf.eye((3))\n",
    "X"
   ],
   "metadata": {
    "collapsed": false,
    "ExecuteTime": {
     "end_time": "2024-04-13T10:06:19.211029200Z",
     "start_time": "2024-04-13T10:06:19.173888Z"
    }
   },
   "id": "3ac8d57dc2d4ba60",
   "execution_count": 117
  },
  {
   "cell_type": "markdown",
   "source": [
    "#### Turn NumPy arrays into tensors\n",
    "\n",
    "The main difference is that tensors can be run  in GPU (faster computing)."
   ],
   "metadata": {
    "collapsed": false
   },
   "id": "a172b65975372be6"
  },
  {
   "cell_type": "code",
   "outputs": [
    {
     "name": "stdout",
     "output_type": "stream",
     "text": [
      "[ 1  2  3  4  5  6  7  8  9 10 11 12 13 14 15 16 17 18 19 20 21 22 23 24]\n"
     ]
    },
    {
     "data": {
      "text/plain": "<tf.Tensor: shape=(24,), dtype=int32, numpy=\narray([ 1,  2,  3,  4,  5,  6,  7,  8,  9, 10, 11, 12, 13, 14, 15, 16, 17,\n       18, 19, 20, 21, 22, 23, 24])>"
     },
     "execution_count": 118,
     "metadata": {},
     "output_type": "execute_result"
    }
   ],
   "source": [
    "import numpy as np\n",
    "\n",
    "np_array = np.arange(1, 25, dtype=np.int32)\n",
    "\n",
    "print(np_array)\n",
    "\n",
    "tf_array = tf.constant(np_array)  # pass the np_array as a value\n",
    "tf_array"
   ],
   "metadata": {
    "collapsed": false,
    "ExecuteTime": {
     "end_time": "2024-04-13T10:06:19.296277400Z",
     "start_time": "2024-04-13T10:06:19.201967100Z"
    }
   },
   "id": "29df16da4f47a25e",
   "execution_count": 118
  },
  {
   "cell_type": "code",
   "outputs": [
    {
     "name": "stdout",
     "output_type": "stream",
     "text": [
      "A matrix dimension = 3\n"
     ]
    },
    {
     "data": {
      "text/plain": "(<tf.Tensor: shape=(2, 3, 4), dtype=int32, numpy=\n array([[[ 1,  2,  3,  4],\n         [ 5,  6,  7,  8],\n         [ 9, 10, 11, 12]],\n \n        [[13, 14, 15, 16],\n         [17, 18, 19, 20],\n         [21, 22, 23, 24]]])>,\n <tf.Tensor: shape=(24,), dtype=int32, numpy=\n array([ 1,  2,  3,  4,  5,  6,  7,  8,  9, 10, 11, 12, 13, 14, 15, 16, 17,\n        18, 19, 20, 21, 22, 23, 24])>)"
     },
     "execution_count": 119,
     "metadata": {},
     "output_type": "execute_result"
    }
   ],
   "source": [
    "A = tf.constant(np_array, shape=(2, 3, 4))  # 2x3x4 = 24\n",
    "B = tf.constant(np_array)\n",
    "print(f'A matrix dimension = {A.ndim}')\n",
    "A, B"
   ],
   "metadata": {
    "collapsed": false,
    "ExecuteTime": {
     "end_time": "2024-04-13T10:06:19.319324600Z",
     "start_time": "2024-04-13T10:06:19.283274300Z"
    }
   },
   "id": "45a5f657e78d2cc3",
   "execution_count": 119
  },
  {
   "cell_type": "markdown",
   "source": [
    "## Get more informations from our tensors\n",
    "\n",
    "When dealing with tensors we'll probably want to be aware of the following attributes\n",
    "* Shape\n",
    "* Rank\n",
    "* Axis or dimension\n",
    "* Size\n"
   ],
   "metadata": {
    "collapsed": false
   },
   "id": "1a0503981c14914e"
  },
  {
   "cell_type": "code",
   "outputs": [],
   "source": [
    "def tensor_info(tns):\n",
    "    print(f'Data type : {tns.dtype}')\n",
    "    print(f'matrix shape : {tns.shape} ')\n",
    "    print(f'matrix rank : {tns.ndim} ')\n",
    "    print(f'matrix size : {tf.size(tns)} ')"
   ],
   "metadata": {
    "collapsed": false,
    "ExecuteTime": {
     "end_time": "2024-04-13T10:06:19.375491700Z",
     "start_time": "2024-04-13T10:06:19.311322400Z"
    }
   },
   "id": "8d9c3d19b467d87b",
   "execution_count": 120
  },
  {
   "cell_type": "code",
   "outputs": [
    {
     "name": "stdout",
     "output_type": "stream",
     "text": [
      "120\n",
      "tf.Tensor(120, shape=(), dtype=int32)\n"
     ]
    }
   ],
   "source": [
    "# Creat a rank 4 tensor (4dimensions)\n",
    "rank4_tensor = tf.zeros(shape=(2, 3, 4, 5), dtype=tf.float64)\n",
    "print(tf.size(rank4_tensor).numpy())\n",
    "print(tf.size(rank4_tensor))\n"
   ],
   "metadata": {
    "collapsed": false,
    "ExecuteTime": {
     "end_time": "2024-04-13T10:06:19.395584800Z",
     "start_time": "2024-04-13T10:06:19.363452Z"
    }
   },
   "id": "b12e36f436ed96ea",
   "execution_count": 121
  },
  {
   "cell_type": "markdown",
   "source": [
    "#### Squeeze function (removing all signle dimensions) similar to NumPy.squeeze"
   ],
   "metadata": {
    "collapsed": false
   },
   "id": "12c80e4e25acae0f"
  },
  {
   "cell_type": "code",
   "outputs": [
    {
     "name": "stdout",
     "output_type": "stream",
     "text": [
      "x shape : (1, 3, 1)\n",
      "x : \n",
      "[[[0]\n",
      "  [1]\n",
      "  [2]]]\n",
      "x :  tf.Tensor([0 1 2], shape=(3,), dtype=int32)\n",
      "Data type : <dtype: 'int32'>\n",
      "matrix shape : (3,) \n",
      "matrix rank : 1 \n",
      "matrix size : 3 \n"
     ]
    }
   ],
   "source": [
    "x = tf.constant([[[0], [1], [2]]])\n",
    "print(f'x shape : {x.shape}')\n",
    "print(f'x : \\n{x}')\n",
    "x = tf.squeeze(x, axis=[0, 2])  # select axis to squeeze\n",
    "# np.squeeze(x, axis=0).shape\n",
    "# np.squeeze(x, axis=1).shape\n",
    "print('x : ', x)\n",
    "tensor_info(x)"
   ],
   "metadata": {
    "collapsed": false,
    "ExecuteTime": {
     "end_time": "2024-04-13T10:06:19.434661100Z",
     "start_time": "2024-04-13T10:06:19.391528500Z"
    }
   },
   "id": "521a0da31d2527c",
   "execution_count": 122
  },
  {
   "cell_type": "markdown",
   "source": [
    "#### Tensorflow reshape"
   ],
   "metadata": {
    "collapsed": false
   },
   "id": "ec31a6d72832a998"
  },
  {
   "cell_type": "code",
   "outputs": [
    {
     "data": {
      "text/plain": "<tf.Tensor: shape=(2, 3), dtype=int32, numpy=\narray([[1, 2, 3],\n       [4, 5, 6]])>"
     },
     "execution_count": 123,
     "metadata": {},
     "output_type": "execute_result"
    }
   ],
   "source": [
    "mtx = tf.range(1, 7)\n",
    "mtx = tf.reshape(mtx, (3, 2))\n",
    "mtx = tf.reshape(mtx, (2, 3))\n",
    "mtx"
   ],
   "metadata": {
    "collapsed": false,
    "ExecuteTime": {
     "end_time": "2024-04-13T10:06:19.437661500Z",
     "start_time": "2024-04-13T10:06:19.410587900Z"
    }
   },
   "id": "786b7846436bd789",
   "execution_count": 123
  },
  {
   "cell_type": "markdown",
   "source": [
    "## Indexing tensors \n",
    "\n",
    "Tensors can be indexed just like Python lists."
   ],
   "metadata": {
    "collapsed": false
   },
   "id": "df2ada786a337ca2"
  },
  {
   "cell_type": "code",
   "outputs": [
    {
     "data": {
      "text/plain": "<tf.Tensor: shape=(1, 1, 1, 5), dtype=float64, numpy=array([[[[0., 0., 0., 0., 0.]]]])>"
     },
     "execution_count": 124,
     "metadata": {},
     "output_type": "execute_result"
    }
   ],
   "source": [
    "# Get the first 2 elements of each dimension\n",
    "rank4_tensor[:2, :2, :2, :2]\n",
    "# Get the first elemet of each dimensiopn except the last one\n",
    "rank4_tensor[:1, :1, :1]"
   ],
   "metadata": {
    "collapsed": false,
    "ExecuteTime": {
     "end_time": "2024-04-13T10:06:19.503870700Z",
     "start_time": "2024-04-13T10:06:19.437661500Z"
    }
   },
   "id": "72ea286e143fcd65",
   "execution_count": 124
  },
  {
   "cell_type": "code",
   "outputs": [
    {
     "data": {
      "text/plain": "<tf.Tensor: shape=(2, 3), dtype=int32, numpy=\narray([[1, 2, 3],\n       [4, 5, 6]])>"
     },
     "execution_count": 125,
     "metadata": {},
     "output_type": "execute_result"
    }
   ],
   "source": [
    "# Creat rank 2 tensor (2 dimensions)\n",
    "rank2_tensor = tf.constant([[1, 2, 3], [4, 5, 6]])\n",
    "rank2_tensor.shape, rank2_tensor.ndim\n",
    "rank2_tensor\n",
    "# Get last element of each dimension\n",
    "# rank2_tensor[:,-1]"
   ],
   "metadata": {
    "collapsed": false,
    "ExecuteTime": {
     "end_time": "2024-04-13T10:06:19.516872500Z",
     "start_time": "2024-04-13T10:06:19.460710500Z"
    }
   },
   "id": "69698203c0b2c6e2",
   "execution_count": 125
  },
  {
   "cell_type": "code",
   "outputs": [
    {
     "data": {
      "text/plain": "<tf.Tensor: shape=(2, 3, 1), dtype=int32, numpy=\narray([[[1],\n        [2],\n        [3]],\n\n       [[4],\n        [5],\n        [6]]])>"
     },
     "execution_count": 126,
     "metadata": {},
     "output_type": "execute_result"
    }
   ],
   "source": [
    "# Add in extra dimension to our rank 2 tensor\n",
    "rank3_tensor = tf.expand_dims(rank2_tensor, axis=-1)  # expand on the axis passed \n",
    "# rank3_tensor = rank2_tensor[..., tf.newaxis] # [...] stands for selecting all dimensions\n",
    "# rank3_tensor = rank2_tensor[tf.newaxis, ...]\n",
    "rank3_tensor"
   ],
   "metadata": {
    "collapsed": false,
    "ExecuteTime": {
     "end_time": "2024-04-13T10:06:19.547019200Z",
     "start_time": "2024-04-13T10:06:19.508870400Z"
    }
   },
   "id": "41d707fd7de73556",
   "execution_count": 126
  },
  {
   "cell_type": "markdown",
   "source": [
    "## Manipulating tensors (tensors operations)\n",
    "\n",
    "**Basic operations**\n",
    "`+`, ``-, `*`, `/` "
   ],
   "metadata": {
    "collapsed": false
   },
   "id": "d2d236ae8979be08"
  },
  {
   "cell_type": "code",
   "outputs": [
    {
     "data": {
      "text/plain": "<tf.Tensor: shape=(3, 2), dtype=int32, numpy=\narray([[20, 17],\n       [12, 11],\n       [14, 18]])>"
     },
     "execution_count": 127,
     "metadata": {},
     "output_type": "execute_result"
    }
   ],
   "source": [
    "# you can add value to a tensorusing the addition operator\n",
    "tensor = tf.constant([[10, 7],\n",
    "                      [2, 1],\n",
    "                      [4, 8]])\n",
    "tensor + 10\n",
    "# tensor - 10\n",
    "# tensor / 10\n",
    "# tensor * 10"
   ],
   "metadata": {
    "collapsed": false,
    "ExecuteTime": {
     "end_time": "2024-04-13T10:06:19.607155100Z",
     "start_time": "2024-04-13T10:06:19.538983200Z"
    }
   },
   "id": "56cdcfa9332c92f0",
   "execution_count": 127
  },
  {
   "cell_type": "code",
   "outputs": [
    {
     "data": {
      "text/plain": "<tf.Tensor: shape=(3, 2), dtype=int32, numpy=\narray([[20, 17],\n       [12, 11],\n       [14, 18]])>"
     },
     "execution_count": 128,
     "metadata": {},
     "output_type": "execute_result"
    }
   ],
   "source": [
    "# We can use the tensorflow built-in function too \n",
    "tf.add(tensor, 10)\n",
    "# tf.subtract(tensor, 10)\n",
    "# tf.multiply(tensor, 10)\n",
    "# tf.divide(tensor, 10)\n"
   ],
   "metadata": {
    "collapsed": false,
    "ExecuteTime": {
     "end_time": "2024-04-13T10:06:19.621223800Z",
     "start_time": "2024-04-13T10:06:19.595153Z"
    }
   },
   "id": "3217316c5d1d2962",
   "execution_count": 128
  },
  {
   "cell_type": "markdown",
   "source": [
    "## Matrix multiplication\n",
    "\n",
    "In machine learning, matrix multiplicaation is one of the most common tensor operations"
   ],
   "metadata": {
    "collapsed": false
   },
   "id": "6fac9bc47a12352a"
  },
  {
   "cell_type": "code",
   "outputs": [
    {
     "name": "stdout",
     "output_type": "stream",
     "text": [
      "tf.Tensor(\n",
      "[[10  7]\n",
      " [ 2  1]\n",
      " [ 4  8]], shape=(3, 2), dtype=int32)\n"
     ]
    },
    {
     "data": {
      "text/plain": "<tf.Tensor: shape=(3, 3), dtype=int32, numpy=\narray([[149,  27,  96],\n       [ 27,   5,  16],\n       [ 96,  16,  80]])>"
     },
     "execution_count": 129,
     "metadata": {},
     "output_type": "execute_result"
    }
   ],
   "source": [
    "# Matrix multiplication in tensorflow (tf.linalg.matmul)\n",
    "\n",
    "print(tensor)\n",
    "# tf.matmul(tensor, tf.transpose(tensor))\n",
    "tf.matmul(tensor, np.transpose(tensor))\n",
    "# In numpy transposes are memory-efficient constant time operations as they simply return a new view of the same data with adjusted strides.\n",
    "\n",
    "# TensorFlow does not support strides, so transpose returns a new tensor with the items permuted"
   ],
   "metadata": {
    "collapsed": false,
    "ExecuteTime": {
     "end_time": "2024-04-13T10:06:19.693649400Z",
     "start_time": "2024-04-13T10:06:19.623223300Z"
    }
   },
   "id": "20dcce3a69ae4c88",
   "execution_count": 129
  },
  {
   "cell_type": "code",
   "outputs": [
    {
     "name": "stdout",
     "output_type": "stream",
     "text": [
      "tf.Tensor(\n",
      "[[120 104]\n",
      " [104 114]], shape=(2, 2), dtype=int32)\n",
      "tf.Tensor(\n",
      "[[149  27  96]\n",
      " [ 27   5  16]\n",
      " [ 96  16  80]], shape=(3, 3), dtype=int32)\n"
     ]
    }
   ],
   "source": [
    "# Python have the same function with '@' symbol\n",
    "print(np.transpose(tensor) @ tensor)\n",
    "print(tensor @ np.transpose(tensor))"
   ],
   "metadata": {
    "collapsed": false,
    "ExecuteTime": {
     "end_time": "2024-04-13T10:06:19.720785Z",
     "start_time": "2024-04-13T10:06:19.682586400Z"
    }
   },
   "id": "4b77de6fefa105e5",
   "execution_count": 130
  },
  {
   "cell_type": "markdown",
   "source": [
    "**Difference between reshape and transpose**\n"
   ],
   "metadata": {
    "collapsed": false
   },
   "id": "2ca2f3bc59700c66"
  },
  {
   "cell_type": "code",
   "outputs": [
    {
     "name": "stdout",
     "output_type": "stream",
     "text": [
      "tf.Tensor(\n",
      "[[149  27  96]\n",
      " [ 27   5  16]\n",
      " [ 96  16  80]], shape=(3, 3), dtype=int32)\n",
      "tf.Tensor(\n",
      "[[107  98  76]\n",
      " [ 21  18  12]\n",
      " [ 48  60  72]], shape=(3, 3), dtype=int32)\n"
     ]
    }
   ],
   "source": [
    "print(tensor @ tf.transpose(tensor))\n",
    "print(tensor @ tf.reshape(tensor,shape=(tf.transpose(tensor).shape)))"
   ],
   "metadata": {
    "collapsed": false,
    "ExecuteTime": {
     "end_time": "2024-04-13T10:06:19.763920200Z",
     "start_time": "2024-04-13T10:06:19.710745700Z"
    }
   },
   "id": "8b700f0cfd23c870",
   "execution_count": 131
  },
  {
   "cell_type": "code",
   "outputs": [
    {
     "name": "stdout",
     "output_type": "stream",
     "text": [
      "tf.Tensor(\n",
      "[[10  7]\n",
      " [ 2  1]\n",
      " [ 4  8]], shape=(3, 2), dtype=int32)\n",
      "tensor reshaped : \n",
      " tf.Tensor(\n",
      "[[10  7  2]\n",
      " [ 1  4  8]], shape=(2, 3), dtype=int32)\n",
      "tensor transposed : \n",
      " tf.Tensor(\n",
      "[[10  2  4]\n",
      " [ 7  1  8]], shape=(2, 3), dtype=int32)\n"
     ]
    }
   ],
   "source": [
    "print(tensor)\n",
    "print('tensor reshaped : \\n', tf.reshape(tensor,shape=(tf.transpose(tensor).shape)))\n",
    "print('tensor transposed : \\n',tf.transpose(tensor))"
   ],
   "metadata": {
    "collapsed": false,
    "ExecuteTime": {
     "end_time": "2024-04-13T10:06:19.777963400Z",
     "start_time": "2024-04-13T10:06:19.753871300Z"
    }
   },
   "id": "d27e79270b4aa615",
   "execution_count": 132
  },
  {
   "cell_type": "markdown",
   "source": [
    "Generally we use transpose rather than reshape to satisfy multiplication rules"
   ],
   "metadata": {
    "collapsed": false
   },
   "id": "edc70e888246162d"
  },
  {
   "cell_type": "code",
   "outputs": [
    {
     "data": {
      "text/plain": "<tf.Tensor: shape=(3, 2), dtype=int32, numpy=\narray([[100,  49],\n       [  4,   1],\n       [ 16,  64]])>"
     },
     "execution_count": 133,
     "metadata": {},
     "output_type": "execute_result"
    }
   ],
   "source": [
    "# Elements wise multiplication\n",
    "tensor * tensor "
   ],
   "metadata": {
    "collapsed": false,
    "ExecuteTime": {
     "end_time": "2024-04-13T10:06:19.833163800Z",
     "start_time": "2024-04-13T10:06:19.780015900Z"
    }
   },
   "id": "108cccc78f178f7a",
   "execution_count": 133
  },
  {
   "cell_type": "markdown",
   "source": [
    "**The dot product**\n",
    "Matrix multiplication is also referred to as the dot product.\n",
    "\n",
    "You can perform matrix mul using :\n",
    "* `tf.matmul()`\n",
    "* `tf.tensordot()`"
   ],
   "metadata": {
    "collapsed": false
   },
   "id": "3d5014acfe36be79"
  },
  {
   "cell_type": "code",
   "outputs": [
    {
     "name": "stdout",
     "output_type": "stream",
     "text": [
      "tf.Tensor(\n",
      "[[10  7]\n",
      " [ 2  1]\n",
      " [ 4  8]], shape=(3, 2), dtype=int32)\n"
     ]
    },
    {
     "data": {
      "text/plain": "<tf.Tensor: shape=(3, 3), dtype=int32, numpy=\narray([[149,  27,  96],\n       [ 27,   5,  16],\n       [ 96,  16,  80]])>"
     },
     "execution_count": 134,
     "metadata": {},
     "output_type": "execute_result"
    }
   ],
   "source": [
    "print(tensor)\n",
    "\n",
    "tf.tensordot(tensor, np.transpose(tensor),axes=1)"
   ],
   "metadata": {
    "collapsed": false,
    "ExecuteTime": {
     "end_time": "2024-04-13T10:06:19.851199Z",
     "start_time": "2024-04-13T10:06:19.824160300Z"
    }
   },
   "id": "6b6afdd36c47f6c3",
   "execution_count": 134
  },
  {
   "cell_type": "markdown",
   "source": [
    "## Changing the datatype of a tensor\n",
    "\n",
    "**Mixed precision is the use of both 16-bit and 32-bit floating-point types in a model during training to make it run faster and use less memory.**"
   ],
   "metadata": {
    "collapsed": false
   },
   "id": "5f63d399de517f06"
  },
  {
   "cell_type": "code",
   "outputs": [
    {
     "data": {
      "text/plain": "'2.10.0'"
     },
     "execution_count": 135,
     "metadata": {},
     "output_type": "execute_result"
    }
   ],
   "source": [
    "tf.__version__\n"
   ],
   "metadata": {
    "collapsed": false,
    "ExecuteTime": {
     "end_time": "2024-04-13T10:06:19.897339200Z",
     "start_time": "2024-04-13T10:06:19.840162800Z"
    }
   },
   "id": "7ebc546da99497ee",
   "execution_count": 135
  },
  {
   "cell_type": "code",
   "outputs": [
    {
     "data": {
      "text/plain": "tf.float32"
     },
     "execution_count": 136,
     "metadata": {},
     "output_type": "execute_result"
    }
   ],
   "source": [
    "# Create a new tensor with the default datatype (float32)\n",
    "B = tf.constant([1.1, 2.3])\n",
    "B.dtype"
   ],
   "metadata": {
    "collapsed": false,
    "ExecuteTime": {
     "end_time": "2024-04-13T10:06:19.908341800Z",
     "start_time": "2024-04-13T10:06:19.854199700Z"
    }
   },
   "id": "b65ae09f8aeac30f",
   "execution_count": 136
  },
  {
   "cell_type": "code",
   "outputs": [
    {
     "data": {
      "text/plain": "tf.int32"
     },
     "execution_count": 137,
     "metadata": {},
     "output_type": "execute_result"
    }
   ],
   "source": [
    "C = tf.constant([1, 2])\n",
    "C.dtype"
   ],
   "metadata": {
    "collapsed": false,
    "ExecuteTime": {
     "end_time": "2024-04-13T10:06:19.968446Z",
     "start_time": "2024-04-13T10:06:19.898339300Z"
    }
   },
   "id": "8ca2ed4ca54ec622",
   "execution_count": 137
  },
  {
   "cell_type": "code",
   "outputs": [
    {
     "data": {
      "text/plain": "<tf.Tensor: shape=(2,), dtype=float16, numpy=array([1.1, 2.3], dtype=float16)>"
     },
     "execution_count": 138,
     "metadata": {},
     "output_type": "execute_result"
    }
   ],
   "source": [
    "# Create from float32 to float16 (reduced precision)\n",
    "D = tf.cast(B, dtype=tf.float16)\n",
    "D"
   ],
   "metadata": {
    "collapsed": false,
    "ExecuteTime": {
     "end_time": "2024-04-13T10:06:19.972483800Z",
     "start_time": "2024-04-13T10:06:19.920344200Z"
    }
   },
   "id": "2e1af0e64e4b6099",
   "execution_count": 138
  },
  {
   "cell_type": "markdown",
   "source": [
    "## Aggreating tensors\n",
    "\n",
    "Aggregating tensors = condesing them from multiple values to a smaller amount of values.\n"
   ],
   "metadata": {
    "collapsed": false
   },
   "id": "dbbc0e6cd51c24"
  },
  {
   "cell_type": "code",
   "outputs": [
    {
     "data": {
      "text/plain": "<tf.Tensor: shape=(2,), dtype=int32, numpy=array([ -7, -10])>"
     },
     "execution_count": 139,
     "metadata": {},
     "output_type": "execute_result"
    }
   ],
   "source": [
    "# Get the absolute values\n",
    "D  = tf.constant([-7,-10])\n",
    "D"
   ],
   "metadata": {
    "collapsed": false,
    "ExecuteTime": {
     "end_time": "2024-04-13T10:06:19.984522400Z",
     "start_time": "2024-04-13T10:06:19.939348300Z"
    }
   },
   "id": "397450615889547e",
   "execution_count": 139
  },
  {
   "cell_type": "code",
   "outputs": [
    {
     "data": {
      "text/plain": "<tf.Tensor: shape=(2,), dtype=int32, numpy=array([ 7, 10])>"
     },
     "execution_count": 140,
     "metadata": {},
     "output_type": "execute_result"
    }
   ],
   "source": [
    "# Get the absolut values\n",
    "tf.abs(D)"
   ],
   "metadata": {
    "collapsed": false,
    "ExecuteTime": {
     "end_time": "2024-04-13T10:06:20.052775400Z",
     "start_time": "2024-04-13T10:06:19.985522500Z"
    }
   },
   "id": "d8a1bc0fb83a7d8d",
   "execution_count": 140
  },
  {
   "cell_type": "markdown",
   "source": [
    "Following forms of aggregation:\n",
    "\n",
    "* Get the maximum\n",
    "* Get the minimum\n",
    "* Get the mean of a tensor\n",
    "* Get the sum of a tensor"
   ],
   "metadata": {
    "collapsed": false
   },
   "id": "3e51b9793240b0c"
  },
  {
   "cell_type": "code",
   "outputs": [
    {
     "data": {
      "text/plain": "<tf.Tensor: shape=(10, 10), dtype=int32, numpy=\narray([[87, 16,  2, 34, 82, 76, 85, 33, 42, 44],\n       [ 5, 69, 15, 87, 96, 50, 80, 52, 96, 65],\n       [40, 65, 81, 50, 43,  2, 57, 95, 97, 66],\n       [30, 29, 86, 61, 43, 69, 24, 25, 59, 46],\n       [43,  3, 28,  8, 77, 42, 54, 42, 20, 63],\n       [37, 24, 95, 71,  1, 97, 54, 54, 44, 16],\n       [ 9, 55, 13, 89, 35, 30, 26,  2, 83, 44],\n       [10,  8,  5, 72, 50, 91, 95, 65, 27, 12],\n       [59, 94, 23, 84, 45, 39, 97, 79, 97, 55],\n       [39,  3, 51, 64, 46, 30, 63, 12,  3, 13]])>"
     },
     "execution_count": 141,
     "metadata": {},
     "output_type": "execute_result"
    }
   ],
   "source": [
    "E = tf.constant(np.random.randint(100,size=(10,10)))\n",
    "E"
   ],
   "metadata": {
    "collapsed": false,
    "ExecuteTime": {
     "end_time": "2024-04-13T10:06:20.091909300Z",
     "start_time": "2024-04-13T10:06:20.044772900Z"
    }
   },
   "id": "509915c7561da4d2",
   "execution_count": 141
  },
  {
   "cell_type": "code",
   "outputs": [
    {
     "data": {
      "text/plain": "<tf.Tensor: shape=(), dtype=int32, numpy=4874>"
     },
     "execution_count": 142,
     "metadata": {},
     "output_type": "execute_result"
    }
   ],
   "source": [
    "tf.reduce_max(E)\n",
    "tf.reduce_min(E)\n",
    "tf.reduce_mean(E)\n",
    "tf.reduce_sum(E)\n",
    "\n"
   ],
   "metadata": {
    "collapsed": false,
    "ExecuteTime": {
     "end_time": "2024-04-13T10:06:20.106911600Z",
     "start_time": "2024-04-13T10:06:20.081924Z"
    }
   },
   "id": "fbfe00f8599586ce",
   "execution_count": 142
  },
  {
   "cell_type": "code",
   "outputs": [
    {
     "name": "stdout",
     "output_type": "stream",
     "text": [
      "variance :  tf.Tensor(849.42, shape=(), dtype=float64)\n"
     ]
    }
   ],
   "source": [
    "# Manually compute variance of a vector\n",
    "Var =(tf.subtract(E,tf.reduce_mean(E)))**2\n",
    "Var=tf.reduce_sum(Var)/100\n",
    "print('variance : ' , Var)"
   ],
   "metadata": {
    "collapsed": false,
    "ExecuteTime": {
     "end_time": "2024-04-13T10:06:20.144006100Z",
     "start_time": "2024-04-13T10:06:20.098910500Z"
    }
   },
   "id": "96aa1bcd32bf53fe",
   "execution_count": 143
  },
  {
   "cell_type": "code",
   "outputs": [
    {
     "name": "stdout",
     "output_type": "stream",
     "text": [
      "tf.Tensor(29.135414, shape=(), dtype=float32)\n",
      "tf.Tensor(848.87244, shape=(), dtype=float32)\n"
     ]
    }
   ],
   "source": [
    "# we need to specify tf.math.... in these functions not as sum,mean....\n",
    "print(tf.math.reduce_std(tf.cast(E,tf.float32)))\n",
    "print(tf.math.reduce_variance(tf.cast(E,tf.float32)))"
   ],
   "metadata": {
    "collapsed": false,
    "ExecuteTime": {
     "end_time": "2024-04-13T10:06:20.160279300Z",
     "start_time": "2024-04-13T10:06:20.121957200Z"
    }
   },
   "id": "e621ed5ff8dc1d3a",
   "execution_count": 144
  },
  {
   "cell_type": "code",
   "outputs": [
    {
     "name": "stdout",
     "output_type": "stream",
     "text": [
      "tf.Tensor(\n",
      "[23.678892 30.34205  33.762257 24.223955 25.693579 28.545403 24.573359\n",
      " 27.69278  33.13548  20.382347], shape=(10,), dtype=float32)\n",
      "tf.Tensor([ 561  921 1140  586  660  815  604  767 1098  415], shape=(10,), dtype=int32)\n"
     ]
    }
   ],
   "source": [
    "# Variance and standard  using Tfp\n",
    "import tensorflow_probability as tfp\n",
    " \n",
    "# E should be float type if we want the accurate float value of variance\n",
    "print(tfp.stats.stddev(tf.cast(E,tf.float32)))\n",
    "print(tfp.stats.variance(E))\n"
   ],
   "metadata": {
    "collapsed": false,
    "ExecuteTime": {
     "end_time": "2024-04-13T10:06:20.223499100Z",
     "start_time": "2024-04-13T10:06:20.151048100Z"
    }
   },
   "id": "cd3eb7f35b204697",
   "execution_count": 145
  },
  {
   "cell_type": "markdown",
   "source": [
    "## Find positional maximum and minimum in a tensor"
   ],
   "metadata": {
    "collapsed": false
   },
   "id": "d6f3ec7aceb47076"
  },
  {
   "cell_type": "code",
   "outputs": [
    {
     "data": {
      "text/plain": "<tf.Tensor: shape=(10, 10), dtype=int32, numpy=\narray([[87, 89, 61, 86, 92, 84, 83, 43, 71, 91],\n       [52, 40, 51, 81, 20,  8, 59, 32,  9, 99],\n       [11, 12, 97, 94, 19,  1, 61, 45,  6, 15],\n       [70, 52,  1, 23, 68, 65,  3, 50,  3, 88],\n       [52, 38,  1, 19, 92, 54, 82, 79, 39, 36],\n       [16, 20, 20, 45, 43, 77, 75, 49,  7,  6],\n       [ 9, 78, 82, 36,  4, 19, 39, 95, 85, 18],\n       [41, 29, 87, 11, 58, 83, 96, 89, 56, 91],\n       [13, 18, 97, 37, 52, 47, 61, 46, 29,  6],\n       [25, 19, 80, 13, 72, 85, 35, 26, 72, 19]])>"
     },
     "execution_count": 146,
     "metadata": {},
     "output_type": "execute_result"
    }
   ],
   "source": [
    "tf.random.set_seed(42)\n",
    "F = tf.random.uniform(minval=0,maxval=100,shape=(10,10),dtype=tf.int32)\n",
    "F"
   ],
   "metadata": {
    "collapsed": false,
    "ExecuteTime": {
     "end_time": "2024-04-13T10:06:20.239538500Z",
     "start_time": "2024-04-13T10:06:20.189422300Z"
    }
   },
   "id": "6e1cf55c50205888",
   "execution_count": 146
  },
  {
   "cell_type": "code",
   "outputs": [
    {
     "name": "stdout",
     "output_type": "stream",
     "text": [
      " argmax among rows : [0 0 2 2 0 9 7 6 6 1]\n",
      " argmax among cols : [4 9 2 9 4 5 7 6 2 5]\n",
      " argmin among rows : 5\n"
     ]
    }
   ],
   "source": [
    "\n",
    "print(f' argmax among rows : {tf.argmax(F,axis=0)}')\n",
    "print(f' argmax among cols : {tf.argmax(F,axis=1)}')\n",
    "print(f' argmin among rows : {tf.argmin(F[2,:],axis=0)}')"
   ],
   "metadata": {
    "collapsed": false,
    "ExecuteTime": {
     "end_time": "2024-04-13T10:06:20.307772300Z",
     "start_time": "2024-04-13T10:06:20.241538900Z"
    }
   },
   "id": "537cfedbe4464214",
   "execution_count": 147
  },
  {
   "cell_type": "markdown",
   "source": [
    "## One-hot encoding "
   ],
   "metadata": {
    "collapsed": false
   },
   "id": "740ca25c01ca8e4"
  },
  {
   "cell_type": "code",
   "outputs": [
    {
     "data": {
      "text/plain": "<tf.Tensor: shape=(2, 6, 6), dtype=float32, numpy=\narray([[[1., 0., 0., 0., 0., 0.],\n        [0., 1., 0., 0., 0., 0.],\n        [0., 0., 1., 0., 0., 0.],\n        [0., 0., 0., 1., 0., 0.],\n        [0., 0., 0., 0., 1., 0.],\n        [0., 0., 0., 0., 0., 1.]],\n\n       [[0., 0., 1., 0., 0., 0.],\n        [0., 0., 0., 0., 1., 0.],\n        [0., 1., 0., 0., 0., 0.],\n        [0., 0., 0., 0., 0., 1.],\n        [0., 0., 0., 0., 1., 0.],\n        [1., 0., 0., 0., 0., 0.]]], dtype=float32)>"
     },
     "execution_count": 148,
     "metadata": {},
     "output_type": "execute_result"
    }
   ],
   "source": [
    "# create a list of indices\n",
    "some_list = [[0,1,2,3,4,5],[2,4,1,5,4,0]]\n",
    "\n",
    "# one-hot encode our list\n",
    "tf.one_hot(some_list,depth=6)\n"
   ],
   "metadata": {
    "collapsed": false,
    "ExecuteTime": {
     "end_time": "2024-04-13T10:06:20.352953900Z",
     "start_time": "2024-04-13T10:06:20.300714300Z"
    }
   },
   "id": "f59bbdaaa7a6a3c0",
   "execution_count": 148
  },
  {
   "cell_type": "code",
   "outputs": [
    {
     "name": "stdout",
     "output_type": "stream",
     "text": [
      "tf.Tensor(\n",
      "[[0. 0. 1.]\n",
      " [0. 1. 0.]\n",
      " [1. 0. 0.]\n",
      " [0. 0. 1.]\n",
      " [1. 0. 0.]\n",
      " [0. 1. 0.]], shape=(6, 3), dtype=float32)\n"
     ]
    }
   ],
   "source": [
    "# One hot encode non numerical values require some preprocessing \n",
    "\n",
    "labels = [['green','blue','red'],['green','red','blue']]\n",
    "labels = np.ravel(labels)\n",
    "# Get unique categories\n",
    "unique_labels = set(np.ravel(labels))\n",
    "\n",
    "# # Create a dictionary mapping labels to indices\n",
    "label_to_index = {label: i for i, label in enumerate(unique_labels)}\n",
    "# \n",
    "# # Encode labels as indices\n",
    "encoded_labels = [label_to_index[label] for label in labels]\n",
    "# \n",
    "# # One-hot encode the indices\n",
    "one_hot_encoded = tf.one_hot(encoded_labels, (len(unique_labels)))\n",
    "\n",
    "print(one_hot_encoded)"
   ],
   "metadata": {
    "collapsed": false,
    "ExecuteTime": {
     "end_time": "2024-04-13T10:06:20.388045100Z",
     "start_time": "2024-04-13T10:06:20.345952500Z"
    }
   },
   "id": "9d25750d3079ae30",
   "execution_count": 149
  },
  {
   "cell_type": "code",
   "outputs": [
    {
     "data": {
      "text/plain": "<tf.Tensor: shape=(2, 6, 3), dtype=bool, numpy=\narray([[[ True, False, False],\n        [False,  True, False],\n        [False, False,  True],\n        [False, False, False],\n        [False, False, False],\n        [False, False, False]],\n\n       [[False, False,  True],\n        [False, False, False],\n        [False,  True, False],\n        [False, False, False],\n        [False, False, False],\n        [ True, False, False]]])>"
     },
     "execution_count": 150,
     "metadata": {},
     "output_type": "execute_result"
    }
   ],
   "source": [
    "tf.one_hot(some_list,depth=3,on_value=True,off_value=False)"
   ],
   "metadata": {
    "collapsed": false,
    "ExecuteTime": {
     "end_time": "2024-04-13T10:06:20.402106200Z",
     "start_time": "2024-04-13T10:06:20.365995600Z"
    }
   },
   "id": "d23c8bc7d855a305",
   "execution_count": 150
  },
  {
   "cell_type": "markdown",
   "source": [
    "#### Squaring, log, square root  ...(tf.math operations)"
   ],
   "metadata": {
    "collapsed": false
   },
   "id": "95bb29a1503b779d"
  },
  {
   "cell_type": "code",
   "outputs": [
    {
     "data": {
      "text/plain": "<tf.Tensor: shape=(9,), dtype=int32, numpy=array([1, 2, 3, 4, 5, 6, 7, 8, 9])>"
     },
     "execution_count": 151,
     "metadata": {},
     "output_type": "execute_result"
    }
   ],
   "source": [
    "H = tf.range(1,10)\n",
    "H"
   ],
   "metadata": {
    "collapsed": false,
    "ExecuteTime": {
     "end_time": "2024-04-13T10:06:20.455192800Z",
     "start_time": "2024-04-13T10:06:20.394106300Z"
    }
   },
   "id": "fdf5b5b734e20bb9",
   "execution_count": 151
  },
  {
   "cell_type": "code",
   "outputs": [
    {
     "data": {
      "text/plain": "<tf.Tensor: shape=(9,), dtype=int32, numpy=array([ 1,  4,  9, 16, 25, 36, 49, 64, 81])>"
     },
     "execution_count": 152,
     "metadata": {},
     "output_type": "execute_result"
    }
   ],
   "source": [
    "tf.square(H)"
   ],
   "metadata": {
    "collapsed": false,
    "ExecuteTime": {
     "end_time": "2024-04-13T10:06:20.468236Z",
     "start_time": "2024-04-13T10:06:20.417109800Z"
    }
   },
   "id": "38b4418cc4301b5c",
   "execution_count": 152
  },
  {
   "cell_type": "code",
   "outputs": [
    {
     "data": {
      "text/plain": "<tf.Tensor: shape=(9,), dtype=float32, numpy=\narray([1.       , 1.4142135, 1.7320508, 2.       , 2.2360678, 2.4494896,\n       2.6457512, 2.828427 , 3.       ], dtype=float32)>"
     },
     "execution_count": 153,
     "metadata": {},
     "output_type": "execute_result"
    }
   ],
   "source": [
    "tf.sqrt(tf.cast(H,tf.float32)) # int values aren't supported so we will get TypeError"
   ],
   "metadata": {
    "collapsed": false,
    "ExecuteTime": {
     "end_time": "2024-04-13T10:06:20.488239300Z",
     "start_time": "2024-04-13T10:06:20.462233600Z"
    }
   },
   "id": "a2debbd811eedcb4",
   "execution_count": 153
  },
  {
   "cell_type": "code",
   "outputs": [
    {
     "data": {
      "text/plain": "<tf.Tensor: shape=(9,), dtype=float32, numpy=\narray([0.       , 0.6931472, 1.0986123, 1.3862944, 1.609438 , 1.7917595,\n       1.9459102, 2.0794415, 2.1972246], dtype=float32)>"
     },
     "execution_count": 154,
     "metadata": {},
     "output_type": "execute_result"
    }
   ],
   "source": [
    "tf.math.log(tf.cast(H,tf.float32)) # it doesn't have an alias that skip '.math'"
   ],
   "metadata": {
    "collapsed": false,
    "ExecuteTime": {
     "end_time": "2024-04-13T10:06:20.524399600Z",
     "start_time": "2024-04-13T10:06:20.484239400Z"
    }
   },
   "id": "103379e6a96386e2",
   "execution_count": 154
  },
  {
   "cell_type": "markdown",
   "source": [
    "## Tensors and NumPy\n",
    "Tensorflow interacts smoothly with NumPy (**Full interoperability**)"
   ],
   "metadata": {
    "collapsed": false
   },
   "id": "5600281db8f81449"
  },
  {
   "cell_type": "code",
   "outputs": [
    {
     "data": {
      "text/plain": "<tf.Tensor: shape=(3,), dtype=int32, numpy=array([3, 7, 1])>"
     },
     "execution_count": 155,
     "metadata": {},
     "output_type": "execute_result"
    }
   ],
   "source": [
    "# Create a tensor directly forma NumPy array\n",
    "J= tf.constant(np.array([3,7,1]))\n",
    "J"
   ],
   "metadata": {
    "collapsed": false,
    "ExecuteTime": {
     "end_time": "2024-04-13T10:06:20.552406400Z",
     "start_time": "2024-04-13T10:06:20.493241200Z"
    }
   },
   "id": "cb646808d264ccec",
   "execution_count": 155
  },
  {
   "cell_type": "code",
   "outputs": [
    {
     "data": {
      "text/plain": "(array([3, 7, 1]), numpy.ndarray)"
     },
     "execution_count": 156,
     "metadata": {},
     "output_type": "execute_result"
    }
   ],
   "source": [
    "# Convert a tensor into a numpy array\n",
    "np.array(J), type(J.numpy())"
   ],
   "metadata": {
    "collapsed": false,
    "ExecuteTime": {
     "end_time": "2024-04-13T10:06:20.602492400Z",
     "start_time": "2024-04-13T10:06:20.540403700Z"
    }
   },
   "id": "454741878cbe3bd7",
   "execution_count": 156
  },
  {
   "cell_type": "code",
   "outputs": [
    {
     "data": {
      "text/plain": "(array([3, 7, 1]), numpy.ndarray)"
     },
     "execution_count": 157,
     "metadata": {},
     "output_type": "execute_result"
    }
   ],
   "source": [
    "# Same as above\n",
    "J.numpy(), type(J.numpy())"
   ],
   "metadata": {
    "collapsed": false,
    "ExecuteTime": {
     "end_time": "2024-04-13T10:06:20.610537900Z",
     "start_time": "2024-04-13T10:06:20.573410500Z"
    }
   },
   "id": "e9510d3add2513e6",
   "execution_count": 157
  },
  {
   "cell_type": "code",
   "outputs": [
    {
     "data": {
      "text/plain": "(tf.float64, tf.float32)"
     },
     "execution_count": 167,
     "metadata": {},
     "output_type": "execute_result"
    }
   ],
   "source": [
    "# The default typer of each are slightly different\n",
    "numpy_J= tf.constant(np.array([3.,7.,1.]))\n",
    "tensor_J= tf.constant([3.,7.,1.])\n",
    "# Check the datatypes of each \n",
    "numpy_J.dtype, tensor_J.dtype"
   ],
   "metadata": {
    "collapsed": false,
    "ExecuteTime": {
     "end_time": "2024-04-13T10:10:48.116814100Z",
     "start_time": "2024-04-13T10:10:48.102764300Z"
    }
   },
   "id": "614194253bb1bd90",
   "execution_count": 167
  }
 ],
 "metadata": {
  "kernelspec": {
   "display_name": "Python 3",
   "language": "python",
   "name": "python3"
  },
  "language_info": {
   "codemirror_mode": {
    "name": "ipython",
    "version": 2
   },
   "file_extension": ".py",
   "mimetype": "text/x-python",
   "name": "python",
   "nbconvert_exporter": "python",
   "pygments_lexer": "ipython2",
   "version": "2.7.6"
  }
 },
 "nbformat": 4,
 "nbformat_minor": 5
}
