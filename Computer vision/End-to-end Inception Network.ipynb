{
 "cells": [
  {
   "cell_type": "code",
   "execution_count": 1,
   "id": "initial_id",
   "metadata": {
    "collapsed": true,
    "ExecuteTime": {
     "end_time": "2024-09-09T16:35:28.365100900Z",
     "start_time": "2024-09-09T16:35:28.348008700Z"
    }
   },
   "outputs": [
    {
     "name": "stdout",
     "output_type": "stream",
     "text": [
      "Notebook last run (end-to-end): 2024-09-09 17:35:28.347010\n"
     ]
    }
   ],
   "source": [
    "import datetime\n",
    "\n",
    "print(f\"Notebook last run (end-to-end): {datetime.datetime.now()}\")\n"
   ]
  },
  {
   "cell_type": "code",
   "outputs": [],
   "source": [
    "import numpy as np\n",
    "import pandas as pd\n"
   ],
   "metadata": {
    "collapsed": false,
    "ExecuteTime": {
     "end_time": "2024-09-09T16:35:28.398172200Z",
     "start_time": "2024-09-09T16:35:28.364062400Z"
    }
   },
   "id": "25ea68863dbf2751",
   "execution_count": 2
  },
  {
   "cell_type": "code",
   "outputs": [
    {
     "name": "stdout",
     "output_type": "stream",
     "text": [
      "Num GPUs Available:  1\n",
      "tf version :  2.10.0\n"
     ]
    }
   ],
   "source": [
    "import tensorflow as tf\n",
    "from tensorflow import keras\n",
    "\n",
    "physical_devices = tf.config.list_physical_devices('GPU')\n",
    "if physical_devices:\n",
    "    try:\n",
    "        tf.config.experimental.set_memory_growth(physical_devices[0], True)\n",
    "    except RuntimeError as e:\n",
    "        print(e)\n",
    "print(\"Num GPUs Available: \", len(tf.config.list_physical_devices('GPU')))\n",
    "print('tf version : ', tf.__version__)\n"
   ],
   "metadata": {
    "collapsed": false,
    "ExecuteTime": {
     "end_time": "2024-09-09T16:35:33.619080600Z",
     "start_time": "2024-09-09T16:35:28.379459800Z"
    }
   },
   "id": "84b7b1d41d0e1f6",
   "execution_count": 3
  },
  {
   "cell_type": "markdown",
   "source": [
    "## End-to-end Inception Network\n",
    "![](img.png)\n"
   ],
   "metadata": {
    "collapsed": false
   },
   "id": "71ef90ab94d76253"
  },
  {
   "cell_type": "markdown",
   "source": [
    "## Layers"
   ],
   "metadata": {
    "collapsed": false
   },
   "id": "1e339f2fb533b079"
  },
  {
   "cell_type": "markdown",
   "source": [
    "### Conv Module\n"
   ],
   "metadata": {
    "collapsed": false
   },
   "id": "840ab941b125f24d"
  },
  {
   "cell_type": "code",
   "outputs": [],
   "source": [
    "class ConvModule(keras.layers.Layer):\n",
    "    def __init__(self,\n",
    "                 num_filters, kernel_size, strides, padding='same'):\n",
    "        super().__init__()\n",
    "        # Conv layer\n",
    "        self.conv = keras.layers.Conv2D(filters=num_filters,\n",
    "                                        kernel_size=kernel_size,\n",
    "                                        strides=strides,\n",
    "                                        padding=padding)\n",
    "        # BatchNorm layer\n",
    "        self.bn = keras.layers.BatchNormalization()\n",
    "\n",
    "    def call(self, _inputs, training=False):\n",
    "        x = self.conv(_inputs)  # Convolutional operation without activation\n",
    "        x = self.bn(x)\n",
    "        x = tf.nn.relu(x)  # ReLU activation applied after batch normalization\n",
    "\n",
    "        return x"
   ],
   "metadata": {
    "collapsed": false,
    "ExecuteTime": {
     "end_time": "2024-09-09T16:35:33.643135300Z",
     "start_time": "2024-09-09T16:35:33.621172300Z"
    }
   },
   "id": "a823adab4439e037",
   "execution_count": 4
  },
  {
   "cell_type": "code",
   "outputs": [],
   "source": [
    "cm = ConvModule(16, (3, 3), (1, 1))\n",
    "y = cm(tf.ones(shape=(4, 28, 28, 3)))  # first call to the `cm` will create weights"
   ],
   "metadata": {
    "collapsed": false,
    "ExecuteTime": {
     "end_time": "2024-09-09T16:35:42.631887700Z",
     "start_time": "2024-09-09T16:35:33.635314700Z"
    }
   },
   "id": "f8bc2dee440d886a",
   "execution_count": 5
  },
  {
   "cell_type": "code",
   "outputs": [
    {
     "name": "stdout",
     "output_type": "stream",
     "text": [
      "weights : 6\n",
      "trainable weights : 4\n",
      "non trainable weights : 2\n"
     ]
    }
   ],
   "source": [
    "print(f'weights : {len(cm.weights)}')\n",
    "print(f'trainable weights : {len(cm.trainable_weights)}')  # Kernel weights, biases, beta & gamma of BN\n",
    "print(f'non trainable weights : {len(cm.non_trainable_weights)}')  # Moving mean and variance calculated in forward pass\n"
   ],
   "metadata": {
    "collapsed": false,
    "ExecuteTime": {
     "end_time": "2024-09-09T16:35:42.686588100Z",
     "start_time": "2024-09-09T16:35:42.642362700Z"
    }
   },
   "id": "c3ec0f37a0ec17c4",
   "execution_count": 6
  },
  {
   "cell_type": "markdown",
   "source": [
    "### Inception Module\n",
    "- Padding have already been set to 'same' in the convmodule so that the dimensions of the feature maps will be the same for both (self.con1 , self.conv2).\n",
    "\n",
    "- num of filters should be dynamic as we can see in the scheme, it variates.\n",
    "\n",
    "- By concatenating the channels, the network can learn different types of features from the input tensor, such as local and global features, and combine them into a richer representation for further processing in the subsequent layers."
   ],
   "metadata": {
    "collapsed": false
   },
   "id": "6af5ecb840047109"
  },
  {
   "cell_type": "code",
   "outputs": [],
   "source": [
    "class InceptionModule(keras.layers.Layer):\n",
    "    def __init__(self, num_filters1, num_filters2):\n",
    "        super().__init__()\n",
    "        self.conv1 = ConvModule(\n",
    "            num_filters1,\n",
    "            kernel_size=(1, 1),\n",
    "            strides=(1, 1)\n",
    "        )\n",
    "\n",
    "        self.conv2 = ConvModule(\n",
    "            num_filters2,\n",
    "            kernel_size=(3, 3),\n",
    "            strides=(1, 1)\n",
    "        )\n",
    "\n",
    "        self.cat = keras.layers.Concatenate()\n",
    "\n",
    "    def call(self, _inputs, training=False):\n",
    "        x1 = self.conv1(_inputs)\n",
    "        x2 = self.conv2(_inputs)\n",
    "        x = self.cat([x1, x2])  # concat channels/feature maps \n",
    "\n",
    "        return x"
   ],
   "metadata": {
    "collapsed": false,
    "ExecuteTime": {
     "end_time": "2024-09-09T16:35:42.687921800Z",
     "start_time": "2024-09-09T16:35:42.661131300Z"
    }
   },
   "id": "5a126e73fa058e20",
   "execution_count": 7
  },
  {
   "cell_type": "code",
   "outputs": [],
   "source": [
    "incp = InceptionModule(16, 10)\n",
    "y = incp(tf.ones(shape=(4, 28, 28, 3)))  # first call to the `cm` will create weights"
   ],
   "metadata": {
    "collapsed": false,
    "ExecuteTime": {
     "end_time": "2024-09-09T16:35:42.879968Z",
     "start_time": "2024-09-09T16:35:42.675766400Z"
    }
   },
   "id": "a246c2d36a2d7471",
   "execution_count": 8
  },
  {
   "cell_type": "code",
   "outputs": [
    {
     "data": {
      "text/plain": "TensorShape([4, 28, 28, 26])"
     },
     "execution_count": 9,
     "metadata": {},
     "output_type": "execute_result"
    }
   ],
   "source": [
    "y.shape  # (batch_size, width, height, channels concatenated) "
   ],
   "metadata": {
    "collapsed": false,
    "ExecuteTime": {
     "end_time": "2024-09-09T16:35:42.906084500Z",
     "start_time": "2024-09-09T16:35:42.882018900Z"
    }
   },
   "id": "13f901eb4d183c99",
   "execution_count": 9
  },
  {
   "cell_type": "markdown",
   "source": [
    "## Downsample Module"
   ],
   "metadata": {
    "collapsed": false
   },
   "id": "d15342ebcaa5a049"
  },
  {
   "cell_type": "code",
   "outputs": [],
   "source": [
    "class DownsampleModule(keras.layers.Layer):\n",
    "    def __init__(self, num_filters):\n",
    "        super().__init__()\n",
    "\n",
    "        self.conv = ConvModule(num_filters,\n",
    "                               kernel_size=(3, 3),\n",
    "                               strides=(2, 2),\n",
    "                               padding='valid'\n",
    "                               )\n",
    "        self.mp = keras.layers.MaxPooling2D(\n",
    "            pool_size=(3, 3),\n",
    "            strides=(2, 2),\n",
    "            padding='valid'\n",
    "\n",
    "        )\n",
    "        self.cat = keras.layers.Concatenate()\n",
    "\n",
    "    def call(self, _inputs):\n",
    "        # forward pass\n",
    "        conv_x = self.conv(_inputs)\n",
    "        pool_x = self.mp(_inputs)\n",
    "        x = self.cat([conv_x, pool_x])  # merge\n",
    "\n",
    "        return x\n"
   ],
   "metadata": {
    "collapsed": false,
    "ExecuteTime": {
     "end_time": "2024-09-09T16:35:42.947074800Z",
     "start_time": "2024-09-09T16:35:42.902054400Z"
    }
   },
   "id": "ce542755ea30241c",
   "execution_count": 10
  },
  {
   "cell_type": "markdown",
   "source": [
    "## Model class: Layer Encomapassing\n",
    "The model class will encompass the layers/modules we defined previously to create a network"
   ],
   "metadata": {
    "collapsed": false
   },
   "id": "37f83ac4e9c726b4"
  },
  {
   "cell_type": "code",
   "outputs": [],
   "source": [
    "class InceptionModel(keras.Model):\n",
    "    def __init__(self, nb_classes=10):\n",
    "        super().__init__()\n",
    "\n",
    "        # First Block\n",
    "        self.conv_1 = ConvModule(96, (3, 3), (1, 1))\n",
    "\n",
    "        # Second Block\n",
    "        self.incep_2_1 = InceptionModule(32, 32)\n",
    "        self.incep_2_2 = InceptionModule(32, 48)\n",
    "        self.downsample_2 = DownsampleModule(80)\n",
    "\n",
    "        # Third Block \n",
    "        self.incep_3_1 = InceptionModule(112, 48)\n",
    "        self.incep_3_2 = InceptionModule(96, 64)\n",
    "        self.incep_3_3 = InceptionModule(80, 80)\n",
    "        self.incep_3_4 = InceptionModule(48, 96)\n",
    "        self.downsample_3 = DownsampleModule(96)\n",
    "\n",
    "        # Fourth Block\n",
    "        self.incep_4_1 = InceptionModule(176, 160)\n",
    "        self.incep_4_2 = InceptionModule(176, 160)\n",
    "        self.avg_pool_4 = keras.layers.AveragePooling2D((7, 7))\n",
    "\n",
    "        self.flat_4 = keras.layers.Flatten()\n",
    "        self.dense_4 = keras.layers.Dense(\n",
    "            nb_classes,\n",
    "            activation='softmax')\n",
    "\n",
    "    def call(self, _inputs, training=False, **kwargs):\n",
    "        # forward pass\n",
    "        x = self.conv_1(_inputs)\n",
    "\n",
    "        x = self.incep_2_1(x)\n",
    "        x = self.incep_2_2(x)\n",
    "        x = self.downsample_2(x)\n",
    "\n",
    "        x = self.incep_3_1(x)\n",
    "        x = self.incep_3_2(x)\n",
    "        x = self.incep_3_3(x)\n",
    "        x = self.incep_3_4(x)\n",
    "        x = self.downsample_3(x)\n",
    "\n",
    "        x = self.incep_4_1(x)\n",
    "        x = self.incep_4_2(x)\n",
    "        x = self.avg_pool_4(x)\n",
    "\n",
    "        x = self.flat_4(x)\n",
    "        return self.dense_4(x)\n",
    "\n",
    "    def build_graph(self, raw_shape):\n",
    "        x = keras.Input(shape=raw_shape)\n",
    "        return keras.Model(inputs=[x], outputs=self.call(x))\n"
   ],
   "metadata": {
    "collapsed": false,
    "ExecuteTime": {
     "end_time": "2024-09-09T16:35:42.958301600Z",
     "start_time": "2024-09-09T16:35:42.934580300Z"
    }
   },
   "id": "9785381336149f9a",
   "execution_count": 11
  },
  {
   "cell_type": "code",
   "outputs": [
    {
     "name": "stdout",
     "output_type": "stream",
     "text": [
      "Model: \"model\"\n",
      "_________________________________________________________________\n",
      " Layer (type)                Output Shape              Param #   \n",
      "=================================================================\n",
      " input_1 (InputLayer)        [(None, 32, 32, 3)]       0         \n",
      "                                                                 \n",
      " conv_module_3 (ConvModule)  (None, 32, 32, 96)        3072      \n",
      "                                                                 \n",
      " inception_module_1 (Incepti  (None, 32, 32, 64)       31040     \n",
      " onModule)                                                       \n",
      "                                                                 \n",
      " inception_module_2 (Incepti  (None, 32, 32, 80)       30096     \n",
      " onModule)                                                       \n",
      "                                                                 \n",
      " downsample_module (Downsamp  (None, 15, 15, 160)      58000     \n",
      " leModule)                                                       \n",
      "                                                                 \n",
      " inception_module_3 (Incepti  (None, 15, 15, 160)      87840     \n",
      " onModule)                                                       \n",
      "                                                                 \n",
      " inception_module_4 (Incepti  (None, 15, 15, 160)      108320    \n",
      " onModule)                                                       \n",
      "                                                                 \n",
      " inception_module_5 (Incepti  (None, 15, 15, 160)      128800    \n",
      " onModule)                                                       \n",
      "                                                                 \n",
      " inception_module_6 (Incepti  (None, 15, 15, 144)      146640    \n",
      " onModule)                                                       \n",
      "                                                                 \n",
      " downsample_module_1 (Downsa  (None, 7, 7, 240)        124896    \n",
      " mpleModule)                                                     \n",
      "                                                                 \n",
      " inception_module_7 (Incepti  (None, 7, 7, 336)        389520    \n",
      " onModule)                                                       \n",
      "                                                                 \n",
      " inception_module_8 (Incepti  (None, 7, 7, 336)        544656    \n",
      " onModule)                                                       \n",
      "                                                                 \n",
      " average_pooling2d (AverageP  (None, 1, 1, 336)        0         \n",
      " ooling2D)                                                       \n",
      "                                                                 \n",
      " flatten (Flatten)           (None, 336)               0         \n",
      "                                                                 \n",
      " dense (Dense)               (None, 10)                3370      \n",
      "                                                                 \n",
      "=================================================================\n",
      "Total params: 1,656,250\n",
      "Trainable params: 1,652,826\n",
      "Non-trainable params: 3,424\n",
      "_________________________________________________________________\n"
     ]
    }
   ],
   "source": [
    "raw_input = (32, 32, 3)\n",
    "\n",
    "# init model object\n",
    "cm = InceptionModel()\n",
    "\n",
    "# The first call to the `cm` will create the weights\n",
    "y = cm(tf.ones(shape=(0, *raw_input)))\n",
    "\n",
    "# print summary\n",
    "cm.build_graph(raw_input).summary()\n",
    "# tf.keras.utils.plot_model(\n",
    "#     cm.build_graph(raw_input),                      # here is the trick (for now)\n",
    "#     to_file='model.png', dpi=96,              # saving  \n",
    "#     show_shapes=True, show_layer_names=True,  # show shapes and layer name\n",
    "#     expand_nested=False                       # will show nested block\n",
    "# )"
   ],
   "metadata": {
    "collapsed": false,
    "ExecuteTime": {
     "end_time": "2024-09-09T16:35:44.304554400Z",
     "start_time": "2024-09-09T16:35:42.944472Z"
    }
   },
   "id": "c668dd1f3b155338",
   "execution_count": 12
  },
  {
   "cell_type": "markdown",
   "source": [
    "This line is a bit tricky and serves a specific purpose. Let's break it down further:\n",
    "\n",
    "`tf.ones(shape=(0,*raw_input))` :\n",
    "\n",
    "- This creates a tensor of ones with shape (0, 32, 32, 3).\n",
    "- The `*raw_input` unpacks the raw_input tuple.\n",
    "- The leading 0 in the shape means it's creating an empty batch.\n",
    "\n",
    "The reason for using an empty batch (shape starting with 0) is to initialize the model's weights without actually performing any computation. This is a technique sometimes used to inspect or manipulate a model's architecture before training."
   ],
   "metadata": {
    "collapsed": false
   },
   "id": "96203508afb0243f"
  },
  {
   "cell_type": "markdown",
   "source": [
    "Now, the model is complete we need to train it\n"
   ],
   "metadata": {
    "collapsed": false
   },
   "id": "d55fdfeb932fb726"
  },
  {
   "cell_type": "markdown",
   "source": [
    "## End-to-End Training with Custom Training Loop from Scratch\n",
    "\n",
    "We can train now this model using **compile & fit**, but we will look at custom training loop from scratch introduces in Tensorflow 2\n"
   ],
   "metadata": {
    "collapsed": false
   },
   "id": "edc27179afcf8b55"
  },
  {
   "cell_type": "markdown",
   "source": [
    "### Data set \n",
    "**CIFAR-10** gonna be used for the demonstration"
   ],
   "metadata": {
    "collapsed": false
   },
   "id": "6ae1c543033f280f"
  },
  {
   "cell_type": "code",
   "outputs": [],
   "source": [
    "BATCH_SIZE = 256"
   ],
   "metadata": {
    "collapsed": false,
    "ExecuteTime": {
     "end_time": "2024-09-09T16:35:44.314381900Z",
     "start_time": "2024-09-09T16:35:44.222145800Z"
    }
   },
   "id": "80eed9738b6d4dbe",
   "execution_count": 13
  },
  {
   "cell_type": "code",
   "outputs": [
    {
     "name": "stdout",
     "output_type": "stream",
     "text": [
      "(50000, 32, 32, 3) (50000, 1)\n",
      "(10000, 32, 32, 3) (10000, 1)\n"
     ]
    }
   ],
   "source": [
    "(x_train, y_train), (x_holdout, y_holdout) = keras.datasets.cifar10.load_data()\n",
    "print(x_train.shape, y_train.shape)\n",
    "print(x_holdout.shape, y_holdout.shape)\n",
    "\n"
   ],
   "metadata": {
    "collapsed": false,
    "ExecuteTime": {
     "end_time": "2024-09-09T16:35:45.256139100Z",
     "start_time": "2024-09-09T16:35:44.238122300Z"
    }
   },
   "id": "f9a3bd8b59538516",
   "execution_count": 14
  },
  {
   "cell_type": "code",
   "outputs": [
    {
     "name": "stdout",
     "output_type": "stream",
     "text": [
      "(50000, 32, 32, 3) (50000, 1)\n",
      "(4000, 32, 32, 3) (4000, 1)\n",
      "(6000, 32, 32, 3) (6000, 1)\n"
     ]
    }
   ],
   "source": [
    "from sklearn.model_selection import train_test_split\n",
    "x_test, x_val, y_test, y_val = train_test_split(x_holdout, y_holdout, test_size=0.4)\n",
    "print(x_train.shape, y_train.shape)\n",
    "print(x_val.shape, y_val.shape)\n",
    "print(x_test.shape, y_test.shape)"
   ],
   "metadata": {
    "collapsed": false,
    "ExecuteTime": {
     "end_time": "2024-09-09T16:35:45.614582800Z",
     "start_time": "2024-09-09T16:35:45.256139100Z"
    }
   },
   "id": "a92560b375e78301",
   "execution_count": 15
  },
  {
   "cell_type": "code",
   "outputs": [],
   "source": [
    "train_dataset = tf.data.Dataset.from_tensor_slices((x_train, y_train))\n",
    "test_dataset = tf.data.Dataset.from_tensor_slices((x_test, y_test))\n",
    "val_dataset = tf.data.Dataset.from_tensor_slices((x_val, y_val))"
   ],
   "metadata": {
    "collapsed": false,
    "ExecuteTime": {
     "end_time": "2024-09-09T16:35:46.104357200Z",
     "start_time": "2024-09-09T16:35:45.616179700Z"
    }
   },
   "id": "88c5fea039ab94d3",
   "execution_count": 16
  },
  {
   "cell_type": "code",
   "outputs": [],
   "source": [
    "def preprocess_dataset(x, y):\n",
    "    x = tf.cast(x, tf.float32) / 255 # Normalize data\n",
    "    y = tf.one_hot(tf.squeeze(y), depth=10) # We added tf.squeeze(y) to remove the extra dimension from the labels, as tf.one_hot expects a 1D tensor.\n",
    "    \n",
    "    return x , y"
   ],
   "metadata": {
    "collapsed": false,
    "ExecuteTime": {
     "end_time": "2024-09-09T16:35:46.121151700Z",
     "start_time": "2024-09-09T16:35:46.105901700Z"
    }
   },
   "id": "ff97165d9b4b46fe",
   "execution_count": 17
  },
  {
   "cell_type": "code",
   "outputs": [],
   "source": [
    "train_dataset = train_dataset.map(preprocess_dataset).shuffle(1024).batch(BATCH_SIZE).cache().prefetch(tf.data.AUTOTUNE)\n",
    "\n",
    "test_dataset = test_dataset.map(preprocess_dataset).batch(BATCH_SIZE).cache().prefetch(tf.data.AUTOTUNE)\n",
    "\n",
    "val_dataset = val_dataset.map(preprocess_dataset).batch(BATCH_SIZE).cache().prefetch(tf.data.AUTOTUNE)"
   ],
   "metadata": {
    "collapsed": false,
    "ExecuteTime": {
     "end_time": "2024-09-09T16:35:46.271157Z",
     "start_time": "2024-09-09T16:35:46.120122Z"
    }
   },
   "id": "f1d344a1d3d3de4a",
   "execution_count": 18
  },
  {
   "cell_type": "code",
   "outputs": [],
   "source": [
    "x_train = x_train.astype('float32') / 255  # Normalize data\n",
    "x_test = x_test.astype('float32') / 255\n",
    "x_val = x_val.astype('float32') / 255\n",
    "\n",
    "class_names = ['airplane', 'automobile', 'bird', 'cat', 'deer', 'dog', 'frog', 'horse', 'ship', 'truck']"
   ],
   "metadata": {
    "collapsed": false,
    "ExecuteTime": {
     "end_time": "2024-09-09T16:35:48.064342400Z",
     "start_time": "2024-09-09T16:35:46.261302400Z"
    }
   },
   "id": "d73d3821ead2fd5a",
   "execution_count": 19
  },
  {
   "cell_type": "code",
   "outputs": [
    {
     "data": {
      "text/plain": "<Figure size 600x300 with 8 Axes>",
      "image/png": "[encoded data removed]"
     },
     "metadata": {},
     "output_type": "display_data"
    }
   ],
   "source": [
    "import matplotlib.pyplot as plt\n",
    "import random\n",
    "\n",
    "plt.figure(figsize=(6, 3))\n",
    "for i in range(8):  # Visualize chunk of the dataset\n",
    "    rand_nb = random.randint(0, len(x_train) - 1)\n",
    "    plt.subplot(2, 4, i + 1)\n",
    "    plt.imshow(x_train[rand_nb], cmap=plt.cm.binary)\n",
    "    plt.title(class_names[y_train[rand_nb][0]])\n",
    "    plt.axis('off')\n"
   ],
   "metadata": {
    "collapsed": false,
    "ExecuteTime": {
     "end_time": "2024-09-09T16:35:49.542079900Z",
     "start_time": "2024-09-09T16:35:48.069860500Z"
    }
   },
   "id": "352318c17863d4a",
   "execution_count": 20
  },
  {
   "cell_type": "markdown",
   "source": [
    "Convert labels **(y_train, y_test)** to multi-class matrix"
   ],
   "metadata": {
    "collapsed": false
   },
   "id": "4f62041927dbad75"
  },
  {
   "cell_type": "code",
   "outputs": [
    {
     "name": "stdout",
     "output_type": "stream",
     "text": [
      "(256, 32, 32, 3) (256, 10)\n",
      "(256, 32, 32, 3) (256, 10)\n",
      "------------------------\n",
      "(256, 32, 32, 3) (256, 10)\n",
      "(256, 32, 32, 3) (256, 10)\n",
      "------------------------\n",
      "(256, 32, 32, 3) (256, 10)\n",
      "(256, 32, 32, 3) (256, 10)\n",
      "------------------------\n"
     ]
    }
   ],
   "source": [
    "for dataset in ([train_dataset, val_dataset, test_dataset]):\n",
    "    for i, (x,y) in enumerate(dataset):\n",
    "        print(x.shape, y.shape) #  batch size , width x height image, channels(RGB)\n",
    "        if i == 1:\n",
    "            print('------------------------')\n",
    "            break"
   ],
   "metadata": {
    "collapsed": false,
    "ExecuteTime": {
     "end_time": "2024-09-09T16:35:50.271115300Z",
     "start_time": "2024-09-09T16:35:49.542079900Z"
    }
   },
   "id": "d24bf205a0cf1041",
   "execution_count": 21
  },
  {
   "cell_type": "markdown",
   "source": [
    "### Training Mechanism\n",
    "\n",
    "#### Low level control of training loop:\n",
    "1.  We open a for loop that will iterate over the number of epochs.\n",
    "2. For each epoch, we open another for loop that will iterate over the datasets, in batches (x, y).\n",
    "3. For each batch, we open GradientTape() scope.\n",
    "4. Inside this scope, we call the model, the forward pass, and compute the loss.\n",
    "5. Outside this scope, we retrieve the gradients of the weights of the model with regard to the loss.\n",
    "6. Next, we use the optimizer to update the weights of the model based on the gradients.\n",
    "\n",
    "TensorFlow provides the `tf.GradientTape()` API for automatic differentiation, that is, computing the gradient of computation with respect to some inputs.\n"
   ],
   "metadata": {
    "collapsed": false
   },
   "id": "b7debc3932e6b5e5"
  },
  {
   "cell_type": "code",
   "outputs": [
    {
     "name": "stdout",
     "output_type": "stream",
     "text": [
      "[<tf.Tensor: shape=(3, 2), dtype=float32, numpy=\n",
      "array([[-0.07866383,  2.6718152 ],\n",
      "       [-0.15732765,  5.3436303 ],\n",
      "       [-0.23599148,  8.015446  ]], dtype=float32)>, <tf.Tensor: shape=(2,), dtype=float32, numpy=array([-0.07866383,  2.6718152 ], dtype=float32)>]\n"
     ]
    }
   ],
   "source": [
    "# x:input, w,b: trainable param - x*w + b\n",
    "w = tf.Variable(tf.random.normal((3, 2)), name='w')\n",
    "b = tf.Variable(tf.zeros(2, dtype=tf.float32), name='b')\n",
    "x = [[1., 2., 3.], [1., 2., 3.]]\n",
    "\n",
    "\n",
    "# Open a GradientTape to record the operations run\n",
    "# during the forward pass, which enables auto-differentiation.\n",
    "\n",
    "with tf.GradientTape(persistent=True) as tape:\n",
    "    y = x @ w + b # output from the forward pass (for the actual model)\n",
    "    \n",
    "    # Compute the loss value for this minibatch.\n",
    "    loss = tf.reduce_mean(y**2)\n",
    "\n",
    "\n",
    "# Calculate gradients with respect to every trainable variable\n",
    "grad = tape.gradient(loss, [w, b])\n",
    "print(grad)\n",
    "\n"
   ],
   "metadata": {
    "collapsed": false,
    "ExecuteTime": {
     "end_time": "2024-09-09T16:35:50.534348500Z",
     "start_time": "2024-09-09T16:35:50.273241600Z"
    }
   },
   "id": "f81c7745c686ab35",
   "execution_count": 22
  },
  {
   "cell_type": "code",
   "outputs": [],
   "source": [
    "# Instantiate an optimizer to train the model.\n",
    "optimizer = keras.optimizers.Adam()\n",
    "\n",
    "# Instantiate a loss function\n",
    "loss_fn = keras.losses.CategoricalCrossentropy()\n",
    "\n",
    "# Prepare the metrics.\n",
    "train_acc_metric = keras.metrics.CategoricalAccuracy()\n",
    "val_acc_metric   = keras.metrics.CategoricalAccuracy()\n",
    "\n",
    "# tensorboard writer \n",
    "train_writer = tf.summary.create_file_writer('logs/train/')\n",
    "test_writer  = tf.summary.create_file_writer('logs/test/')\n",
    "\n",
    "model = InceptionModel()\n",
    "@tf.function\n",
    "def train_step(step, x, y):\n",
    "    # start the scope of gradient \n",
    "    \n",
    "    with tf.GradientTape() as tape:\n",
    "        logits = model(x, training=True) # forward pass\n",
    "        train_loss_value = loss_fn(y, logits) # compute loss \n",
    "\n",
    "    # compute gradient \n",
    "    grads = tape.gradient(train_loss_value, model.trainable_weights)\n",
    "\n",
    "    # update weights\n",
    "    optimizer.apply_gradients(zip(grads, model.trainable_weights))\n",
    "\n",
    "    # update metrics\n",
    "    train_acc_metric.update_state(y, logits)\n",
    "    \n",
    "    # write training loss and accuracy to the tensorboard\n",
    "    with train_writer.as_default():\n",
    "        tf.summary.scalar('loss', train_loss_value, step=step)\n",
    "        tf.summary.scalar('accuracy', train_acc_metric.result(), step=step)\n",
    "    return train_loss_value\n",
    "\n",
    "@tf.function\n",
    "def test_step(step, x, y):\n",
    "    # forward pass, no backprop, inference mode \n",
    "    val_logits = model(x, training=False) \n",
    "\n",
    "    # Compute the loss value \n",
    "    val_loss_value = loss_fn(y, val_logits)\n",
    "\n",
    "    # Update val metrics\n",
    "    val_acc_metric.update_state(y, val_logits)\n",
    "    \n",
    "    # write test loss and accuracy to the tensorboard\n",
    "    with test_writer.as_default():\n",
    "        tf.summary.scalar('val loss', val_loss_value, step=step)\n",
    "        tf.summary.scalar('val accuracy', val_acc_metric.result(), step=step)\n",
    "    return val_loss_value\n",
    "\n"
   ],
   "metadata": {
    "collapsed": false,
    "ExecuteTime": {
     "end_time": "2024-09-09T16:35:50.611517900Z",
     "start_time": "2024-09-09T16:35:50.536948100Z"
    }
   },
   "id": "ab0a6cd5d1788357",
   "execution_count": 23
  },
  {
   "cell_type": "code",
   "outputs": [
    {
     "name": "stdout",
     "output_type": "stream",
     "text": [
      "ETA: 0.54 - epoch: 1 loss: 0.83  acc: 0.58% val loss: 4.08 val acc: 0.11%\n",
      "ETA: 0.39 - epoch: 2 loss: 0.56  acc: 0.75% val loss: 2.38 val acc: 0.31%\n",
      "ETA: 0.4 - epoch: 3 loss: 0.34  acc: 0.81% val loss: 0.71 val acc: 0.74%\n",
      "ETA: 0.41 - epoch: 4 loss: 0.18  acc: 0.86% val loss: 1.04 val acc: 0.70%\n",
      "ETA: 0.4 - epoch: 5 loss: 0.10  acc: 0.89% val loss: 1.43 val acc: 0.63%\n",
      "ETA: 0.5 - epoch: 6 loss: 0.07  acc: 0.91% val loss: 1.20 val acc: 0.69%\n",
      "ETA: 0.69 - epoch: 7 loss: 0.03  acc: 0.92% val loss: 1.32 val acc: 0.70%\n",
      "ETA: 0.68 - epoch: 8 loss: 0.05  acc: 0.94% val loss: 2.10 val acc: 0.64%\n",
      "ETA: 0.58 - epoch: 9 loss: 0.04  acc: 0.95% val loss: 1.19 val acc: 0.74%\n",
      "ETA: 0.38 - epoch: 10 loss: 0.01  acc: 0.96% val loss: 1.72 val acc: 0.65%\n"
     ]
    }
   ],
   "source": [
    "import time \n",
    "epochs =10\n",
    "# custom training loop \n",
    "with tf.device('/GPU:0'):  # Use the first GPU\n",
    "\n",
    "    for epoch in range(epochs):\n",
    "        t = time.time()\n",
    "        # batch training \n",
    "    \n",
    "        # Iterate over the batches of the train dataset.\n",
    "        for step, (x_batch, y_batch) in enumerate(train_dataset):\n",
    "            step = tf.convert_to_tensor(step, dtype=tf.int64)\n",
    "            \n",
    "            train_loss_value = train_step(step, x_batch, y_batch)\n",
    "    \n",
    "        # evaluation on validation set \n",
    "        # Run a validation loop at the end of each epoch.\n",
    "        for step, (x_batch, y_batch) in enumerate(val_dataset):\n",
    "            step = tf.convert_to_tensor(step, dtype=tf.int64)\n",
    "            \n",
    "            val_loss_value = test_step(step, x_batch, y_batch)\n",
    "    \n",
    "        template = \"ETA: {} - epoch: {} loss: {:.2f}  acc: {:.2f}% val loss: {:.2f} val acc: {:.2f}%\\n\"\n",
    "        print(\n",
    "            template.format(\n",
    "                round((time.time() - t)/60, 2), epoch + 1,\n",
    "                train_loss_value, float(train_acc_metric.result()),\n",
    "                val_loss_value, float(val_acc_metric.result())\n",
    "            ) \n",
    "        )\n",
    "            \n",
    "        # Reset metrics at the end of each epoch\n",
    "        train_acc_metric.reset_states()\n",
    "        val_acc_metric.reset_states()"
   ],
   "metadata": {
    "collapsed": false,
    "ExecuteTime": {
     "end_time": "2024-09-09T16:40:49.036910400Z",
     "start_time": "2024-09-09T16:35:50.614577200Z"
    }
   },
   "id": "3e0bd5d2f2123c06",
   "execution_count": 24
  },
  {
   "cell_type": "markdown",
   "source": [
    "\n",
    "1. Call `metric.update_state()` after each batch\n",
    "2. Call `metric.result()` when we need to display the current value of the metric\n",
    "3. Call `metric.reset_states()` when we need to clear the state of the metric, typically we do this at the very end of an epoch.\n"
   ],
   "metadata": {
    "collapsed": false
   },
   "id": "7c7818cd537c5f06"
  },
  {
   "cell_type": "code",
   "outputs": [
    {
     "name": "stderr",
     "output_type": "stream",
     "text": [
      "WARNING:absl:Found untraced functions such as conv2d_22_layer_call_fn, conv2d_22_layer_call_and_return_conditional_losses, _jit_compiled_convolution_op, conv_module_23_layer_call_fn, conv_module_23_layer_call_and_return_conditional_losses while saving (showing 5 of 113). These functions will not be directly callable after loading.\n"
     ]
    },
    {
     "name": "stdout",
     "output_type": "stream",
     "text": [
      "INFO:tensorflow:Assets written to: net\\assets\n"
     ]
    },
    {
     "name": "stderr",
     "output_type": "stream",
     "text": [
      "INFO:tensorflow:Assets written to: net\\assets\n"
     ]
    }
   ],
   "source": [
    "model.save('net', save_format='tf')"
   ],
   "metadata": {
    "collapsed": false,
    "ExecuteTime": {
     "end_time": "2024-09-09T16:40:54.193207500Z",
     "start_time": "2024-09-09T16:40:49.039753500Z"
    }
   },
   "id": "dc5e992fcdcf7fd3",
   "execution_count": 25
  },
  {
   "cell_type": "code",
   "outputs": [],
   "source": [
    "new_model = keras.models.load_model(\"net\", compile=False)\n"
   ],
   "metadata": {
    "collapsed": false,
    "ExecuteTime": {
     "end_time": "2024-09-09T16:40:56.319887300Z",
     "start_time": "2024-09-09T16:40:54.194245500Z"
    }
   },
   "id": "8f03e811bc3e2469",
   "execution_count": 26
  },
  {
   "cell_type": "code",
   "outputs": [],
   "source": [
    "model.save_weights('net.h5')"
   ],
   "metadata": {
    "collapsed": false,
    "ExecuteTime": {
     "end_time": "2024-09-09T16:40:56.446151Z",
     "start_time": "2024-09-09T16:40:56.319887300Z"
    }
   },
   "id": "815bd761c50a57ab",
   "execution_count": 27
  },
  {
   "cell_type": "code",
   "outputs": [],
   "source": [
    "new_model = InceptionModel()\n",
    "# new_model.load_weights('net.h5') # Unable to load weights saved in HDF5 format into a subclassed Model which has not created its variables yet. \n",
    "\n",
    "new_model.build((None,*x_train.shape[1:]))"
   ],
   "metadata": {
    "collapsed": false,
    "ExecuteTime": {
     "end_time": "2024-09-09T16:40:56.744679600Z",
     "start_time": "2024-09-09T16:40:56.447150200Z"
    }
   },
   "id": "eeafc8808a1b26f9",
   "execution_count": 28
  },
  {
   "cell_type": "code",
   "outputs": [
    {
     "name": "stdout",
     "output_type": "stream",
     "text": [
      "188/188 [==============================] - 2s 6ms/step\n",
      "              precision    recall  f1-score   support\n",
      "\n",
      "    airplane       0.80      0.76      0.78       607\n",
      "  automobile       0.97      0.77      0.86       623\n",
      "        bird       0.89      0.32      0.47       585\n",
      "         cat       0.25      0.98      0.40       586\n",
      "        deer       0.73      0.62      0.67       577\n",
      "         dog       0.90      0.31      0.46       589\n",
      "        frog       0.88      0.47      0.61       602\n",
      "       horse       0.94      0.54      0.69       608\n",
      "        ship       0.94      0.76      0.84       619\n",
      "       truck       0.86      0.84      0.85       604\n",
      "\n",
      "    accuracy                           0.64      6000\n",
      "   macro avg       0.82      0.64      0.66      6000\n",
      "weighted avg       0.82      0.64      0.67      6000\n"
     ]
    }
   ],
   "source": [
    "Y_pred = model.predict(x_test, verbose=1)\n",
    "y_pred = np.argmax(Y_pred, axis=1)\n",
    "\n",
    "target_names = [\n",
    "      'airplane', 'automobile', 'bird', 'cat', 'deer',\n",
    "      'dog', 'frog', 'horse', 'ship', 'truck'\n",
    "]\n",
    "\n",
    "from sklearn.metrics import classification_report,roc_auc_score,confusion_matrix\n",
    "class_report = classification_report(\n",
    "      y_test, \n",
    "      y_pred,target_names=target_names\n",
    ")\n",
    "\n",
    "print(class_report)"
   ],
   "metadata": {
    "collapsed": false,
    "ExecuteTime": {
     "end_time": "2024-09-09T16:40:58.949672900Z",
     "start_time": "2024-09-09T16:40:56.746734800Z"
    }
   },
   "id": "a1728df0311f827a",
   "execution_count": 29
  },
  {
   "cell_type": "code",
   "outputs": [
    {
     "data": {
      "text/plain": "0.7986550979795026"
     },
     "execution_count": 30,
     "metadata": {},
     "output_type": "execute_result"
    }
   ],
   "source": [
    "from sklearn.preprocessing import LabelBinarizer\n",
    "def multiclass_roc_auc_score(\n",
    "      y_test, y_pred, average=\"macro\"\n",
    "):\n",
    "    lb = LabelBinarizer()\n",
    "    lb.fit(y_test)\n",
    "    y_test = lb.transform(y_test)\n",
    "    y_pred = lb.transform(y_pred)\n",
    "    return roc_auc_score(y_test, y_pred, average=average)\n",
    "\n",
    "\n",
    "multiclass_roc_auc_score(y_test,y_pred)"
   ],
   "metadata": {
    "collapsed": false,
    "ExecuteTime": {
     "end_time": "2024-09-09T16:40:58.986914500Z",
     "start_time": "2024-09-09T16:40:58.951729600Z"
    }
   },
   "id": "1638c7520d79f8ca",
   "execution_count": 30
  },
  {
   "cell_type": "code",
   "outputs": [
    {
     "name": "stdout",
     "output_type": "stream",
     "text": [
      "188/188 - 1s - 1s/epoch - 6ms/step\n"
     ]
    },
    {
     "data": {
      "text/plain": "<Figure size 1000x1000 with 2 Axes>",
      "image/png": "[encoded data removed]"
     },
     "metadata": {},
     "output_type": "display_data"
    }
   ],
   "source": [
    "import seaborn as sns\n",
    "Y_pred = model.predict(x_test, verbose=2)\n",
    "y_pred = np.argmax(Y_pred, axis=1)\n",
    "\n",
    "cm = confusion_matrix(y_test, y_pred)\n",
    "cm = pd.DataFrame(cm, range(10),range(10))\n",
    "plt.figure(figsize = (10,10))\n",
    "\n",
    "sns.heatmap(cm, annot=True, annot_kws={\"size\": 12}) # font size\n",
    "plt.show()"
   ],
   "metadata": {
    "collapsed": false,
    "ExecuteTime": {
     "end_time": "2024-09-09T16:41:00.594226500Z",
     "start_time": "2024-09-09T16:40:58.983226200Z"
    }
   },
   "id": "1260fb4e25cefb78",
   "execution_count": 31
  }
 ],
 "metadata": {
  "kernelspec": {
   "display_name": "Python 3",
   "language": "python",
   "name": "python3"
  },
  "language_info": {
   "codemirror_mode": {
    "name": "ipython",
    "version": 2
   },
   "file_extension": ".py",
   "mimetype": "text/x-python",
   "name": "python",
   "nbconvert_exporter": "python",
   "pygments_lexer": "ipython2",
   "version": "2.7.6"
  }
 },
 "nbformat": 4,
 "nbformat_minor": 5
}
